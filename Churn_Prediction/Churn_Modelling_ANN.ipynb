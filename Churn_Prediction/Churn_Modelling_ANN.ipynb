{
  "nbformat": 4,
  "nbformat_minor": 0,
  "metadata": {
    "colab": {
      "name": "Churn_Modelling_ANN.ipynb",
      "provenance": []
    },
    "kernelspec": {
      "name": "python3",
      "display_name": "Python 3"
    }
  },
  "cells": [
    {
      "cell_type": "code",
      "metadata": {
        "id": "8cklsiCfnA2s"
      },
      "source": [
        "import numpy as np\n",
        "import pandas as pd\n",
        "import matplotlib.pyplot as plt\n",
        "import tensorflow as tf"
      ],
      "execution_count": 1,
      "outputs": []
    },
    {
      "cell_type": "code",
      "metadata": {
        "id": "EzLV27yeo6pf",
        "outputId": "fd5244c4-2597-443a-fa63-85f62b3b8943",
        "colab": {
          "base_uri": "https://localhost:8080/",
          "height": 35
        }
      },
      "source": [
        "tf.__version__"
      ],
      "execution_count": 2,
      "outputs": [
        {
          "output_type": "execute_result",
          "data": {
            "application/vnd.google.colaboratory.intrinsic+json": {
              "type": "string"
            },
            "text/plain": [
              "'2.3.0'"
            ]
          },
          "metadata": {
            "tags": []
          },
          "execution_count": 2
        }
      ]
    },
    {
      "cell_type": "code",
      "metadata": {
        "id": "djo56KO8o-Hw"
      },
      "source": [
        "df = pd.read_csv('Churn_Modelling.csv')"
      ],
      "execution_count": 3,
      "outputs": []
    },
    {
      "cell_type": "code",
      "metadata": {
        "id": "pNsWdVDLpGEf",
        "outputId": "777dd003-0244-499a-a79b-65340f521435",
        "colab": {
          "base_uri": "https://localhost:8080/",
          "height": 218
        }
      },
      "source": [
        "df.head()"
      ],
      "execution_count": 4,
      "outputs": [
        {
          "output_type": "execute_result",
          "data": {
            "text/html": [
              "<div>\n",
              "<style scoped>\n",
              "    .dataframe tbody tr th:only-of-type {\n",
              "        vertical-align: middle;\n",
              "    }\n",
              "\n",
              "    .dataframe tbody tr th {\n",
              "        vertical-align: top;\n",
              "    }\n",
              "\n",
              "    .dataframe thead th {\n",
              "        text-align: right;\n",
              "    }\n",
              "</style>\n",
              "<table border=\"1\" class=\"dataframe\">\n",
              "  <thead>\n",
              "    <tr style=\"text-align: right;\">\n",
              "      <th></th>\n",
              "      <th>RowNumber</th>\n",
              "      <th>CustomerId</th>\n",
              "      <th>Surname</th>\n",
              "      <th>CreditScore</th>\n",
              "      <th>Geography</th>\n",
              "      <th>Gender</th>\n",
              "      <th>Age</th>\n",
              "      <th>Tenure</th>\n",
              "      <th>Balance</th>\n",
              "      <th>NumOfProducts</th>\n",
              "      <th>HasCrCard</th>\n",
              "      <th>IsActiveMember</th>\n",
              "      <th>EstimatedSalary</th>\n",
              "      <th>Exited</th>\n",
              "    </tr>\n",
              "  </thead>\n",
              "  <tbody>\n",
              "    <tr>\n",
              "      <th>0</th>\n",
              "      <td>1</td>\n",
              "      <td>15634602</td>\n",
              "      <td>Hargrave</td>\n",
              "      <td>619</td>\n",
              "      <td>France</td>\n",
              "      <td>Female</td>\n",
              "      <td>42</td>\n",
              "      <td>2</td>\n",
              "      <td>0.00</td>\n",
              "      <td>1</td>\n",
              "      <td>1</td>\n",
              "      <td>1</td>\n",
              "      <td>101348.88</td>\n",
              "      <td>1</td>\n",
              "    </tr>\n",
              "    <tr>\n",
              "      <th>1</th>\n",
              "      <td>2</td>\n",
              "      <td>15647311</td>\n",
              "      <td>Hill</td>\n",
              "      <td>608</td>\n",
              "      <td>Spain</td>\n",
              "      <td>Female</td>\n",
              "      <td>41</td>\n",
              "      <td>1</td>\n",
              "      <td>83807.86</td>\n",
              "      <td>1</td>\n",
              "      <td>0</td>\n",
              "      <td>1</td>\n",
              "      <td>112542.58</td>\n",
              "      <td>0</td>\n",
              "    </tr>\n",
              "    <tr>\n",
              "      <th>2</th>\n",
              "      <td>3</td>\n",
              "      <td>15619304</td>\n",
              "      <td>Onio</td>\n",
              "      <td>502</td>\n",
              "      <td>France</td>\n",
              "      <td>Female</td>\n",
              "      <td>42</td>\n",
              "      <td>8</td>\n",
              "      <td>159660.80</td>\n",
              "      <td>3</td>\n",
              "      <td>1</td>\n",
              "      <td>0</td>\n",
              "      <td>113931.57</td>\n",
              "      <td>1</td>\n",
              "    </tr>\n",
              "    <tr>\n",
              "      <th>3</th>\n",
              "      <td>4</td>\n",
              "      <td>15701354</td>\n",
              "      <td>Boni</td>\n",
              "      <td>699</td>\n",
              "      <td>France</td>\n",
              "      <td>Female</td>\n",
              "      <td>39</td>\n",
              "      <td>1</td>\n",
              "      <td>0.00</td>\n",
              "      <td>2</td>\n",
              "      <td>0</td>\n",
              "      <td>0</td>\n",
              "      <td>93826.63</td>\n",
              "      <td>0</td>\n",
              "    </tr>\n",
              "    <tr>\n",
              "      <th>4</th>\n",
              "      <td>5</td>\n",
              "      <td>15737888</td>\n",
              "      <td>Mitchell</td>\n",
              "      <td>850</td>\n",
              "      <td>Spain</td>\n",
              "      <td>Female</td>\n",
              "      <td>43</td>\n",
              "      <td>2</td>\n",
              "      <td>125510.82</td>\n",
              "      <td>1</td>\n",
              "      <td>1</td>\n",
              "      <td>1</td>\n",
              "      <td>79084.10</td>\n",
              "      <td>0</td>\n",
              "    </tr>\n",
              "  </tbody>\n",
              "</table>\n",
              "</div>"
            ],
            "text/plain": [
              "   RowNumber  CustomerId   Surname  ...  IsActiveMember EstimatedSalary Exited\n",
              "0          1    15634602  Hargrave  ...               1       101348.88      1\n",
              "1          2    15647311      Hill  ...               1       112542.58      0\n",
              "2          3    15619304      Onio  ...               0       113931.57      1\n",
              "3          4    15701354      Boni  ...               0        93826.63      0\n",
              "4          5    15737888  Mitchell  ...               1        79084.10      0\n",
              "\n",
              "[5 rows x 14 columns]"
            ]
          },
          "metadata": {
            "tags": []
          },
          "execution_count": 4
        }
      ]
    },
    {
      "cell_type": "code",
      "metadata": {
        "id": "eEzSiXv2pHVS"
      },
      "source": [
        "X = df.iloc[:,3:-1].values\n",
        "y = df.iloc[:,-1].values"
      ],
      "execution_count": 5,
      "outputs": []
    },
    {
      "cell_type": "code",
      "metadata": {
        "id": "fKARlbIJp5Zv",
        "outputId": "125a4aca-3143-4610-e1cc-bd1d95d32ed6",
        "colab": {
          "base_uri": "https://localhost:8080/",
          "height": 217
        }
      },
      "source": [
        "X[:10]"
      ],
      "execution_count": 6,
      "outputs": [
        {
          "output_type": "execute_result",
          "data": {
            "text/plain": [
              "array([[619, 'France', 'Female', 42, 2, 0.0, 1, 1, 1, 101348.88],\n",
              "       [608, 'Spain', 'Female', 41, 1, 83807.86, 1, 0, 1, 112542.58],\n",
              "       [502, 'France', 'Female', 42, 8, 159660.8, 3, 1, 0, 113931.57],\n",
              "       [699, 'France', 'Female', 39, 1, 0.0, 2, 0, 0, 93826.63],\n",
              "       [850, 'Spain', 'Female', 43, 2, 125510.82, 1, 1, 1, 79084.1],\n",
              "       [645, 'Spain', 'Male', 44, 8, 113755.78, 2, 1, 0, 149756.71],\n",
              "       [822, 'France', 'Male', 50, 7, 0.0, 2, 1, 1, 10062.8],\n",
              "       [376, 'Germany', 'Female', 29, 4, 115046.74, 4, 1, 0, 119346.88],\n",
              "       [501, 'France', 'Male', 44, 4, 142051.07, 2, 0, 1, 74940.5],\n",
              "       [684, 'France', 'Male', 27, 2, 134603.88, 1, 1, 1, 71725.73]],\n",
              "      dtype=object)"
            ]
          },
          "metadata": {
            "tags": []
          },
          "execution_count": 6
        }
      ]
    },
    {
      "cell_type": "code",
      "metadata": {
        "id": "zW-l18-Dp9l1",
        "outputId": "d5e56c58-0bc7-4f44-e1d5-7fee8c6f7a2d",
        "colab": {
          "base_uri": "https://localhost:8080/",
          "height": 35
        }
      },
      "source": [
        "y[:10]"
      ],
      "execution_count": 7,
      "outputs": [
        {
          "output_type": "execute_result",
          "data": {
            "text/plain": [
              "array([1, 0, 1, 0, 0, 1, 0, 1, 0, 0])"
            ]
          },
          "metadata": {
            "tags": []
          },
          "execution_count": 7
        }
      ]
    },
    {
      "cell_type": "code",
      "metadata": {
        "id": "0vKRVxYVp_PL",
        "outputId": "201767d7-6a54-48aa-c71d-f6744fa987d4",
        "colab": {
          "base_uri": "https://localhost:8080/",
          "height": 290
        }
      },
      "source": [
        "df.isnull().sum()"
      ],
      "execution_count": 8,
      "outputs": [
        {
          "output_type": "execute_result",
          "data": {
            "text/plain": [
              "RowNumber          0\n",
              "CustomerId         0\n",
              "Surname            0\n",
              "CreditScore        0\n",
              "Geography          0\n",
              "Gender             0\n",
              "Age                0\n",
              "Tenure             0\n",
              "Balance            0\n",
              "NumOfProducts      0\n",
              "HasCrCard          0\n",
              "IsActiveMember     0\n",
              "EstimatedSalary    0\n",
              "Exited             0\n",
              "dtype: int64"
            ]
          },
          "metadata": {
            "tags": []
          },
          "execution_count": 8
        }
      ]
    },
    {
      "cell_type": "code",
      "metadata": {
        "id": "HOZO4Rq9qSzt"
      },
      "source": [
        "from sklearn.preprocessing import LabelEncoder\n",
        "le = LabelEncoder()\n",
        "X[:,2] = le.fit_transform(X[:,2])"
      ],
      "execution_count": 9,
      "outputs": []
    },
    {
      "cell_type": "code",
      "metadata": {
        "id": "ihMum0y_qjmE",
        "outputId": "4ea622f4-6ca3-4df3-8607-7aabb4de28b4",
        "colab": {
          "base_uri": "https://localhost:8080/",
          "height": 217
        }
      },
      "source": [
        "X[:10]"
      ],
      "execution_count": 10,
      "outputs": [
        {
          "output_type": "execute_result",
          "data": {
            "text/plain": [
              "array([[619, 'France', 0, 42, 2, 0.0, 1, 1, 1, 101348.88],\n",
              "       [608, 'Spain', 0, 41, 1, 83807.86, 1, 0, 1, 112542.58],\n",
              "       [502, 'France', 0, 42, 8, 159660.8, 3, 1, 0, 113931.57],\n",
              "       [699, 'France', 0, 39, 1, 0.0, 2, 0, 0, 93826.63],\n",
              "       [850, 'Spain', 0, 43, 2, 125510.82, 1, 1, 1, 79084.1],\n",
              "       [645, 'Spain', 1, 44, 8, 113755.78, 2, 1, 0, 149756.71],\n",
              "       [822, 'France', 1, 50, 7, 0.0, 2, 1, 1, 10062.8],\n",
              "       [376, 'Germany', 0, 29, 4, 115046.74, 4, 1, 0, 119346.88],\n",
              "       [501, 'France', 1, 44, 4, 142051.07, 2, 0, 1, 74940.5],\n",
              "       [684, 'France', 1, 27, 2, 134603.88, 1, 1, 1, 71725.73]],\n",
              "      dtype=object)"
            ]
          },
          "metadata": {
            "tags": []
          },
          "execution_count": 10
        }
      ]
    },
    {
      "cell_type": "code",
      "metadata": {
        "id": "Xg4jgwAyqk_Z"
      },
      "source": [
        "from sklearn.compose import ColumnTransformer\n",
        "from sklearn.preprocessing import OneHotEncoder\n",
        "ct = ColumnTransformer(transformers=[('eyuncoder', OneHotEncoder(),[1])], remainder='passthrough')\n",
        "X = np.array(ct.fit_transform(X))"
      ],
      "execution_count": 11,
      "outputs": []
    },
    {
      "cell_type": "code",
      "metadata": {
        "id": "2qJnPPYsrxkY",
        "outputId": "96bcb516-e8ab-47d2-b254-908f420fae2f",
        "colab": {
          "base_uri": "https://localhost:8080/",
          "height": 217
        }
      },
      "source": [
        "X[:10]"
      ],
      "execution_count": 12,
      "outputs": [
        {
          "output_type": "execute_result",
          "data": {
            "text/plain": [
              "array([[1.0, 0.0, 0.0, 619, 0, 42, 2, 0.0, 1, 1, 1, 101348.88],\n",
              "       [0.0, 0.0, 1.0, 608, 0, 41, 1, 83807.86, 1, 0, 1, 112542.58],\n",
              "       [1.0, 0.0, 0.0, 502, 0, 42, 8, 159660.8, 3, 1, 0, 113931.57],\n",
              "       [1.0, 0.0, 0.0, 699, 0, 39, 1, 0.0, 2, 0, 0, 93826.63],\n",
              "       [0.0, 0.0, 1.0, 850, 0, 43, 2, 125510.82, 1, 1, 1, 79084.1],\n",
              "       [0.0, 0.0, 1.0, 645, 1, 44, 8, 113755.78, 2, 1, 0, 149756.71],\n",
              "       [1.0, 0.0, 0.0, 822, 1, 50, 7, 0.0, 2, 1, 1, 10062.8],\n",
              "       [0.0, 1.0, 0.0, 376, 0, 29, 4, 115046.74, 4, 1, 0, 119346.88],\n",
              "       [1.0, 0.0, 0.0, 501, 1, 44, 4, 142051.07, 2, 0, 1, 74940.5],\n",
              "       [1.0, 0.0, 0.0, 684, 1, 27, 2, 134603.88, 1, 1, 1, 71725.73]],\n",
              "      dtype=object)"
            ]
          },
          "metadata": {
            "tags": []
          },
          "execution_count": 12
        }
      ]
    },
    {
      "cell_type": "code",
      "metadata": {
        "id": "eCQbjJYUr0Zj"
      },
      "source": [
        "from sklearn.model_selection import train_test_split\n",
        "X_train, X_test, y_train, y_test = train_test_split(X,y,test_size=0.2,random_state=0)"
      ],
      "execution_count": 15,
      "outputs": []
    },
    {
      "cell_type": "code",
      "metadata": {
        "id": "1ulP2IlUsYPW"
      },
      "source": [
        "from sklearn.preprocessing import StandardScaler\n",
        "sc = StandardScaler()\n",
        "X_train = sc.fit_transform(X_train)\n",
        "X_test = sc.transform(X_test)"
      ],
      "execution_count": 16,
      "outputs": []
    },
    {
      "cell_type": "code",
      "metadata": {
        "id": "fU2Is_TFsrXF"
      },
      "source": [
        "ann = tf.keras.models.Sequential()"
      ],
      "execution_count": 17,
      "outputs": []
    },
    {
      "cell_type": "code",
      "metadata": {
        "id": "P7zoYXlwuiax"
      },
      "source": [
        "ann.add(tf.keras.layers.Dense(units=6,activation='relu'))\n",
        "ann.add(tf.keras.layers.Dense(units=6,activation='relu'))\n",
        "ann.add(tf.keras.layers.Dense(units=1,activation='sigmoid'))"
      ],
      "execution_count": 19,
      "outputs": []
    },
    {
      "cell_type": "code",
      "metadata": {
        "id": "lz45cv6Ivw-3"
      },
      "source": [
        "ann.compile(optimizer='adam',loss='binary_crossentropy',metrics=['accuracy'])"
      ],
      "execution_count": 20,
      "outputs": []
    },
    {
      "cell_type": "code",
      "metadata": {
        "id": "rJ254A62y-bb",
        "outputId": "372d30d2-5d12-4b4e-8a67-69f380151710",
        "colab": {
          "base_uri": "https://localhost:8080/",
          "height": 1000
        }
      },
      "source": [
        "ann.fit(X_train,y_train,batch_size=32,epochs=100)"
      ],
      "execution_count": 22,
      "outputs": [
        {
          "output_type": "stream",
          "text": [
            "Epoch 1/100\n",
            "250/250 [==============================] - 0s 885us/step - loss: 0.5571 - accuracy: 0.7343\n",
            "Epoch 2/100\n",
            "250/250 [==============================] - 0s 1ms/step - loss: 0.4614 - accuracy: 0.8006\n",
            "Epoch 3/100\n",
            "250/250 [==============================] - 0s 964us/step - loss: 0.4373 - accuracy: 0.8060\n",
            "Epoch 4/100\n",
            "250/250 [==============================] - 0s 970us/step - loss: 0.4267 - accuracy: 0.8121\n",
            "Epoch 5/100\n",
            "250/250 [==============================] - 0s 1ms/step - loss: 0.4197 - accuracy: 0.8175\n",
            "Epoch 6/100\n",
            "250/250 [==============================] - 0s 1ms/step - loss: 0.4139 - accuracy: 0.8232\n",
            "Epoch 7/100\n",
            "250/250 [==============================] - 0s 1ms/step - loss: 0.4072 - accuracy: 0.8286\n",
            "Epoch 8/100\n",
            "250/250 [==============================] - 0s 948us/step - loss: 0.3995 - accuracy: 0.8344\n",
            "Epoch 9/100\n",
            "250/250 [==============================] - 0s 897us/step - loss: 0.3891 - accuracy: 0.8382\n",
            "Epoch 10/100\n",
            "250/250 [==============================] - 0s 1ms/step - loss: 0.3777 - accuracy: 0.8443\n",
            "Epoch 11/100\n",
            "250/250 [==============================] - 0s 953us/step - loss: 0.3680 - accuracy: 0.8494\n",
            "Epoch 12/100\n",
            "250/250 [==============================] - 0s 961us/step - loss: 0.3612 - accuracy: 0.8511\n",
            "Epoch 13/100\n",
            "250/250 [==============================] - 0s 924us/step - loss: 0.3566 - accuracy: 0.8528\n",
            "Epoch 14/100\n",
            "250/250 [==============================] - 0s 926us/step - loss: 0.3537 - accuracy: 0.8540\n",
            "Epoch 15/100\n",
            "250/250 [==============================] - 0s 939us/step - loss: 0.3512 - accuracy: 0.8549\n",
            "Epoch 16/100\n",
            "250/250 [==============================] - 0s 919us/step - loss: 0.3497 - accuracy: 0.8555\n",
            "Epoch 17/100\n",
            "250/250 [==============================] - 0s 925us/step - loss: 0.3488 - accuracy: 0.8575\n",
            "Epoch 18/100\n",
            "250/250 [==============================] - 0s 918us/step - loss: 0.3473 - accuracy: 0.8587\n",
            "Epoch 19/100\n",
            "250/250 [==============================] - 0s 928us/step - loss: 0.3467 - accuracy: 0.8596\n",
            "Epoch 20/100\n",
            "250/250 [==============================] - 0s 948us/step - loss: 0.3460 - accuracy: 0.8601\n",
            "Epoch 21/100\n",
            "250/250 [==============================] - 0s 954us/step - loss: 0.3455 - accuracy: 0.8581\n",
            "Epoch 22/100\n",
            "250/250 [==============================] - 0s 922us/step - loss: 0.3454 - accuracy: 0.8580\n",
            "Epoch 23/100\n",
            "250/250 [==============================] - 0s 935us/step - loss: 0.3445 - accuracy: 0.8593\n",
            "Epoch 24/100\n",
            "250/250 [==============================] - 0s 899us/step - loss: 0.3440 - accuracy: 0.8591\n",
            "Epoch 25/100\n",
            "250/250 [==============================] - 0s 931us/step - loss: 0.3438 - accuracy: 0.8597\n",
            "Epoch 26/100\n",
            "250/250 [==============================] - 0s 1ms/step - loss: 0.3433 - accuracy: 0.8609\n",
            "Epoch 27/100\n",
            "250/250 [==============================] - 0s 923us/step - loss: 0.3425 - accuracy: 0.8590\n",
            "Epoch 28/100\n",
            "250/250 [==============================] - 0s 913us/step - loss: 0.3429 - accuracy: 0.8593\n",
            "Epoch 29/100\n",
            "250/250 [==============================] - 0s 980us/step - loss: 0.3424 - accuracy: 0.8591\n",
            "Epoch 30/100\n",
            "250/250 [==============================] - 0s 999us/step - loss: 0.3423 - accuracy: 0.8608\n",
            "Epoch 31/100\n",
            "250/250 [==============================] - 0s 1ms/step - loss: 0.3418 - accuracy: 0.8609\n",
            "Epoch 32/100\n",
            "250/250 [==============================] - 0s 927us/step - loss: 0.3415 - accuracy: 0.8620\n",
            "Epoch 33/100\n",
            "250/250 [==============================] - 0s 914us/step - loss: 0.3415 - accuracy: 0.8620\n",
            "Epoch 34/100\n",
            "250/250 [==============================] - 0s 928us/step - loss: 0.3413 - accuracy: 0.8609\n",
            "Epoch 35/100\n",
            "250/250 [==============================] - 0s 974us/step - loss: 0.3406 - accuracy: 0.8620\n",
            "Epoch 36/100\n",
            "250/250 [==============================] - 0s 943us/step - loss: 0.3402 - accuracy: 0.8615\n",
            "Epoch 37/100\n",
            "250/250 [==============================] - 0s 992us/step - loss: 0.3402 - accuracy: 0.8621\n",
            "Epoch 38/100\n",
            "250/250 [==============================] - 0s 937us/step - loss: 0.3396 - accuracy: 0.8627\n",
            "Epoch 39/100\n",
            "250/250 [==============================] - 0s 939us/step - loss: 0.3397 - accuracy: 0.8608\n",
            "Epoch 40/100\n",
            "250/250 [==============================] - 0s 908us/step - loss: 0.3392 - accuracy: 0.8619\n",
            "Epoch 41/100\n",
            "250/250 [==============================] - 0s 935us/step - loss: 0.3390 - accuracy: 0.8625\n",
            "Epoch 42/100\n",
            "250/250 [==============================] - 0s 943us/step - loss: 0.3389 - accuracy: 0.8622\n",
            "Epoch 43/100\n",
            "250/250 [==============================] - 0s 925us/step - loss: 0.3388 - accuracy: 0.8629\n",
            "Epoch 44/100\n",
            "250/250 [==============================] - 0s 967us/step - loss: 0.3383 - accuracy: 0.8631\n",
            "Epoch 45/100\n",
            "250/250 [==============================] - 0s 944us/step - loss: 0.3385 - accuracy: 0.8616\n",
            "Epoch 46/100\n",
            "250/250 [==============================] - 0s 935us/step - loss: 0.3380 - accuracy: 0.8629\n",
            "Epoch 47/100\n",
            "250/250 [==============================] - 0s 960us/step - loss: 0.3375 - accuracy: 0.8636\n",
            "Epoch 48/100\n",
            "250/250 [==============================] - 0s 956us/step - loss: 0.3374 - accuracy: 0.8626\n",
            "Epoch 49/100\n",
            "250/250 [==============================] - 0s 993us/step - loss: 0.3375 - accuracy: 0.8620\n",
            "Epoch 50/100\n",
            "250/250 [==============================] - 0s 961us/step - loss: 0.3365 - accuracy: 0.8630\n",
            "Epoch 51/100\n",
            "250/250 [==============================] - 0s 898us/step - loss: 0.3366 - accuracy: 0.8626\n",
            "Epoch 52/100\n",
            "250/250 [==============================] - 0s 933us/step - loss: 0.3360 - accuracy: 0.8626\n",
            "Epoch 53/100\n",
            "250/250 [==============================] - 0s 901us/step - loss: 0.3359 - accuracy: 0.8634\n",
            "Epoch 54/100\n",
            "250/250 [==============================] - 0s 936us/step - loss: 0.3358 - accuracy: 0.8619\n",
            "Epoch 55/100\n",
            "250/250 [==============================] - 0s 902us/step - loss: 0.3357 - accuracy: 0.8636\n",
            "Epoch 56/100\n",
            "250/250 [==============================] - 0s 927us/step - loss: 0.3354 - accuracy: 0.8629\n",
            "Epoch 57/100\n",
            "250/250 [==============================] - 0s 939us/step - loss: 0.3349 - accuracy: 0.8619\n",
            "Epoch 58/100\n",
            "250/250 [==============================] - 0s 950us/step - loss: 0.3346 - accuracy: 0.8621\n",
            "Epoch 59/100\n",
            "250/250 [==============================] - 0s 958us/step - loss: 0.3346 - accuracy: 0.8641\n",
            "Epoch 60/100\n",
            "250/250 [==============================] - 0s 941us/step - loss: 0.3349 - accuracy: 0.8608\n",
            "Epoch 61/100\n",
            "250/250 [==============================] - 0s 950us/step - loss: 0.3343 - accuracy: 0.8620\n",
            "Epoch 62/100\n",
            "250/250 [==============================] - 0s 914us/step - loss: 0.3344 - accuracy: 0.8621\n",
            "Epoch 63/100\n",
            "250/250 [==============================] - 0s 928us/step - loss: 0.3346 - accuracy: 0.8633\n",
            "Epoch 64/100\n",
            "250/250 [==============================] - 0s 1ms/step - loss: 0.3339 - accuracy: 0.8624\n",
            "Epoch 65/100\n",
            "250/250 [==============================] - 0s 905us/step - loss: 0.3336 - accuracy: 0.8635\n",
            "Epoch 66/100\n",
            "250/250 [==============================] - 0s 948us/step - loss: 0.3338 - accuracy: 0.8616\n",
            "Epoch 67/100\n",
            "250/250 [==============================] - 0s 1ms/step - loss: 0.3337 - accuracy: 0.8625\n",
            "Epoch 68/100\n",
            "250/250 [==============================] - 0s 944us/step - loss: 0.3335 - accuracy: 0.8620\n",
            "Epoch 69/100\n",
            "250/250 [==============================] - 0s 954us/step - loss: 0.3337 - accuracy: 0.8640\n",
            "Epoch 70/100\n",
            "250/250 [==============================] - 0s 895us/step - loss: 0.3335 - accuracy: 0.8612\n",
            "Epoch 71/100\n",
            "250/250 [==============================] - 0s 964us/step - loss: 0.3334 - accuracy: 0.8615\n",
            "Epoch 72/100\n",
            "250/250 [==============================] - 0s 942us/step - loss: 0.3331 - accuracy: 0.8619\n",
            "Epoch 73/100\n",
            "250/250 [==============================] - 0s 938us/step - loss: 0.3326 - accuracy: 0.8619\n",
            "Epoch 74/100\n",
            "250/250 [==============================] - 0s 933us/step - loss: 0.3325 - accuracy: 0.8618\n",
            "Epoch 75/100\n",
            "250/250 [==============================] - 0s 932us/step - loss: 0.3324 - accuracy: 0.8627\n",
            "Epoch 76/100\n",
            "250/250 [==============================] - 0s 907us/step - loss: 0.3324 - accuracy: 0.8611\n",
            "Epoch 77/100\n",
            "250/250 [==============================] - 0s 989us/step - loss: 0.3325 - accuracy: 0.8621\n",
            "Epoch 78/100\n",
            "250/250 [==============================] - 0s 912us/step - loss: 0.3319 - accuracy: 0.8615\n",
            "Epoch 79/100\n",
            "250/250 [==============================] - 0s 961us/step - loss: 0.3318 - accuracy: 0.8633\n",
            "Epoch 80/100\n",
            "250/250 [==============================] - 0s 895us/step - loss: 0.3318 - accuracy: 0.8608\n",
            "Epoch 81/100\n",
            "250/250 [==============================] - 0s 942us/step - loss: 0.3318 - accuracy: 0.8626\n",
            "Epoch 82/100\n",
            "250/250 [==============================] - 0s 895us/step - loss: 0.3316 - accuracy: 0.8629\n",
            "Epoch 83/100\n",
            "250/250 [==============================] - 0s 904us/step - loss: 0.3319 - accuracy: 0.8619\n",
            "Epoch 84/100\n",
            "250/250 [==============================] - 0s 939us/step - loss: 0.3315 - accuracy: 0.8625\n",
            "Epoch 85/100\n",
            "250/250 [==============================] - 0s 911us/step - loss: 0.3318 - accuracy: 0.8616\n",
            "Epoch 86/100\n",
            "250/250 [==============================] - 0s 1ms/step - loss: 0.3318 - accuracy: 0.8614\n",
            "Epoch 87/100\n",
            "250/250 [==============================] - 0s 971us/step - loss: 0.3317 - accuracy: 0.8615\n",
            "Epoch 88/100\n",
            "250/250 [==============================] - 0s 959us/step - loss: 0.3312 - accuracy: 0.8639\n",
            "Epoch 89/100\n",
            "250/250 [==============================] - 0s 932us/step - loss: 0.3315 - accuracy: 0.8635\n",
            "Epoch 90/100\n",
            "250/250 [==============================] - 0s 930us/step - loss: 0.3313 - accuracy: 0.8610\n",
            "Epoch 91/100\n",
            "250/250 [==============================] - 0s 917us/step - loss: 0.3312 - accuracy: 0.8636\n",
            "Epoch 92/100\n",
            "250/250 [==============================] - 0s 1ms/step - loss: 0.3313 - accuracy: 0.8631\n",
            "Epoch 93/100\n",
            "250/250 [==============================] - 0s 1ms/step - loss: 0.3310 - accuracy: 0.8629\n",
            "Epoch 94/100\n",
            "250/250 [==============================] - 0s 906us/step - loss: 0.3307 - accuracy: 0.8637\n",
            "Epoch 95/100\n",
            "250/250 [==============================] - 0s 935us/step - loss: 0.3311 - accuracy: 0.8619\n",
            "Epoch 96/100\n",
            "250/250 [==============================] - 0s 949us/step - loss: 0.3309 - accuracy: 0.8629\n",
            "Epoch 97/100\n",
            "250/250 [==============================] - 0s 975us/step - loss: 0.3312 - accuracy: 0.8635\n",
            "Epoch 98/100\n",
            "250/250 [==============================] - 0s 979us/step - loss: 0.3305 - accuracy: 0.8633\n",
            "Epoch 99/100\n",
            "250/250 [==============================] - 0s 912us/step - loss: 0.3307 - accuracy: 0.8621\n",
            "Epoch 100/100\n",
            "250/250 [==============================] - 0s 941us/step - loss: 0.3305 - accuracy: 0.8618\n"
          ],
          "name": "stdout"
        },
        {
          "output_type": "execute_result",
          "data": {
            "text/plain": [
              "<tensorflow.python.keras.callbacks.History at 0x7f9c8c277828>"
            ]
          },
          "metadata": {
            "tags": []
          },
          "execution_count": 22
        }
      ]
    },
    {
      "cell_type": "code",
      "metadata": {
        "id": "H7RfhZyUzqNA"
      },
      "source": [
        "y_pred = ann.predict(X_test)"
      ],
      "execution_count": 55,
      "outputs": []
    },
    {
      "cell_type": "code",
      "metadata": {
        "id": "f-ySlGkD3tgz"
      },
      "source": [
        "y_pred = (y_pred > 0.5)"
      ],
      "execution_count": 56,
      "outputs": []
    },
    {
      "cell_type": "code",
      "metadata": {
        "id": "gPyeNnx451nC",
        "outputId": "2f5a3d9a-80fe-4d54-f7d2-773d45cda63b",
        "colab": {
          "base_uri": "https://localhost:8080/",
          "height": 145
        }
      },
      "source": [
        "print(np.concatenate((y_pred.reshape(len(y_pred),1),y_test.reshape(len(y_test),1)),1))"
      ],
      "execution_count": 58,
      "outputs": [
        {
          "output_type": "stream",
          "text": [
            "[[0 0]\n",
            " [0 1]\n",
            " [0 0]\n",
            " ...\n",
            " [0 0]\n",
            " [0 0]\n",
            " [0 0]]\n"
          ],
          "name": "stdout"
        }
      ]
    },
    {
      "cell_type": "code",
      "metadata": {
        "id": "ER4RZ31C6gRq",
        "outputId": "c8a85fc6-dc2e-4632-cff0-1da22af219f7",
        "colab": {
          "base_uri": "https://localhost:8080/",
          "height": 72
        }
      },
      "source": [
        "from sklearn.metrics import confusion_matrix,accuracy_score\n",
        "print(accuracy_score(y_test,y_pred))\n",
        "cm = confusion_matrix(y_test,y_pred)\n",
        "print(cm)"
      ],
      "execution_count": 60,
      "outputs": [
        {
          "output_type": "stream",
          "text": [
            "0.8565\n",
            "[[1501   94]\n",
            " [ 193  212]]\n"
          ],
          "name": "stdout"
        }
      ]
    },
    {
      "cell_type": "markdown",
      "metadata": {
        "id": "ACJJ6a2E76gb"
      },
      "source": [
        "0 - Stays in the Bank\n",
        "\n",
        "---\n",
        "\n",
        "\n",
        "1- Leaves the Bank"
      ]
    },
    {
      "cell_type": "code",
      "metadata": {
        "id": "y0Q2Q9VEQx4J"
      },
      "source": [
        ""
      ],
      "execution_count": null,
      "outputs": []
    }
  ]
}