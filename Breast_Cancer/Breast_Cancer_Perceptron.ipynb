{
  "nbformat": 4,
  "nbformat_minor": 0,
  "metadata": {
    "colab": {
      "name": "Breast_Cancer_Perceptron.ipynb",
      "provenance": []
    },
    "kernelspec": {
      "name": "python3",
      "display_name": "Python 3"
    }
  },
  "cells": [
    {
      "cell_type": "markdown",
      "metadata": {
        "id": "2hvxktFayZM_"
      },
      "source": [
        "# **Loading Dataset**"
      ]
    },
    {
      "cell_type": "code",
      "metadata": {
        "id": "TruI-hH7vFCj"
      },
      "source": [
        "import sklearn.datasets as datasets\n",
        "import numpy as np"
      ],
      "execution_count": 1,
      "outputs": []
    },
    {
      "cell_type": "code",
      "metadata": {
        "id": "0ESHwz7TvhLL"
      },
      "source": [
        "breast_cancer = datasets.load_breast_cancer()"
      ],
      "execution_count": 2,
      "outputs": []
    },
    {
      "cell_type": "code",
      "metadata": {
        "id": "4l6qxA6WvoOx"
      },
      "source": [
        "X = breast_cancer.data\n",
        "y = breast_cancer.target"
      ],
      "execution_count": 4,
      "outputs": []
    },
    {
      "cell_type": "code",
      "metadata": {
        "id": "bjqDN0udvvFK",
        "outputId": "75539e7a-1ebc-4988-b757-0f30bc55c906",
        "colab": {
          "base_uri": "https://localhost:8080/",
          "height": 199
        }
      },
      "source": [
        "breast_cancer.feature_names"
      ],
      "execution_count": 5,
      "outputs": [
        {
          "output_type": "execute_result",
          "data": {
            "text/plain": [
              "array(['mean radius', 'mean texture', 'mean perimeter', 'mean area',\n",
              "       'mean smoothness', 'mean compactness', 'mean concavity',\n",
              "       'mean concave points', 'mean symmetry', 'mean fractal dimension',\n",
              "       'radius error', 'texture error', 'perimeter error', 'area error',\n",
              "       'smoothness error', 'compactness error', 'concavity error',\n",
              "       'concave points error', 'symmetry error',\n",
              "       'fractal dimension error', 'worst radius', 'worst texture',\n",
              "       'worst perimeter', 'worst area', 'worst smoothness',\n",
              "       'worst compactness', 'worst concavity', 'worst concave points',\n",
              "       'worst symmetry', 'worst fractal dimension'], dtype='<U23')"
            ]
          },
          "metadata": {
            "tags": []
          },
          "execution_count": 5
        }
      ]
    },
    {
      "cell_type": "code",
      "metadata": {
        "id": "AriZ0nOAvypq",
        "outputId": "2340c3ee-b772-4a03-fe22-7d3369d04902",
        "colab": {
          "base_uri": "https://localhost:8080/",
          "height": 435
        }
      },
      "source": [
        "print(X)\n",
        "print(y)"
      ],
      "execution_count": 6,
      "outputs": [
        {
          "output_type": "stream",
          "text": [
            "[[1.799e+01 1.038e+01 1.228e+02 ... 2.654e-01 4.601e-01 1.189e-01]\n",
            " [2.057e+01 1.777e+01 1.329e+02 ... 1.860e-01 2.750e-01 8.902e-02]\n",
            " [1.969e+01 2.125e+01 1.300e+02 ... 2.430e-01 3.613e-01 8.758e-02]\n",
            " ...\n",
            " [1.660e+01 2.808e+01 1.083e+02 ... 1.418e-01 2.218e-01 7.820e-02]\n",
            " [2.060e+01 2.933e+01 1.401e+02 ... 2.650e-01 4.087e-01 1.240e-01]\n",
            " [7.760e+00 2.454e+01 4.792e+01 ... 0.000e+00 2.871e-01 7.039e-02]]\n",
            "[0 0 0 0 0 0 0 0 0 0 0 0 0 0 0 0 0 0 0 1 1 1 0 0 0 0 0 0 0 0 0 0 0 0 0 0 0\n",
            " 1 0 0 0 0 0 0 0 0 1 0 1 1 1 1 1 0 0 1 0 0 1 1 1 1 0 1 0 0 1 1 1 1 0 1 0 0\n",
            " 1 0 1 0 0 1 1 1 0 0 1 0 0 0 1 1 1 0 1 1 0 0 1 1 1 0 0 1 1 1 1 0 1 1 0 1 1\n",
            " 1 1 1 1 1 1 0 0 0 1 0 0 1 1 1 0 0 1 0 1 0 0 1 0 0 1 1 0 1 1 0 1 1 1 1 0 1\n",
            " 1 1 1 1 1 1 1 1 0 1 1 1 1 0 0 1 0 1 1 0 0 1 1 0 0 1 1 1 1 0 1 1 0 0 0 1 0\n",
            " 1 0 1 1 1 0 1 1 0 0 1 0 0 0 0 1 0 0 0 1 0 1 0 1 1 0 1 0 0 0 0 1 1 0 0 1 1\n",
            " 1 0 1 1 1 1 1 0 0 1 1 0 1 1 0 0 1 0 1 1 1 1 0 1 1 1 1 1 0 1 0 0 0 0 0 0 0\n",
            " 0 0 0 0 0 0 0 1 1 1 1 1 1 0 1 0 1 1 0 1 1 0 1 0 0 1 1 1 1 1 1 1 1 1 1 1 1\n",
            " 1 0 1 1 0 1 0 1 1 1 1 1 1 1 1 1 1 1 1 1 1 0 1 1 1 0 1 0 1 1 1 1 0 0 0 1 1\n",
            " 1 1 0 1 0 1 0 1 1 1 0 1 1 1 1 1 1 1 0 0 0 1 1 1 1 1 1 1 1 1 1 1 0 0 1 0 0\n",
            " 0 1 0 0 1 1 1 1 1 0 1 1 1 1 1 0 1 1 1 0 1 1 0 0 1 1 1 1 1 1 0 1 1 1 1 1 1\n",
            " 1 0 1 1 1 1 1 0 1 1 0 1 1 1 1 1 1 1 1 1 1 1 1 0 1 0 0 1 0 1 1 1 1 1 0 1 1\n",
            " 0 1 0 1 1 0 1 0 1 1 1 1 1 1 1 1 0 0 1 1 1 1 1 1 0 1 1 1 1 1 1 1 1 1 1 0 1\n",
            " 1 1 1 1 1 1 0 1 0 1 1 0 1 1 1 1 1 0 0 1 0 1 0 1 1 1 1 1 0 1 1 0 1 0 1 0 0\n",
            " 1 1 1 0 1 1 1 1 1 1 1 1 1 1 1 0 1 0 0 1 1 1 1 1 1 1 1 1 1 1 1 1 1 1 1 1 1\n",
            " 1 1 1 1 1 1 1 0 0 0 0 0 0 1]\n"
          ],
          "name": "stdout"
        }
      ]
    },
    {
      "cell_type": "code",
      "metadata": {
        "id": "rc3OlQ6Pv2Oa",
        "outputId": "e63b1e68-44e5-4cdf-c42a-2a7f07ed8c8b",
        "colab": {
          "base_uri": "https://localhost:8080/",
          "height": 54
        }
      },
      "source": [
        "print(X.shape)\n",
        "print(y.shape)"
      ],
      "execution_count": 7,
      "outputs": [
        {
          "output_type": "stream",
          "text": [
            "(569, 30)\n",
            "(569,)\n"
          ],
          "name": "stdout"
        }
      ]
    },
    {
      "cell_type": "code",
      "metadata": {
        "id": "f5N3y_eNv82e",
        "outputId": "823e2316-07b3-4e75-805e-2647026e7525",
        "colab": {
          "base_uri": "https://localhost:8080/",
          "height": 253
        }
      },
      "source": [
        "import pandas as pd\n",
        "df = pd.DataFrame(breast_cancer.data,columns=breast_cancer.feature_names)\n",
        "df['class'] = breast_cancer.target\n",
        "df.head()"
      ],
      "execution_count": 8,
      "outputs": [
        {
          "output_type": "execute_result",
          "data": {
            "text/html": [
              "<div>\n",
              "<style scoped>\n",
              "    .dataframe tbody tr th:only-of-type {\n",
              "        vertical-align: middle;\n",
              "    }\n",
              "\n",
              "    .dataframe tbody tr th {\n",
              "        vertical-align: top;\n",
              "    }\n",
              "\n",
              "    .dataframe thead th {\n",
              "        text-align: right;\n",
              "    }\n",
              "</style>\n",
              "<table border=\"1\" class=\"dataframe\">\n",
              "  <thead>\n",
              "    <tr style=\"text-align: right;\">\n",
              "      <th></th>\n",
              "      <th>mean radius</th>\n",
              "      <th>mean texture</th>\n",
              "      <th>mean perimeter</th>\n",
              "      <th>mean area</th>\n",
              "      <th>mean smoothness</th>\n",
              "      <th>mean compactness</th>\n",
              "      <th>mean concavity</th>\n",
              "      <th>mean concave points</th>\n",
              "      <th>mean symmetry</th>\n",
              "      <th>mean fractal dimension</th>\n",
              "      <th>radius error</th>\n",
              "      <th>texture error</th>\n",
              "      <th>perimeter error</th>\n",
              "      <th>area error</th>\n",
              "      <th>smoothness error</th>\n",
              "      <th>compactness error</th>\n",
              "      <th>concavity error</th>\n",
              "      <th>concave points error</th>\n",
              "      <th>symmetry error</th>\n",
              "      <th>fractal dimension error</th>\n",
              "      <th>worst radius</th>\n",
              "      <th>worst texture</th>\n",
              "      <th>worst perimeter</th>\n",
              "      <th>worst area</th>\n",
              "      <th>worst smoothness</th>\n",
              "      <th>worst compactness</th>\n",
              "      <th>worst concavity</th>\n",
              "      <th>worst concave points</th>\n",
              "      <th>worst symmetry</th>\n",
              "      <th>worst fractal dimension</th>\n",
              "      <th>class</th>\n",
              "    </tr>\n",
              "  </thead>\n",
              "  <tbody>\n",
              "    <tr>\n",
              "      <th>0</th>\n",
              "      <td>17.99</td>\n",
              "      <td>10.38</td>\n",
              "      <td>122.80</td>\n",
              "      <td>1001.0</td>\n",
              "      <td>0.11840</td>\n",
              "      <td>0.27760</td>\n",
              "      <td>0.3001</td>\n",
              "      <td>0.14710</td>\n",
              "      <td>0.2419</td>\n",
              "      <td>0.07871</td>\n",
              "      <td>1.0950</td>\n",
              "      <td>0.9053</td>\n",
              "      <td>8.589</td>\n",
              "      <td>153.40</td>\n",
              "      <td>0.006399</td>\n",
              "      <td>0.04904</td>\n",
              "      <td>0.05373</td>\n",
              "      <td>0.01587</td>\n",
              "      <td>0.03003</td>\n",
              "      <td>0.006193</td>\n",
              "      <td>25.38</td>\n",
              "      <td>17.33</td>\n",
              "      <td>184.60</td>\n",
              "      <td>2019.0</td>\n",
              "      <td>0.1622</td>\n",
              "      <td>0.6656</td>\n",
              "      <td>0.7119</td>\n",
              "      <td>0.2654</td>\n",
              "      <td>0.4601</td>\n",
              "      <td>0.11890</td>\n",
              "      <td>0</td>\n",
              "    </tr>\n",
              "    <tr>\n",
              "      <th>1</th>\n",
              "      <td>20.57</td>\n",
              "      <td>17.77</td>\n",
              "      <td>132.90</td>\n",
              "      <td>1326.0</td>\n",
              "      <td>0.08474</td>\n",
              "      <td>0.07864</td>\n",
              "      <td>0.0869</td>\n",
              "      <td>0.07017</td>\n",
              "      <td>0.1812</td>\n",
              "      <td>0.05667</td>\n",
              "      <td>0.5435</td>\n",
              "      <td>0.7339</td>\n",
              "      <td>3.398</td>\n",
              "      <td>74.08</td>\n",
              "      <td>0.005225</td>\n",
              "      <td>0.01308</td>\n",
              "      <td>0.01860</td>\n",
              "      <td>0.01340</td>\n",
              "      <td>0.01389</td>\n",
              "      <td>0.003532</td>\n",
              "      <td>24.99</td>\n",
              "      <td>23.41</td>\n",
              "      <td>158.80</td>\n",
              "      <td>1956.0</td>\n",
              "      <td>0.1238</td>\n",
              "      <td>0.1866</td>\n",
              "      <td>0.2416</td>\n",
              "      <td>0.1860</td>\n",
              "      <td>0.2750</td>\n",
              "      <td>0.08902</td>\n",
              "      <td>0</td>\n",
              "    </tr>\n",
              "    <tr>\n",
              "      <th>2</th>\n",
              "      <td>19.69</td>\n",
              "      <td>21.25</td>\n",
              "      <td>130.00</td>\n",
              "      <td>1203.0</td>\n",
              "      <td>0.10960</td>\n",
              "      <td>0.15990</td>\n",
              "      <td>0.1974</td>\n",
              "      <td>0.12790</td>\n",
              "      <td>0.2069</td>\n",
              "      <td>0.05999</td>\n",
              "      <td>0.7456</td>\n",
              "      <td>0.7869</td>\n",
              "      <td>4.585</td>\n",
              "      <td>94.03</td>\n",
              "      <td>0.006150</td>\n",
              "      <td>0.04006</td>\n",
              "      <td>0.03832</td>\n",
              "      <td>0.02058</td>\n",
              "      <td>0.02250</td>\n",
              "      <td>0.004571</td>\n",
              "      <td>23.57</td>\n",
              "      <td>25.53</td>\n",
              "      <td>152.50</td>\n",
              "      <td>1709.0</td>\n",
              "      <td>0.1444</td>\n",
              "      <td>0.4245</td>\n",
              "      <td>0.4504</td>\n",
              "      <td>0.2430</td>\n",
              "      <td>0.3613</td>\n",
              "      <td>0.08758</td>\n",
              "      <td>0</td>\n",
              "    </tr>\n",
              "    <tr>\n",
              "      <th>3</th>\n",
              "      <td>11.42</td>\n",
              "      <td>20.38</td>\n",
              "      <td>77.58</td>\n",
              "      <td>386.1</td>\n",
              "      <td>0.14250</td>\n",
              "      <td>0.28390</td>\n",
              "      <td>0.2414</td>\n",
              "      <td>0.10520</td>\n",
              "      <td>0.2597</td>\n",
              "      <td>0.09744</td>\n",
              "      <td>0.4956</td>\n",
              "      <td>1.1560</td>\n",
              "      <td>3.445</td>\n",
              "      <td>27.23</td>\n",
              "      <td>0.009110</td>\n",
              "      <td>0.07458</td>\n",
              "      <td>0.05661</td>\n",
              "      <td>0.01867</td>\n",
              "      <td>0.05963</td>\n",
              "      <td>0.009208</td>\n",
              "      <td>14.91</td>\n",
              "      <td>26.50</td>\n",
              "      <td>98.87</td>\n",
              "      <td>567.7</td>\n",
              "      <td>0.2098</td>\n",
              "      <td>0.8663</td>\n",
              "      <td>0.6869</td>\n",
              "      <td>0.2575</td>\n",
              "      <td>0.6638</td>\n",
              "      <td>0.17300</td>\n",
              "      <td>0</td>\n",
              "    </tr>\n",
              "    <tr>\n",
              "      <th>4</th>\n",
              "      <td>20.29</td>\n",
              "      <td>14.34</td>\n",
              "      <td>135.10</td>\n",
              "      <td>1297.0</td>\n",
              "      <td>0.10030</td>\n",
              "      <td>0.13280</td>\n",
              "      <td>0.1980</td>\n",
              "      <td>0.10430</td>\n",
              "      <td>0.1809</td>\n",
              "      <td>0.05883</td>\n",
              "      <td>0.7572</td>\n",
              "      <td>0.7813</td>\n",
              "      <td>5.438</td>\n",
              "      <td>94.44</td>\n",
              "      <td>0.011490</td>\n",
              "      <td>0.02461</td>\n",
              "      <td>0.05688</td>\n",
              "      <td>0.01885</td>\n",
              "      <td>0.01756</td>\n",
              "      <td>0.005115</td>\n",
              "      <td>22.54</td>\n",
              "      <td>16.67</td>\n",
              "      <td>152.20</td>\n",
              "      <td>1575.0</td>\n",
              "      <td>0.1374</td>\n",
              "      <td>0.2050</td>\n",
              "      <td>0.4000</td>\n",
              "      <td>0.1625</td>\n",
              "      <td>0.2364</td>\n",
              "      <td>0.07678</td>\n",
              "      <td>0</td>\n",
              "    </tr>\n",
              "  </tbody>\n",
              "</table>\n",
              "</div>"
            ],
            "text/plain": [
              "   mean radius  mean texture  ...  worst fractal dimension  class\n",
              "0        17.99         10.38  ...                  0.11890      0\n",
              "1        20.57         17.77  ...                  0.08902      0\n",
              "2        19.69         21.25  ...                  0.08758      0\n",
              "3        11.42         20.38  ...                  0.17300      0\n",
              "4        20.29         14.34  ...                  0.07678      0\n",
              "\n",
              "[5 rows x 31 columns]"
            ]
          },
          "metadata": {
            "tags": []
          },
          "execution_count": 8
        }
      ]
    },
    {
      "cell_type": "code",
      "metadata": {
        "id": "vf4dKzYVwOUF",
        "outputId": "997fb9be-888c-4674-8c88-81cbeb0c9f6f",
        "colab": {
          "base_uri": "https://localhost:8080/",
          "height": 343
        }
      },
      "source": [
        "df.describe()"
      ],
      "execution_count": 9,
      "outputs": [
        {
          "output_type": "execute_result",
          "data": {
            "text/html": [
              "<div>\n",
              "<style scoped>\n",
              "    .dataframe tbody tr th:only-of-type {\n",
              "        vertical-align: middle;\n",
              "    }\n",
              "\n",
              "    .dataframe tbody tr th {\n",
              "        vertical-align: top;\n",
              "    }\n",
              "\n",
              "    .dataframe thead th {\n",
              "        text-align: right;\n",
              "    }\n",
              "</style>\n",
              "<table border=\"1\" class=\"dataframe\">\n",
              "  <thead>\n",
              "    <tr style=\"text-align: right;\">\n",
              "      <th></th>\n",
              "      <th>mean radius</th>\n",
              "      <th>mean texture</th>\n",
              "      <th>mean perimeter</th>\n",
              "      <th>mean area</th>\n",
              "      <th>mean smoothness</th>\n",
              "      <th>mean compactness</th>\n",
              "      <th>mean concavity</th>\n",
              "      <th>mean concave points</th>\n",
              "      <th>mean symmetry</th>\n",
              "      <th>mean fractal dimension</th>\n",
              "      <th>radius error</th>\n",
              "      <th>texture error</th>\n",
              "      <th>perimeter error</th>\n",
              "      <th>area error</th>\n",
              "      <th>smoothness error</th>\n",
              "      <th>compactness error</th>\n",
              "      <th>concavity error</th>\n",
              "      <th>concave points error</th>\n",
              "      <th>symmetry error</th>\n",
              "      <th>fractal dimension error</th>\n",
              "      <th>worst radius</th>\n",
              "      <th>worst texture</th>\n",
              "      <th>worst perimeter</th>\n",
              "      <th>worst area</th>\n",
              "      <th>worst smoothness</th>\n",
              "      <th>worst compactness</th>\n",
              "      <th>worst concavity</th>\n",
              "      <th>worst concave points</th>\n",
              "      <th>worst symmetry</th>\n",
              "      <th>worst fractal dimension</th>\n",
              "      <th>class</th>\n",
              "    </tr>\n",
              "  </thead>\n",
              "  <tbody>\n",
              "    <tr>\n",
              "      <th>count</th>\n",
              "      <td>569.000000</td>\n",
              "      <td>569.000000</td>\n",
              "      <td>569.000000</td>\n",
              "      <td>569.000000</td>\n",
              "      <td>569.000000</td>\n",
              "      <td>569.000000</td>\n",
              "      <td>569.000000</td>\n",
              "      <td>569.000000</td>\n",
              "      <td>569.000000</td>\n",
              "      <td>569.000000</td>\n",
              "      <td>569.000000</td>\n",
              "      <td>569.000000</td>\n",
              "      <td>569.000000</td>\n",
              "      <td>569.000000</td>\n",
              "      <td>569.000000</td>\n",
              "      <td>569.000000</td>\n",
              "      <td>569.000000</td>\n",
              "      <td>569.000000</td>\n",
              "      <td>569.000000</td>\n",
              "      <td>569.000000</td>\n",
              "      <td>569.000000</td>\n",
              "      <td>569.000000</td>\n",
              "      <td>569.000000</td>\n",
              "      <td>569.000000</td>\n",
              "      <td>569.000000</td>\n",
              "      <td>569.000000</td>\n",
              "      <td>569.000000</td>\n",
              "      <td>569.000000</td>\n",
              "      <td>569.000000</td>\n",
              "      <td>569.000000</td>\n",
              "      <td>569.000000</td>\n",
              "    </tr>\n",
              "    <tr>\n",
              "      <th>mean</th>\n",
              "      <td>14.127292</td>\n",
              "      <td>19.289649</td>\n",
              "      <td>91.969033</td>\n",
              "      <td>654.889104</td>\n",
              "      <td>0.096360</td>\n",
              "      <td>0.104341</td>\n",
              "      <td>0.088799</td>\n",
              "      <td>0.048919</td>\n",
              "      <td>0.181162</td>\n",
              "      <td>0.062798</td>\n",
              "      <td>0.405172</td>\n",
              "      <td>1.216853</td>\n",
              "      <td>2.866059</td>\n",
              "      <td>40.337079</td>\n",
              "      <td>0.007041</td>\n",
              "      <td>0.025478</td>\n",
              "      <td>0.031894</td>\n",
              "      <td>0.011796</td>\n",
              "      <td>0.020542</td>\n",
              "      <td>0.003795</td>\n",
              "      <td>16.269190</td>\n",
              "      <td>25.677223</td>\n",
              "      <td>107.261213</td>\n",
              "      <td>880.583128</td>\n",
              "      <td>0.132369</td>\n",
              "      <td>0.254265</td>\n",
              "      <td>0.272188</td>\n",
              "      <td>0.114606</td>\n",
              "      <td>0.290076</td>\n",
              "      <td>0.083946</td>\n",
              "      <td>0.627417</td>\n",
              "    </tr>\n",
              "    <tr>\n",
              "      <th>std</th>\n",
              "      <td>3.524049</td>\n",
              "      <td>4.301036</td>\n",
              "      <td>24.298981</td>\n",
              "      <td>351.914129</td>\n",
              "      <td>0.014064</td>\n",
              "      <td>0.052813</td>\n",
              "      <td>0.079720</td>\n",
              "      <td>0.038803</td>\n",
              "      <td>0.027414</td>\n",
              "      <td>0.007060</td>\n",
              "      <td>0.277313</td>\n",
              "      <td>0.551648</td>\n",
              "      <td>2.021855</td>\n",
              "      <td>45.491006</td>\n",
              "      <td>0.003003</td>\n",
              "      <td>0.017908</td>\n",
              "      <td>0.030186</td>\n",
              "      <td>0.006170</td>\n",
              "      <td>0.008266</td>\n",
              "      <td>0.002646</td>\n",
              "      <td>4.833242</td>\n",
              "      <td>6.146258</td>\n",
              "      <td>33.602542</td>\n",
              "      <td>569.356993</td>\n",
              "      <td>0.022832</td>\n",
              "      <td>0.157336</td>\n",
              "      <td>0.208624</td>\n",
              "      <td>0.065732</td>\n",
              "      <td>0.061867</td>\n",
              "      <td>0.018061</td>\n",
              "      <td>0.483918</td>\n",
              "    </tr>\n",
              "    <tr>\n",
              "      <th>min</th>\n",
              "      <td>6.981000</td>\n",
              "      <td>9.710000</td>\n",
              "      <td>43.790000</td>\n",
              "      <td>143.500000</td>\n",
              "      <td>0.052630</td>\n",
              "      <td>0.019380</td>\n",
              "      <td>0.000000</td>\n",
              "      <td>0.000000</td>\n",
              "      <td>0.106000</td>\n",
              "      <td>0.049960</td>\n",
              "      <td>0.111500</td>\n",
              "      <td>0.360200</td>\n",
              "      <td>0.757000</td>\n",
              "      <td>6.802000</td>\n",
              "      <td>0.001713</td>\n",
              "      <td>0.002252</td>\n",
              "      <td>0.000000</td>\n",
              "      <td>0.000000</td>\n",
              "      <td>0.007882</td>\n",
              "      <td>0.000895</td>\n",
              "      <td>7.930000</td>\n",
              "      <td>12.020000</td>\n",
              "      <td>50.410000</td>\n",
              "      <td>185.200000</td>\n",
              "      <td>0.071170</td>\n",
              "      <td>0.027290</td>\n",
              "      <td>0.000000</td>\n",
              "      <td>0.000000</td>\n",
              "      <td>0.156500</td>\n",
              "      <td>0.055040</td>\n",
              "      <td>0.000000</td>\n",
              "    </tr>\n",
              "    <tr>\n",
              "      <th>25%</th>\n",
              "      <td>11.700000</td>\n",
              "      <td>16.170000</td>\n",
              "      <td>75.170000</td>\n",
              "      <td>420.300000</td>\n",
              "      <td>0.086370</td>\n",
              "      <td>0.064920</td>\n",
              "      <td>0.029560</td>\n",
              "      <td>0.020310</td>\n",
              "      <td>0.161900</td>\n",
              "      <td>0.057700</td>\n",
              "      <td>0.232400</td>\n",
              "      <td>0.833900</td>\n",
              "      <td>1.606000</td>\n",
              "      <td>17.850000</td>\n",
              "      <td>0.005169</td>\n",
              "      <td>0.013080</td>\n",
              "      <td>0.015090</td>\n",
              "      <td>0.007638</td>\n",
              "      <td>0.015160</td>\n",
              "      <td>0.002248</td>\n",
              "      <td>13.010000</td>\n",
              "      <td>21.080000</td>\n",
              "      <td>84.110000</td>\n",
              "      <td>515.300000</td>\n",
              "      <td>0.116600</td>\n",
              "      <td>0.147200</td>\n",
              "      <td>0.114500</td>\n",
              "      <td>0.064930</td>\n",
              "      <td>0.250400</td>\n",
              "      <td>0.071460</td>\n",
              "      <td>0.000000</td>\n",
              "    </tr>\n",
              "    <tr>\n",
              "      <th>50%</th>\n",
              "      <td>13.370000</td>\n",
              "      <td>18.840000</td>\n",
              "      <td>86.240000</td>\n",
              "      <td>551.100000</td>\n",
              "      <td>0.095870</td>\n",
              "      <td>0.092630</td>\n",
              "      <td>0.061540</td>\n",
              "      <td>0.033500</td>\n",
              "      <td>0.179200</td>\n",
              "      <td>0.061540</td>\n",
              "      <td>0.324200</td>\n",
              "      <td>1.108000</td>\n",
              "      <td>2.287000</td>\n",
              "      <td>24.530000</td>\n",
              "      <td>0.006380</td>\n",
              "      <td>0.020450</td>\n",
              "      <td>0.025890</td>\n",
              "      <td>0.010930</td>\n",
              "      <td>0.018730</td>\n",
              "      <td>0.003187</td>\n",
              "      <td>14.970000</td>\n",
              "      <td>25.410000</td>\n",
              "      <td>97.660000</td>\n",
              "      <td>686.500000</td>\n",
              "      <td>0.131300</td>\n",
              "      <td>0.211900</td>\n",
              "      <td>0.226700</td>\n",
              "      <td>0.099930</td>\n",
              "      <td>0.282200</td>\n",
              "      <td>0.080040</td>\n",
              "      <td>1.000000</td>\n",
              "    </tr>\n",
              "    <tr>\n",
              "      <th>75%</th>\n",
              "      <td>15.780000</td>\n",
              "      <td>21.800000</td>\n",
              "      <td>104.100000</td>\n",
              "      <td>782.700000</td>\n",
              "      <td>0.105300</td>\n",
              "      <td>0.130400</td>\n",
              "      <td>0.130700</td>\n",
              "      <td>0.074000</td>\n",
              "      <td>0.195700</td>\n",
              "      <td>0.066120</td>\n",
              "      <td>0.478900</td>\n",
              "      <td>1.474000</td>\n",
              "      <td>3.357000</td>\n",
              "      <td>45.190000</td>\n",
              "      <td>0.008146</td>\n",
              "      <td>0.032450</td>\n",
              "      <td>0.042050</td>\n",
              "      <td>0.014710</td>\n",
              "      <td>0.023480</td>\n",
              "      <td>0.004558</td>\n",
              "      <td>18.790000</td>\n",
              "      <td>29.720000</td>\n",
              "      <td>125.400000</td>\n",
              "      <td>1084.000000</td>\n",
              "      <td>0.146000</td>\n",
              "      <td>0.339100</td>\n",
              "      <td>0.382900</td>\n",
              "      <td>0.161400</td>\n",
              "      <td>0.317900</td>\n",
              "      <td>0.092080</td>\n",
              "      <td>1.000000</td>\n",
              "    </tr>\n",
              "    <tr>\n",
              "      <th>max</th>\n",
              "      <td>28.110000</td>\n",
              "      <td>39.280000</td>\n",
              "      <td>188.500000</td>\n",
              "      <td>2501.000000</td>\n",
              "      <td>0.163400</td>\n",
              "      <td>0.345400</td>\n",
              "      <td>0.426800</td>\n",
              "      <td>0.201200</td>\n",
              "      <td>0.304000</td>\n",
              "      <td>0.097440</td>\n",
              "      <td>2.873000</td>\n",
              "      <td>4.885000</td>\n",
              "      <td>21.980000</td>\n",
              "      <td>542.200000</td>\n",
              "      <td>0.031130</td>\n",
              "      <td>0.135400</td>\n",
              "      <td>0.396000</td>\n",
              "      <td>0.052790</td>\n",
              "      <td>0.078950</td>\n",
              "      <td>0.029840</td>\n",
              "      <td>36.040000</td>\n",
              "      <td>49.540000</td>\n",
              "      <td>251.200000</td>\n",
              "      <td>4254.000000</td>\n",
              "      <td>0.222600</td>\n",
              "      <td>1.058000</td>\n",
              "      <td>1.252000</td>\n",
              "      <td>0.291000</td>\n",
              "      <td>0.663800</td>\n",
              "      <td>0.207500</td>\n",
              "      <td>1.000000</td>\n",
              "    </tr>\n",
              "  </tbody>\n",
              "</table>\n",
              "</div>"
            ],
            "text/plain": [
              "       mean radius  mean texture  ...  worst fractal dimension       class\n",
              "count   569.000000    569.000000  ...               569.000000  569.000000\n",
              "mean     14.127292     19.289649  ...                 0.083946    0.627417\n",
              "std       3.524049      4.301036  ...                 0.018061    0.483918\n",
              "min       6.981000      9.710000  ...                 0.055040    0.000000\n",
              "25%      11.700000     16.170000  ...                 0.071460    0.000000\n",
              "50%      13.370000     18.840000  ...                 0.080040    1.000000\n",
              "75%      15.780000     21.800000  ...                 0.092080    1.000000\n",
              "max      28.110000     39.280000  ...                 0.207500    1.000000\n",
              "\n",
              "[8 rows x 31 columns]"
            ]
          },
          "metadata": {
            "tags": []
          },
          "execution_count": 9
        }
      ]
    },
    {
      "cell_type": "code",
      "metadata": {
        "id": "V3iNYju_wYio",
        "outputId": "bb992eed-82bc-4602-d15e-090cc2b2fb0b",
        "colab": {
          "base_uri": "https://localhost:8080/",
          "height": 35
        }
      },
      "source": [
        "print(np.array(df['class'] == 1).sum())"
      ],
      "execution_count": 13,
      "outputs": [
        {
          "output_type": "stream",
          "text": [
            "357\n"
          ],
          "name": "stdout"
        }
      ]
    },
    {
      "cell_type": "code",
      "metadata": {
        "id": "tYzxUt48wdCp",
        "outputId": "8dcd7880-abfc-47a5-d6db-441209b02914",
        "colab": {
          "base_uri": "https://localhost:8080/",
          "height": 72
        }
      },
      "source": [
        "print(df['class'].value_counts())"
      ],
      "execution_count": 10,
      "outputs": [
        {
          "output_type": "stream",
          "text": [
            "1    357\n",
            "0    212\n",
            "Name: class, dtype: int64\n"
          ],
          "name": "stdout"
        }
      ]
    },
    {
      "cell_type": "code",
      "metadata": {
        "id": "_QVl6-lcfyrw",
        "outputId": "4827a3ed-be89-4579-ae0d-69d99a3f659b",
        "colab": {
          "base_uri": "https://localhost:8080/",
          "height": 490
        }
      },
      "source": [
        "breast_cancer.target"
      ],
      "execution_count": 11,
      "outputs": [
        {
          "output_type": "execute_result",
          "data": {
            "text/plain": [
              "array([0, 0, 0, 0, 0, 0, 0, 0, 0, 0, 0, 0, 0, 0, 0, 0, 0, 0, 0, 1, 1, 1,\n",
              "       0, 0, 0, 0, 0, 0, 0, 0, 0, 0, 0, 0, 0, 0, 0, 1, 0, 0, 0, 0, 0, 0,\n",
              "       0, 0, 1, 0, 1, 1, 1, 1, 1, 0, 0, 1, 0, 0, 1, 1, 1, 1, 0, 1, 0, 0,\n",
              "       1, 1, 1, 1, 0, 1, 0, 0, 1, 0, 1, 0, 0, 1, 1, 1, 0, 0, 1, 0, 0, 0,\n",
              "       1, 1, 1, 0, 1, 1, 0, 0, 1, 1, 1, 0, 0, 1, 1, 1, 1, 0, 1, 1, 0, 1,\n",
              "       1, 1, 1, 1, 1, 1, 1, 0, 0, 0, 1, 0, 0, 1, 1, 1, 0, 0, 1, 0, 1, 0,\n",
              "       0, 1, 0, 0, 1, 1, 0, 1, 1, 0, 1, 1, 1, 1, 0, 1, 1, 1, 1, 1, 1, 1,\n",
              "       1, 1, 0, 1, 1, 1, 1, 0, 0, 1, 0, 1, 1, 0, 0, 1, 1, 0, 0, 1, 1, 1,\n",
              "       1, 0, 1, 1, 0, 0, 0, 1, 0, 1, 0, 1, 1, 1, 0, 1, 1, 0, 0, 1, 0, 0,\n",
              "       0, 0, 1, 0, 0, 0, 1, 0, 1, 0, 1, 1, 0, 1, 0, 0, 0, 0, 1, 1, 0, 0,\n",
              "       1, 1, 1, 0, 1, 1, 1, 1, 1, 0, 0, 1, 1, 0, 1, 1, 0, 0, 1, 0, 1, 1,\n",
              "       1, 1, 0, 1, 1, 1, 1, 1, 0, 1, 0, 0, 0, 0, 0, 0, 0, 0, 0, 0, 0, 0,\n",
              "       0, 0, 1, 1, 1, 1, 1, 1, 0, 1, 0, 1, 1, 0, 1, 1, 0, 1, 0, 0, 1, 1,\n",
              "       1, 1, 1, 1, 1, 1, 1, 1, 1, 1, 1, 0, 1, 1, 0, 1, 0, 1, 1, 1, 1, 1,\n",
              "       1, 1, 1, 1, 1, 1, 1, 1, 1, 0, 1, 1, 1, 0, 1, 0, 1, 1, 1, 1, 0, 0,\n",
              "       0, 1, 1, 1, 1, 0, 1, 0, 1, 0, 1, 1, 1, 0, 1, 1, 1, 1, 1, 1, 1, 0,\n",
              "       0, 0, 1, 1, 1, 1, 1, 1, 1, 1, 1, 1, 1, 0, 0, 1, 0, 0, 0, 1, 0, 0,\n",
              "       1, 1, 1, 1, 1, 0, 1, 1, 1, 1, 1, 0, 1, 1, 1, 0, 1, 1, 0, 0, 1, 1,\n",
              "       1, 1, 1, 1, 0, 1, 1, 1, 1, 1, 1, 1, 0, 1, 1, 1, 1, 1, 0, 1, 1, 0,\n",
              "       1, 1, 1, 1, 1, 1, 1, 1, 1, 1, 1, 1, 0, 1, 0, 0, 1, 0, 1, 1, 1, 1,\n",
              "       1, 0, 1, 1, 0, 1, 0, 1, 1, 0, 1, 0, 1, 1, 1, 1, 1, 1, 1, 1, 0, 0,\n",
              "       1, 1, 1, 1, 1, 1, 0, 1, 1, 1, 1, 1, 1, 1, 1, 1, 1, 0, 1, 1, 1, 1,\n",
              "       1, 1, 1, 0, 1, 0, 1, 1, 0, 1, 1, 1, 1, 1, 0, 0, 1, 0, 1, 0, 1, 1,\n",
              "       1, 1, 1, 0, 1, 1, 0, 1, 0, 1, 0, 0, 1, 1, 1, 0, 1, 1, 1, 1, 1, 1,\n",
              "       1, 1, 1, 1, 1, 0, 1, 0, 0, 1, 1, 1, 1, 1, 1, 1, 1, 1, 1, 1, 1, 1,\n",
              "       1, 1, 1, 1, 1, 1, 1, 1, 1, 1, 1, 1, 0, 0, 0, 0, 0, 0, 1])"
            ]
          },
          "metadata": {
            "tags": []
          },
          "execution_count": 11
        }
      ]
    },
    {
      "cell_type": "code",
      "metadata": {
        "id": "eCIjufE5w1gp",
        "outputId": "a8ab7c73-07a6-49aa-f1a4-538350e629ec",
        "colab": {
          "base_uri": "https://localhost:8080/",
          "height": 35
        }
      },
      "source": [
        "breast_cancer.target_names"
      ],
      "execution_count": 16,
      "outputs": [
        {
          "output_type": "execute_result",
          "data": {
            "text/plain": [
              "array(['malignant', 'benign'], dtype='<U9')"
            ]
          },
          "metadata": {
            "tags": []
          },
          "execution_count": 16
        }
      ]
    },
    {
      "cell_type": "code",
      "metadata": {
        "id": "oT4hu-cKw52J",
        "outputId": "efa67a5c-15b5-4b61-c3c5-a8500388795d",
        "colab": {
          "base_uri": "https://localhost:8080/",
          "height": 193
        }
      },
      "source": [
        "df.groupby('class').mean()"
      ],
      "execution_count": 12,
      "outputs": [
        {
          "output_type": "execute_result",
          "data": {
            "text/html": [
              "<div>\n",
              "<style scoped>\n",
              "    .dataframe tbody tr th:only-of-type {\n",
              "        vertical-align: middle;\n",
              "    }\n",
              "\n",
              "    .dataframe tbody tr th {\n",
              "        vertical-align: top;\n",
              "    }\n",
              "\n",
              "    .dataframe thead th {\n",
              "        text-align: right;\n",
              "    }\n",
              "</style>\n",
              "<table border=\"1\" class=\"dataframe\">\n",
              "  <thead>\n",
              "    <tr style=\"text-align: right;\">\n",
              "      <th></th>\n",
              "      <th>mean radius</th>\n",
              "      <th>mean texture</th>\n",
              "      <th>mean perimeter</th>\n",
              "      <th>mean area</th>\n",
              "      <th>mean smoothness</th>\n",
              "      <th>mean compactness</th>\n",
              "      <th>mean concavity</th>\n",
              "      <th>mean concave points</th>\n",
              "      <th>mean symmetry</th>\n",
              "      <th>mean fractal dimension</th>\n",
              "      <th>radius error</th>\n",
              "      <th>texture error</th>\n",
              "      <th>perimeter error</th>\n",
              "      <th>area error</th>\n",
              "      <th>smoothness error</th>\n",
              "      <th>compactness error</th>\n",
              "      <th>concavity error</th>\n",
              "      <th>concave points error</th>\n",
              "      <th>symmetry error</th>\n",
              "      <th>fractal dimension error</th>\n",
              "      <th>worst radius</th>\n",
              "      <th>worst texture</th>\n",
              "      <th>worst perimeter</th>\n",
              "      <th>worst area</th>\n",
              "      <th>worst smoothness</th>\n",
              "      <th>worst compactness</th>\n",
              "      <th>worst concavity</th>\n",
              "      <th>worst concave points</th>\n",
              "      <th>worst symmetry</th>\n",
              "      <th>worst fractal dimension</th>\n",
              "    </tr>\n",
              "    <tr>\n",
              "      <th>class</th>\n",
              "      <th></th>\n",
              "      <th></th>\n",
              "      <th></th>\n",
              "      <th></th>\n",
              "      <th></th>\n",
              "      <th></th>\n",
              "      <th></th>\n",
              "      <th></th>\n",
              "      <th></th>\n",
              "      <th></th>\n",
              "      <th></th>\n",
              "      <th></th>\n",
              "      <th></th>\n",
              "      <th></th>\n",
              "      <th></th>\n",
              "      <th></th>\n",
              "      <th></th>\n",
              "      <th></th>\n",
              "      <th></th>\n",
              "      <th></th>\n",
              "      <th></th>\n",
              "      <th></th>\n",
              "      <th></th>\n",
              "      <th></th>\n",
              "      <th></th>\n",
              "      <th></th>\n",
              "      <th></th>\n",
              "      <th></th>\n",
              "      <th></th>\n",
              "      <th></th>\n",
              "    </tr>\n",
              "  </thead>\n",
              "  <tbody>\n",
              "    <tr>\n",
              "      <th>0</th>\n",
              "      <td>17.462830</td>\n",
              "      <td>21.604906</td>\n",
              "      <td>115.365377</td>\n",
              "      <td>978.376415</td>\n",
              "      <td>0.102898</td>\n",
              "      <td>0.145188</td>\n",
              "      <td>0.160775</td>\n",
              "      <td>0.087990</td>\n",
              "      <td>0.192909</td>\n",
              "      <td>0.062680</td>\n",
              "      <td>0.609083</td>\n",
              "      <td>1.210915</td>\n",
              "      <td>4.323929</td>\n",
              "      <td>72.672406</td>\n",
              "      <td>0.006780</td>\n",
              "      <td>0.032281</td>\n",
              "      <td>0.041824</td>\n",
              "      <td>0.015060</td>\n",
              "      <td>0.020472</td>\n",
              "      <td>0.004062</td>\n",
              "      <td>21.134811</td>\n",
              "      <td>29.318208</td>\n",
              "      <td>141.370330</td>\n",
              "      <td>1422.286321</td>\n",
              "      <td>0.144845</td>\n",
              "      <td>0.374824</td>\n",
              "      <td>0.450606</td>\n",
              "      <td>0.182237</td>\n",
              "      <td>0.323468</td>\n",
              "      <td>0.091530</td>\n",
              "    </tr>\n",
              "    <tr>\n",
              "      <th>1</th>\n",
              "      <td>12.146524</td>\n",
              "      <td>17.914762</td>\n",
              "      <td>78.075406</td>\n",
              "      <td>462.790196</td>\n",
              "      <td>0.092478</td>\n",
              "      <td>0.080085</td>\n",
              "      <td>0.046058</td>\n",
              "      <td>0.025717</td>\n",
              "      <td>0.174186</td>\n",
              "      <td>0.062867</td>\n",
              "      <td>0.284082</td>\n",
              "      <td>1.220380</td>\n",
              "      <td>2.000321</td>\n",
              "      <td>21.135148</td>\n",
              "      <td>0.007196</td>\n",
              "      <td>0.021438</td>\n",
              "      <td>0.025997</td>\n",
              "      <td>0.009858</td>\n",
              "      <td>0.020584</td>\n",
              "      <td>0.003636</td>\n",
              "      <td>13.379801</td>\n",
              "      <td>23.515070</td>\n",
              "      <td>87.005938</td>\n",
              "      <td>558.899440</td>\n",
              "      <td>0.124959</td>\n",
              "      <td>0.182673</td>\n",
              "      <td>0.166238</td>\n",
              "      <td>0.074444</td>\n",
              "      <td>0.270246</td>\n",
              "      <td>0.079442</td>\n",
              "    </tr>\n",
              "  </tbody>\n",
              "</table>\n",
              "</div>"
            ],
            "text/plain": [
              "       mean radius  mean texture  ...  worst symmetry  worst fractal dimension\n",
              "class                             ...                                         \n",
              "0        17.462830     21.604906  ...        0.323468                 0.091530\n",
              "1        12.146524     17.914762  ...        0.270246                 0.079442\n",
              "\n",
              "[2 rows x 30 columns]"
            ]
          },
          "metadata": {
            "tags": []
          },
          "execution_count": 12
        }
      ]
    },
    {
      "cell_type": "code",
      "metadata": {
        "id": "Re8vjuhCxDgU"
      },
      "source": [
        ""
      ],
      "execution_count": null,
      "outputs": []
    },
    {
      "cell_type": "markdown",
      "metadata": {
        "id": "0MptLVXSyoCq"
      },
      "source": [
        "# **Train Test Split** "
      ]
    },
    {
      "cell_type": "code",
      "metadata": {
        "id": "heg4P0fayv2K"
      },
      "source": [
        "X = df.drop('class',axis=1)\n",
        "Y = df['class']\n",
        "from sklearn.model_selection import train_test_split\n",
        "X_train, X_test, Y_train, Y_test = train_test_split(X,Y,test_size=0.2,random_state=1,stratify=Y)"
      ],
      "execution_count": 14,
      "outputs": []
    },
    {
      "cell_type": "code",
      "metadata": {
        "id": "oE8el5UlzeHX",
        "outputId": "321cad7b-3ee4-4c2a-89ed-2bf0aee5d189",
        "colab": {
          "base_uri": "https://localhost:8080/",
          "height": 35
        }
      },
      "source": [
        "print(X_train.shape, X_test.shape)"
      ],
      "execution_count": 15,
      "outputs": [
        {
          "output_type": "stream",
          "text": [
            "(455, 30) (114, 30)\n"
          ],
          "name": "stdout"
        }
      ]
    },
    {
      "cell_type": "code",
      "metadata": {
        "id": "mA31WG0vzlWo",
        "outputId": "ef6dd207-0926-4155-b8b1-118e78014630",
        "colab": {
          "base_uri": "https://localhost:8080/",
          "height": 35
        }
      },
      "source": [
        "print(Y.mean(),Y_train.mean(),Y_test.mean())"
      ],
      "execution_count": 16,
      "outputs": [
        {
          "output_type": "stream",
          "text": [
            "0.6274165202108963 0.6263736263736264 0.631578947368421\n"
          ],
          "name": "stdout"
        }
      ]
    },
    {
      "cell_type": "markdown",
      "metadata": {
        "id": "zDjduFdF0bpQ"
      },
      "source": [
        "#**Binarisation of Input**"
      ]
    },
    {
      "cell_type": "code",
      "metadata": {
        "id": "podxeFPC0mAM"
      },
      "source": [
        "import matplotlib.pyplot as plt"
      ],
      "execution_count": 17,
      "outputs": []
    },
    {
      "cell_type": "code",
      "metadata": {
        "id": "29ZHEDb10pwQ",
        "outputId": "f5e85970-3e5d-40af-e571-6bc37f9ce236",
        "colab": {
          "base_uri": "https://localhost:8080/",
          "height": 537
        }
      },
      "source": [
        "plt.figure(figsize=(7,7))\n",
        "plt.plot(X_train.T,'*')\n",
        "plt.xticks(rotation='vertical')\n",
        "plt.show()"
      ],
      "execution_count": 18,
      "outputs": [
        {
          "output_type": "display_data",
          "data": {
            "image/png": "[encoded data removed]",
            "text/plain": [
              "<Figure size 504x504 with 1 Axes>"
            ]
          },
          "metadata": {
            "tags": [],
            "needs_background": "light"
          }
        }
      ]
    },
    {
      "cell_type": "code",
      "metadata": {
        "id": "ohgnz9At0vr1"
      },
      "source": [
        "X_binarised_3_train = X['mean area'].apply(lambda x: 0 if x < 1000 else 1)"
      ],
      "execution_count": 19,
      "outputs": []
    },
    {
      "cell_type": "code",
      "metadata": {
        "id": "qvcPYp-J2MOb",
        "outputId": "82cc82a6-d37f-46e5-9b43-d507f2145d68",
        "colab": {
          "base_uri": "https://localhost:8080/",
          "height": 283
        }
      },
      "source": [
        "plt.plot(X_binarised_3_train,'*')"
      ],
      "execution_count": 20,
      "outputs": [
        {
          "output_type": "execute_result",
          "data": {
            "text/plain": [
              "[<matplotlib.lines.Line2D at 0x7fb22136fdd8>]"
            ]
          },
          "metadata": {
            "tags": []
          },
          "execution_count": 20
        },
        {
          "output_type": "display_data",
          "data": {
            "image/png": "[encoded data removed]",
            "text/plain": [
              "<Figure size 432x288 with 1 Axes>"
            ]
          },
          "metadata": {
            "tags": [],
            "needs_background": "light"
          }
        }
      ]
    },
    {
      "cell_type": "code",
      "metadata": {
        "id": "679PZ4BF2YdH"
      },
      "source": [
        "X_train = X_train.apply(pd.cut,bins=2,labels=[1,0])"
      ],
      "execution_count": 21,
      "outputs": []
    },
    {
      "cell_type": "code",
      "metadata": {
        "id": "hMiVSqNb4mK_",
        "outputId": "bad04271-8014-45b9-b98d-43badae333d8",
        "colab": {
          "base_uri": "https://localhost:8080/",
          "height": 374
        }
      },
      "source": [
        "plt.plot(X_train.T,'*')\n",
        "plt.xticks(rotation='vertical')\n",
        "plt.show()"
      ],
      "execution_count": 22,
      "outputs": [
        {
          "output_type": "display_data",
          "data": {
            "image/png": "[encoded data removed]",
            "text/plain": [
              "<Figure size 432x288 with 1 Axes>"
            ]
          },
          "metadata": {
            "tags": [],
            "needs_background": "light"
          }
        }
      ]
    },
    {
      "cell_type": "code",
      "metadata": {
        "id": "QlVdf16z4tvF"
      },
      "source": [
        "X_test = X_test.apply(pd.cut,bins=2,labels=[1,0])"
      ],
      "execution_count": 23,
      "outputs": []
    },
    {
      "cell_type": "code",
      "metadata": {
        "id": "5O_OsCmW5IPD"
      },
      "source": [
        "X_train_binarised = X_train.values\n",
        "X_test_binarised = X_test.values"
      ],
      "execution_count": 24,
      "outputs": []
    },
    {
      "cell_type": "code",
      "metadata": {
        "id": "FHoe7m1e3HIZ",
        "outputId": "4a134564-0b4b-45dc-cc6a-e6b946913eb7",
        "colab": {
          "base_uri": "https://localhost:8080/",
          "height": 253
        }
      },
      "source": [
        "X_train.head()"
      ],
      "execution_count": 38,
      "outputs": [
        {
          "output_type": "execute_result",
          "data": {
            "text/html": [
              "<div>\n",
              "<style scoped>\n",
              "    .dataframe tbody tr th:only-of-type {\n",
              "        vertical-align: middle;\n",
              "    }\n",
              "\n",
              "    .dataframe tbody tr th {\n",
              "        vertical-align: top;\n",
              "    }\n",
              "\n",
              "    .dataframe thead th {\n",
              "        text-align: right;\n",
              "    }\n",
              "</style>\n",
              "<table border=\"1\" class=\"dataframe\">\n",
              "  <thead>\n",
              "    <tr style=\"text-align: right;\">\n",
              "      <th></th>\n",
              "      <th>mean radius</th>\n",
              "      <th>mean texture</th>\n",
              "      <th>mean perimeter</th>\n",
              "      <th>mean area</th>\n",
              "      <th>mean smoothness</th>\n",
              "      <th>mean compactness</th>\n",
              "      <th>mean concavity</th>\n",
              "      <th>mean concave points</th>\n",
              "      <th>mean symmetry</th>\n",
              "      <th>mean fractal dimension</th>\n",
              "      <th>radius error</th>\n",
              "      <th>texture error</th>\n",
              "      <th>perimeter error</th>\n",
              "      <th>area error</th>\n",
              "      <th>smoothness error</th>\n",
              "      <th>compactness error</th>\n",
              "      <th>concavity error</th>\n",
              "      <th>concave points error</th>\n",
              "      <th>symmetry error</th>\n",
              "      <th>fractal dimension error</th>\n",
              "      <th>worst radius</th>\n",
              "      <th>worst texture</th>\n",
              "      <th>worst perimeter</th>\n",
              "      <th>worst area</th>\n",
              "      <th>worst smoothness</th>\n",
              "      <th>worst compactness</th>\n",
              "      <th>worst concavity</th>\n",
              "      <th>worst concave points</th>\n",
              "      <th>worst symmetry</th>\n",
              "      <th>worst fractal dimension</th>\n",
              "    </tr>\n",
              "  </thead>\n",
              "  <tbody>\n",
              "    <tr>\n",
              "      <th>190</th>\n",
              "      <td>1</td>\n",
              "      <td>1</td>\n",
              "      <td>1</td>\n",
              "      <td>1</td>\n",
              "      <td>1</td>\n",
              "      <td>0</td>\n",
              "      <td>1</td>\n",
              "      <td>1</td>\n",
              "      <td>0</td>\n",
              "      <td>0</td>\n",
              "      <td>1</td>\n",
              "      <td>0</td>\n",
              "      <td>1</td>\n",
              "      <td>1</td>\n",
              "      <td>1</td>\n",
              "      <td>0</td>\n",
              "      <td>1</td>\n",
              "      <td>1</td>\n",
              "      <td>0</td>\n",
              "      <td>1</td>\n",
              "      <td>1</td>\n",
              "      <td>0</td>\n",
              "      <td>1</td>\n",
              "      <td>1</td>\n",
              "      <td>1</td>\n",
              "      <td>0</td>\n",
              "      <td>0</td>\n",
              "      <td>0</td>\n",
              "      <td>0</td>\n",
              "      <td>0</td>\n",
              "    </tr>\n",
              "    <tr>\n",
              "      <th>85</th>\n",
              "      <td>0</td>\n",
              "      <td>1</td>\n",
              "      <td>0</td>\n",
              "      <td>1</td>\n",
              "      <td>1</td>\n",
              "      <td>1</td>\n",
              "      <td>1</td>\n",
              "      <td>1</td>\n",
              "      <td>0</td>\n",
              "      <td>1</td>\n",
              "      <td>1</td>\n",
              "      <td>1</td>\n",
              "      <td>1</td>\n",
              "      <td>1</td>\n",
              "      <td>1</td>\n",
              "      <td>1</td>\n",
              "      <td>1</td>\n",
              "      <td>1</td>\n",
              "      <td>1</td>\n",
              "      <td>1</td>\n",
              "      <td>0</td>\n",
              "      <td>1</td>\n",
              "      <td>0</td>\n",
              "      <td>1</td>\n",
              "      <td>1</td>\n",
              "      <td>1</td>\n",
              "      <td>1</td>\n",
              "      <td>0</td>\n",
              "      <td>1</td>\n",
              "      <td>1</td>\n",
              "    </tr>\n",
              "    <tr>\n",
              "      <th>512</th>\n",
              "      <td>1</td>\n",
              "      <td>1</td>\n",
              "      <td>1</td>\n",
              "      <td>1</td>\n",
              "      <td>0</td>\n",
              "      <td>1</td>\n",
              "      <td>1</td>\n",
              "      <td>1</td>\n",
              "      <td>0</td>\n",
              "      <td>1</td>\n",
              "      <td>1</td>\n",
              "      <td>1</td>\n",
              "      <td>1</td>\n",
              "      <td>1</td>\n",
              "      <td>1</td>\n",
              "      <td>1</td>\n",
              "      <td>1</td>\n",
              "      <td>1</td>\n",
              "      <td>1</td>\n",
              "      <td>1</td>\n",
              "      <td>1</td>\n",
              "      <td>1</td>\n",
              "      <td>1</td>\n",
              "      <td>1</td>\n",
              "      <td>0</td>\n",
              "      <td>1</td>\n",
              "      <td>1</td>\n",
              "      <td>0</td>\n",
              "      <td>1</td>\n",
              "      <td>1</td>\n",
              "    </tr>\n",
              "    <tr>\n",
              "      <th>57</th>\n",
              "      <td>1</td>\n",
              "      <td>1</td>\n",
              "      <td>1</td>\n",
              "      <td>1</td>\n",
              "      <td>0</td>\n",
              "      <td>1</td>\n",
              "      <td>1</td>\n",
              "      <td>1</td>\n",
              "      <td>1</td>\n",
              "      <td>1</td>\n",
              "      <td>1</td>\n",
              "      <td>1</td>\n",
              "      <td>1</td>\n",
              "      <td>1</td>\n",
              "      <td>1</td>\n",
              "      <td>1</td>\n",
              "      <td>1</td>\n",
              "      <td>1</td>\n",
              "      <td>1</td>\n",
              "      <td>1</td>\n",
              "      <td>1</td>\n",
              "      <td>1</td>\n",
              "      <td>1</td>\n",
              "      <td>1</td>\n",
              "      <td>1</td>\n",
              "      <td>1</td>\n",
              "      <td>1</td>\n",
              "      <td>0</td>\n",
              "      <td>1</td>\n",
              "      <td>1</td>\n",
              "    </tr>\n",
              "    <tr>\n",
              "      <th>142</th>\n",
              "      <td>1</td>\n",
              "      <td>1</td>\n",
              "      <td>1</td>\n",
              "      <td>1</td>\n",
              "      <td>0</td>\n",
              "      <td>1</td>\n",
              "      <td>1</td>\n",
              "      <td>1</td>\n",
              "      <td>1</td>\n",
              "      <td>1</td>\n",
              "      <td>1</td>\n",
              "      <td>1</td>\n",
              "      <td>1</td>\n",
              "      <td>1</td>\n",
              "      <td>1</td>\n",
              "      <td>1</td>\n",
              "      <td>1</td>\n",
              "      <td>1</td>\n",
              "      <td>1</td>\n",
              "      <td>1</td>\n",
              "      <td>1</td>\n",
              "      <td>1</td>\n",
              "      <td>1</td>\n",
              "      <td>1</td>\n",
              "      <td>1</td>\n",
              "      <td>1</td>\n",
              "      <td>1</td>\n",
              "      <td>1</td>\n",
              "      <td>1</td>\n",
              "      <td>1</td>\n",
              "    </tr>\n",
              "  </tbody>\n",
              "</table>\n",
              "</div>"
            ],
            "text/plain": [
              "    mean radius mean texture  ... worst symmetry worst fractal dimension\n",
              "190           1            1  ...              0                       0\n",
              "85            0            1  ...              1                       1\n",
              "512           1            1  ...              1                       1\n",
              "57            1            1  ...              1                       1\n",
              "142           1            1  ...              1                       1\n",
              "\n",
              "[5 rows x 30 columns]"
            ]
          },
          "metadata": {
            "tags": []
          },
          "execution_count": 38
        }
      ]
    },
    {
      "cell_type": "code",
      "metadata": {
        "id": "-2JIEvoJ5QXY",
        "outputId": "f5aa6338-6a46-4a7b-8959-b2ccd2a48e93",
        "colab": {
          "base_uri": "https://localhost:8080/",
          "height": 35
        }
      },
      "source": [
        "print(type(X_train_binarised))"
      ],
      "execution_count": 25,
      "outputs": [
        {
          "output_type": "stream",
          "text": [
            "<class 'numpy.ndarray'>\n"
          ],
          "name": "stdout"
        }
      ]
    },
    {
      "cell_type": "code",
      "metadata": {
        "id": "cIm-v6yH5S5t"
      },
      "source": [
        "Y_train = Y_train.values\n",
        "Y_test = Y_test.values"
      ],
      "execution_count": 26,
      "outputs": []
    },
    {
      "cell_type": "markdown",
      "metadata": {
        "id": "wSV1beSJ5Vhl"
      },
      "source": [
        "# **MP Neuron Model**"
      ]
    },
    {
      "cell_type": "code",
      "metadata": {
        "id": "kCxCaF-U6O78"
      },
      "source": [
        "from random import randint"
      ],
      "execution_count": 28,
      "outputs": []
    },
    {
      "cell_type": "code",
      "metadata": {
        "id": "FzcQvFmY5lih",
        "outputId": "7b33b90d-66b8-41ef-d61f-9bf5ce76bfc6",
        "colab": {
          "base_uri": "https://localhost:8080/",
          "height": 72
        }
      },
      "source": [
        "b = 3\n",
        "\n",
        "i = randint(0,X_train_binarised.shape[0])\n",
        "print('For row ',i)\n",
        "\n",
        "if (np.sum(X_train_binarised[i] >= b)):\n",
        "  print('Mp Neuron inference is malignant')\n",
        "else:\n",
        "  print('Mp Neuron inference is benign')\n",
        "\n",
        "if (Y_train[i] == 1):\n",
        "  print('Ground truth is malignant')\n",
        "else:\n",
        "  print('Ground truth is benign')"
      ],
      "execution_count": 37,
      "outputs": [
        {
          "output_type": "stream",
          "text": [
            "For row  104\n",
            "Mp Neuron inference is benign\n",
            "Ground truth is benign\n"
          ],
          "name": "stdout"
        }
      ]
    },
    {
      "cell_type": "code",
      "metadata": {
        "id": "gjItfW-I7tFm",
        "outputId": "d7f2c0cd-52fe-4f84-d9e4-fc965bfbc676",
        "colab": {
          "base_uri": "https://localhost:8080/",
          "height": 279
        }
      },
      "source": [
        "accuracy_rows_list = []\n",
        "for b in range(0,X_train_binarised.shape[1] + 1):\n",
        "\n",
        "  Y_pred_train = []\n",
        "  accurate_rows=0\n",
        "\n",
        "  for x, y in zip(X_train_binarised,Y_train):\n",
        "    y_pred = (np.sum(x) >= b)\n",
        "    Y_pred_train.append(y_pred)\n",
        "    accurate_rows += (y_pred == y)\n",
        "\n",
        "  #print(b, accurate_rows/X_train_binarised.shape[0])\n",
        "  accuracy_rows_list.append(accurate_rows)\n",
        "plt.plot(list(range(0,X_train_binarised.shape[1]+1)),accuracy_rows_list)\n",
        "plt.xlabel('b value')\n",
        "plt.ylabel('Accurate Rows')\n",
        "plt.show()"
      ],
      "execution_count": 52,
      "outputs": [
        {
          "output_type": "display_data",
          "data": {
            "image/png": "[encoded data removed]",
            "text/plain": [
              "<Figure size 432x288 with 1 Axes>"
            ]
          },
          "metadata": {
            "tags": [],
            "needs_background": "light"
          }
        }
      ]
    },
    {
      "cell_type": "code",
      "metadata": {
        "id": "bcvNMe2L5Y64"
      },
      "source": [
        "from sklearn.metrics import accuracy_score"
      ],
      "execution_count": 43,
      "outputs": []
    },
    {
      "cell_type": "code",
      "metadata": {
        "id": "jqA-c0tV2-x-",
        "outputId": "9d93aa16-883d-4f1d-d33a-fc939d77d3cb",
        "colab": {
          "base_uri": "https://localhost:8080/",
          "height": 35
        }
      },
      "source": [
        "b = 25\n",
        "Y_pred_test = []\n",
        "accurate_rows=0\n",
        "\n",
        "for x, y in zip(X_test_binarised,Y_test):\n",
        "  y_pred = (np.sum(x) >= b)\n",
        "  Y_pred_test.append(y_pred)\n",
        "\n",
        "print(accuracy_score(Y_test,Y_pred_test))"
      ],
      "execution_count": 46,
      "outputs": [
        {
          "output_type": "stream",
          "text": [
            "0.8771929824561403\n"
          ],
          "name": "stdout"
        }
      ]
    },
    {
      "cell_type": "markdown",
      "metadata": {
        "id": "UvjYWrLb8A3l"
      },
      "source": [
        " # **MP Neuron Class**"
      ]
    },
    {
      "cell_type": "code",
      "metadata": {
        "id": "PRA8JxVX5UA_"
      },
      "source": [
        "class MPNeuron:\n",
        "\n",
        "  def __init__(self):\n",
        "    self.b = None\n",
        "\n",
        "  def model(self,x):\n",
        "    return (sum(x) >= self.b)\n",
        "  \n",
        "  def predict(self,X):\n",
        "    Y_pred = []\n",
        "    for x in X:\n",
        "      result = self.model(x)\n",
        "      Y_pred.append(result)\n",
        "    return np.array(Y_pred)\n",
        "\n",
        "  def fit(self,X,Y):\n",
        "    accuracy = []\n",
        "\n",
        "    for b in range(X.shape[1] + 1):\n",
        "      self.b = b\n",
        "      Y_pred = self.predict(X)\n",
        "      accuracy.append(accuracy_score(Y_pred, Y))\n",
        "    \n",
        "    best_b = np.argmax(np.array(accuracy))\n",
        "    self.b = best_b\n",
        "\n",
        "    print('Optimal value of b is',best_b)\n",
        "    print('Highest accuracy is',accuracy[best_b])"
      ],
      "execution_count": 83,
      "outputs": []
    },
    {
      "cell_type": "code",
      "metadata": {
        "id": "88AAKTUw_l8y",
        "outputId": "7f2e060f-ef69-42a7-c02a-2bcf8fdefc35",
        "colab": {
          "base_uri": "https://localhost:8080/",
          "height": 54
        }
      },
      "source": [
        "mp_neuron = MPNeuron()\n",
        "mp_neuron.fit(X_train_binarised,Y_train)"
      ],
      "execution_count": 84,
      "outputs": [
        {
          "output_type": "stream",
          "text": [
            "Optimal value of b is 28\n",
            "Highest accuracy is 0.8461538461538461\n"
          ],
          "name": "stdout"
        }
      ]
    },
    {
      "cell_type": "code",
      "metadata": {
        "id": "JIZrAQbLCzt3"
      },
      "source": [
        "Y_pred_test = mp_neuron.predict(X_test_binarised)\n",
        "accurate_test = accuracy_score(Y_test,Y_pred_test)"
      ],
      "execution_count": 85,
      "outputs": []
    },
    {
      "cell_type": "code",
      "metadata": {
        "id": "yYe7ZsnNGva2",
        "outputId": "70e2227a-d1bd-4c97-f797-c10fc5c6adfd",
        "colab": {
          "base_uri": "https://localhost:8080/",
          "height": 35
        }
      },
      "source": [
        "print(accurate_test)"
      ],
      "execution_count": 86,
      "outputs": [
        {
          "output_type": "stream",
          "text": [
            "0.7807017543859649\n"
          ],
          "name": "stdout"
        }
      ]
    },
    {
      "cell_type": "markdown",
      "metadata": {
        "id": "HYLxFBaDJob2"
      },
      "source": [
        "# **Perceptron Class**"
      ]
    },
    {
      "cell_type": "code",
      "metadata": {
        "id": "HcXp-v4BNWxR"
      },
      "source": [
        "X_train = X_train.values\n",
        "X_test = X_test.values"
      ],
      "execution_count": 92,
      "outputs": []
    },
    {
      "cell_type": "code",
      "metadata": {
        "id": "zmpdJGQ-Gz-f"
      },
      "source": [
        "class Perceptron:\n",
        "  def __init__(self):\n",
        "    self.w = None\n",
        "    self.y = None\n",
        "\n",
        "  def model(self,x):\n",
        "    return 1 if (np.dot(self.w,x) >= self.b) else 0\n",
        "\n",
        "  def predict(self,X):\n",
        "    Y_pred = []\n",
        "    for x in X:\n",
        "      result = self.model(x)\n",
        "      Y_pred.append(result)\n",
        "    return np.array(Y_pred)\n",
        "\n",
        "  def fit(self,X,Y,lr=1,epochs=1):\n",
        "\n",
        "    self.w = np.ones(X.shape[1])\n",
        "    self.b = 0\n",
        "    accuracy = []\n",
        "    max_accuracy = 0\n",
        "    wt_matrix = []\n",
        "    for i in range(epochs):\n",
        "      for x, y in zip(X,Y):\n",
        "        y_pred = self.model(x)\n",
        "        if y_pred == 0 and y == 1:\n",
        "          self.w = self.w + lr*x\n",
        "          self.b = self.b + lr*1\n",
        "        elif y_pred == 1 and y == 0:\n",
        "          self.w = self.w - lr*x\n",
        "          self.b = self.b - lr*1\n",
        "        wt_matrix.append(self.w)\n",
        "      Y_pred = self.predict(X)\n",
        "      accuracy.append(accuracy_score(Y,Y_pred))\n",
        "      if accuracy[i] > max_accuracy:\n",
        "        max_accuracy = accuracy[i]\n",
        "        chkptw = self.w\n",
        "        chkptb = self.b\n",
        "\n",
        "    self.w = chkptw\n",
        "    self.b = chkptb\n",
        "    print(max_accuracy)\n",
        "    plt.plot(accuracy)\n",
        "    plt.ylim([0,1])\n",
        "    plt.show() \n",
        "\n",
        "    return np.array(wt_matrix)"
      ],
      "execution_count": 161,
      "outputs": []
    },
    {
      "cell_type": "code",
      "metadata": {
        "id": "QWIbcoINNRSy"
      },
      "source": [
        "perceptron = Perceptron()"
      ],
      "execution_count": 162,
      "outputs": []
    },
    {
      "cell_type": "code",
      "metadata": {
        "id": "qmkw85AVNYMe",
        "outputId": "95431d73-30b1-4daa-a6df-e203919dfc7d",
        "colab": {
          "base_uri": "https://localhost:8080/",
          "height": 287
        }
      },
      "source": [
        "wt_matrix = perceptron.fit(X_train,Y_train,100)"
      ],
      "execution_count": 165,
      "outputs": [
        {
          "output_type": "stream",
          "text": [
            "0.9340659340659341\n"
          ],
          "name": "stdout"
        },
        {
          "output_type": "display_data",
          "data": {
            "image/png": "[encoded data removed]",
            "text/plain": [
              "<Figure size 432x288 with 1 Axes>"
            ]
          },
          "metadata": {
            "tags": [],
            "needs_background": "light"
          }
        }
      ]
    },
    {
      "cell_type": "code",
      "metadata": {
        "id": "9DoUUZ8uNaSr",
        "outputId": "6d2eb914-d860-4f02-defd-17b50f2009d5",
        "colab": {
          "base_uri": "https://localhost:8080/",
          "height": 217
        }
      },
      "source": [
        "perceptron.w"
      ],
      "execution_count": 141,
      "outputs": [
        {
          "output_type": "execute_result",
          "data": {
            "text/plain": [
              "array([0.2609000000000814, -0.06209999999990693, 0.2454000000000831,\n",
              "       -0.12509999999990873, 0.13980000000009474, 0.006800000000093822,\n",
              "       0.003800000000093815, 0.13120000000009568, 0.1474000000000939,\n",
              "       -0.14109999999990697, -0.2443999999998956, -0.19009999999990157,\n",
              "       -0.2443999999998956, -0.2443999999998956, -0.25099999999989486,\n",
              "       -0.1906999999999015, -0.25909999999989397, -0.21379999999989896,\n",
              "       -0.17579999999990314, -0.25909999999989397, 0.17980000000009033,\n",
              "       0.1675000000000917, 0.11440000000009606, -0.15969999999990492,\n",
              "       0.112300000000096, -0.04819999999990653, -0.006599999999906187,\n",
              "       0.7591000000000265, -0.09439999999990785, -0.18299999999990235],\n",
              "      dtype=object)"
            ]
          },
          "metadata": {
            "tags": []
          },
          "execution_count": 141
        }
      ]
    },
    {
      "cell_type": "code",
      "metadata": {
        "id": "7ICRh970NzLE",
        "outputId": "c2a4ef3b-0bc3-4906-c829-dd2dedf6a991",
        "colab": {
          "base_uri": "https://localhost:8080/",
          "height": 35
        }
      },
      "source": [
        "Y_pred_test = perceptron.predict(X_test)\n",
        "print(accuracy_score(Y_test,Y_pred_test))"
      ],
      "execution_count": 147,
      "outputs": [
        {
          "output_type": "stream",
          "text": [
            "0.9298245614035088\n"
          ],
          "name": "stdout"
        }
      ]
    },
    {
      "cell_type": "code",
      "metadata": {
        "id": "q-KREH8tOEVy",
        "outputId": "1fd6eb27-33b8-49f0-e5a3-26b9e1c0287c",
        "colab": {
          "base_uri": "https://localhost:8080/",
          "height": 267
        }
      },
      "source": [
        "plt.plot(perceptron.w)\n",
        "plt.show()"
      ],
      "execution_count": 148,
      "outputs": [
        {
          "output_type": "display_data",
          "data": {
            "image/png": "[encoded data removed]",
            "text/plain": [
              "<Figure size 432x288 with 1 Axes>"
            ]
          },
          "metadata": {
            "tags": [],
            "needs_background": "light"
          }
        }
      ]
    },
    {
      "cell_type": "code",
      "metadata": {
        "id": "tn4yZ6DYWKcT",
        "outputId": "6d92b156-335f-4e07-d2d0-b8f5bcf26592",
        "colab": {
          "base_uri": "https://localhost:8080/",
          "height": 265
        }
      },
      "source": [
        "plt.plot(wt_matrix[-1,:])\n",
        "plt.show()"
      ],
      "execution_count": 166,
      "outputs": [
        {
          "output_type": "display_data",
          "data": {
            "image/png": "[encoded data removed]",
            "text/plain": [
              "<Figure size 432x288 with 1 Axes>"
            ]
          },
          "metadata": {
            "tags": [],
            "needs_background": "light"
          }
        }
      ]
    },
    {
      "cell_type": "code",
      "metadata": {
        "id": "Gxbc7XYXUFCX"
      },
      "source": [
        "%matplotlib inline"
      ],
      "execution_count": 149,
      "outputs": []
    },
    {
      "cell_type": "code",
      "metadata": {
        "id": "D6T2yZq2UVzP"
      },
      "source": [
        "import numpy as np\n",
        "import matplotlib.pyplot as plt\n",
        "\n",
        "from matplotlib import animation, rc\n",
        "from IPython.display import HTML"
      ],
      "execution_count": 150,
      "outputs": []
    },
    {
      "cell_type": "code",
      "metadata": {
        "id": "bR4IsBGDUZTV",
        "outputId": "3fa8877e-ae2b-428f-c802-02e20b607f83",
        "colab": {
          "base_uri": "https://localhost:8080/",
          "height": 269
        }
      },
      "source": [
        "fig, ax = plt.subplots()\n",
        "\n",
        "ax.set_xlim(( 0, wt_matrix.shape[1]))\n",
        "ax.set_ylim((-500, 2000))\n",
        "\n",
        "line, = ax.plot([], [], lw=2)"
      ],
      "execution_count": 167,
      "outputs": [
        {
          "output_type": "display_data",
          "data": {
            "image/png": "[encoded data removed]",
            "text/plain": [
              "<Figure size 432x288 with 1 Axes>"
            ]
          },
          "metadata": {
            "tags": [],
            "needs_background": "light"
          }
        }
      ]
    },
    {
      "cell_type": "code",
      "metadata": {
        "id": "o_HqaXzMUbxH"
      },
      "source": [
        "# animation function. This is called sequentially\n",
        "def animate(i):\n",
        "    x = list(range(wt_matrix.shape[1]))\n",
        "    y = wt_matrix[i,:]\n",
        "    line.set_data(x, y)\n",
        "    return (line,)"
      ],
      "execution_count": 169,
      "outputs": []
    },
    {
      "cell_type": "code",
      "metadata": {
        "id": "6LzQeGluUh01"
      },
      "source": [
        "# call the animator. blit=True means only re-draw the parts that have changed.\n",
        "anim = animation.FuncAnimation(fig, animate, frames=100, interval=200, blit=True)"
      ],
      "execution_count": 172,
      "outputs": []
    },
    {
      "cell_type": "code",
      "metadata": {
        "id": "uhHV9TDQUydi",
        "outputId": "2fdf58ff-4a52-41de-d1f5-3b9ce8aae429",
        "colab": {
          "base_uri": "https://localhost:8080/",
          "height": 308
        }
      },
      "source": [
        "HTML(anim.to_html5_video())"
      ],
      "execution_count": 173,
      "outputs": [
        {
          "output_type": "execute_result",
          "data": {
            "text/html": [
              "<video width=\"432\" height=\"288\" controls autoplay loop>\n",
              "  <source type=\"video/mp4\" src=\"data:video/mp4;base64,AAAAHGZ0eXBNNFYgAAACAGlzb21pc28yYXZjMQAAAAhmcmVlAABnm21kYXQAAAKtBgX//6ncRem9\n",
              "5tlIt5Ys2CDZI+7veDI2NCAtIGNvcmUgMTUyIHIyODU0IGU5YTU5MDMgLSBILjI2NC9NUEVHLTQg\n",
              "QVZDIGNvZGVjIC0gQ29weWxlZnQgMjAwMy0yMDE3IC0gaHR0cDovL3d3dy52aWRlb2xhbi5vcmcv\n",
              "eDI2NC5odG1sIC0gb3B0aW9uczogY2FiYWM9MSByZWY9MyBkZWJsb2NrPTE6MDowIGFuYWx5c2U9\n",
              "MHgzOjB4MTEzIG1lPWhleCBzdWJtZT03IHBzeT0xIHBzeV9yZD0xLjAwOjAuMDAgbWl4ZWRfcmVm\n",
              "PTEgbWVfcmFuZ2U9MTYgY2hyb21hX21lPTEgdHJlbGxpcz0xIDh4OGRjdD0xIGNxbT0wIGRlYWR6\n",
              "b25lPTIxLDExIGZhc3RfcHNraXA9MSBjaHJvbWFfcXBfb2Zmc2V0PS0yIHRocmVhZHM9MyBsb29r\n",
              "YWhlYWRfdGhyZWFkcz0xIHNsaWNlZF90aHJlYWRzPTAgbnI9MCBkZWNpbWF0ZT0xIGludGVybGFj\n",
              "ZWQ9MCBibHVyYXlfY29tcGF0PTAgY29uc3RyYWluZWRfaW50cmE9MCBiZnJhbWVzPTMgYl9weXJh\n",
              "bWlkPTIgYl9hZGFwdD0xIGJfYmlhcz0wIGRpcmVjdD0xIHdlaWdodGI9MSBvcGVuX2dvcD0wIHdl\n",
              "aWdodHA9MiBrZXlpbnQ9MjUwIGtleWludF9taW49NSBzY2VuZWN1dD00MCBpbnRyYV9yZWZyZXNo\n",
              "PTAgcmNfbG9va2FoZWFkPTQwIHJjPWNyZiBtYnRyZWU9MSBjcmY9MjMuMCBxY29tcD0wLjYwIHFw\n",
              "bWluPTAgcXBtYXg9NjkgcXBzdGVwPTQgaXBfcmF0aW89MS40MCBhcT0xOjEuMDAAgAAAD0NliIQA\n",
              "FP/+98dPwKbo+WbLnUU9ITCK2PpIKL1Y7NAydQAAAwAARTqf8ZoX4gKCHYf4TGVjKi0vexjM8Pyr\n",
              "hWDB21U1yUqXOAX7Ok/nnIKE310J1kJ0Xg5t9GhUU+DEN8gDz7KVao1aWpF+7kSmW8kK2uoIMCEe\n",
              "qO3yHSFZiCMhgDYWOO0VXqXEECdTyLPl9YABGMa6rn1Uj6/i/3FPsd44PmEMKCJv32pzwSLq8rpY\n",
              "217coR5Q3o/0cj4P586Kv2e2A7gwvonbJeVPf4M3KQwJXxeLdmQkfCMajeA9EJRA12iJGwJf5q/z\n",
              "Cax281qnyI3U/E5+WU1aKHFEYKEpvVWZHZno7z14h8vXcmDcTgMbGeoa06allX2qFrO/aZV6bRJ8\n",
              "wUnVdhQe2tUsO+3TZ0qg/rJ5c1ZxKBZ/3rFI4xgugl8+9GKgXY2rxsNwwTjDxjE9HSTpetAQ2zbs\n",
              "lW+7HYa6M9usZyjs0v0TIEhl99KQIh/Du7N31Jt0dZkZ0ownGrwAR9wnxl49Gpl6vsInjEVUm748\n",
              "I/Vw1exHC5ErmYbAAZavY3uYqSjfHno+MplbsSbRvhZvDJLf6f3h0bCSWPDS2qprac2NcyGgHx12\n",
              "l4ofAjET0E8Fcv4WS2kEXiM2cSeNb/SBFfQtQLme3Q8Er5mHNDixrlZ5jmkm8XR+vk+qoybVESQ/\n",
              "pmVCPNeVLJjR8EArICb4A+/tef1AgqJb246zBcmn/oGkL0qC9DZlRlxePCQIEAdztPcBpGQRyGlN\n",
              "jjeeH09UXGEqqKeDeG1woy9DdoLq5jNQQAJSQjyeMt/nqil7ITvpYKzWylTTahQ+Zr6xrB3WYlRQ\n",
              "ZSn60PfNk3IqtP/tweuUtnJ2B9ivmTNBchBVTRoag7A+WYe893ZZ8TyogG6rF58Ka+r6xBX8WqKa\n",
              "Dfheppbve8eAJZIwWrigKlbU3L/KmVXfA6bWN+5nT6612eLdon3X8IwaL5MV5CvYQBx5SxWN6p8r\n",
              "6jyRX1pyEHM5ucRzkP33gu3xk5O+JwBx2UBHsAYvLt6TbB8ownAJdo8M3O5un/GYc2PmwuXed26W\n",
              "nChlmo661vjBUf/AB9xfKQQLMJ5upjjjnIQVgYsckGq7Rl0a1X2I0YhQKcQED/rPhNt9Oo4ZDCu+\n",
              "ZHSqvjYput6b3zSf2zoeIgbIDX5IUhtRB9e/6wH2vduwmuH6Em0SU9/uNRHd4KVkBGxXMf7Bzv6S\n",
              "cOxdE+2D8TDnLEjDbVnI8sA5OoIrkjd+pmWQ/ykFrIzhW4UpwCalhwGtPjcz3FeUCE/RVIYXjmiW\n",
              "sr4tD0HJnTbSIY7HUmUMfYRvNOrYfTXBbttwGSHmyF8jKkWDrauheAgO7MyoqMuhaMx2loCJZGJ/\n",
              "QIPw2t4FwtlUSDZn9n0LW8etg5aFe1XDpBt/iv9SlUC/riTmqVDIwpB13jvdbwo5E9JknBo4hUxS\n",
              "nBJkAB2XxZHT4T8o0x+8szzizlbIfGOx7gSBu2xwTnl2ZdAFPisXNMdsD4Cft83t89hLUgQlP83J\n",
              "/FS5GlO2KrvGXR8LNNDjHkkTdcl53iBdcU+8Ghw5FYJfOm1VMYRxkAHJwm7E1yaehnKK0dB6ga8T\n",
              "ocvnOpmzwRnDe5TC59vrM44S35tcv1QxYmH8xKJdPrJT9u8PhRwk7+VkQiKaYRnlSJtTK/Xq+lB0\n",
              "tiN5oP+HW1W0W0esjT+Or4Qc0l5lldZjV/R9XcWGQysE1BYxq+llTmBiB0J/7ul4P4h/zBAKQLj6\n",
              "iNFxqQ77+kVq5JmPY9+oVjI8KVZ6e9t1qANO7+tzDHQ1+fcBZCgq7WADps6euItQnVSJyuqTQMXP\n",
              "lq2qIJTB1oxuE1Bca0nhIKoCZgp8EBEnOoA1tsFMRPak+0KNGgsfx0wbtqmM21h281ECe6sTpsS9\n",
              "/PcQNPqo3A+Gt3N3yrvuPCXLvEol4xqZrKwQfHoHrXxVVS7jrJIkgKSCblsw/hN76+Ujr48Zfko/\n",
              "40uTFdRTDgU1l/E08bo0XnRcY9GhOpEfWzsJja3Pbza9dg195isSH77MWdoDvr40Psyp0uKWss0+\n",
              "vPI6BV4gdZe/3ipp9k7OQ8Dbb/tv7/ltc9Db9U6fZoWadcueF9kvYMEuuJ13TnEt7E3fXDVD1kqW\n",
              "1godMs8dZ7fr1tTymtePUj2DqNfs5GHviMdX5C9mJvzWFGDMF98w1d8wjpYtBfxo7LXmFqekJ0LE\n",
              "7s3aaXiK0gvA1plEtG1fBDumEapETls7g3PLmPAIPSHj6yz6VKBJKsbehlzr9AYYRVb58GxDh/W+\n",
              "2+iay8qO29fxoBgsD74xmNlSqK4wamYsG2hVoaXsbxtuMqWNwYL2/LwKA4RYxw6rdliDCLYuSKEJ\n",
              "Muj5GaUe+EKZog2841TKAW/aDoToLiN3BOzxdBK92FbwfmM9mK5I5vplOZBrRAdi5f1Or9hOgn7O\n",
              "tgSFaPJMfQ7it95Pc92I82SV1LLzowZy8m78Yncc2MJy7np7D99Bqr9J5kpx2v7wBcSMp1NHzZ4f\n",
              "M9e96DXY2puhD7tyQDALOBorYxWEMJSf3Ni1JXX40vFGwOpDMMD4uE6Y6RhFz4IZ+nCmZUqUIEgM\n",
              "IQpuBe8z6xtgF+Z2Zv+cvJRBVE4cywQHsPNuIdSaUNMM6ZpXmp86tuBs9UZ9bDl1golcdFgxGPbJ\n",
              "GZ/qKwoC8VAgI9QE1w3N78UH1B36fmn6PhCt4aKRyYKeB9iog87dtegWhvMuqKHjHaH9tr2izTMu\n",
              "1E8ZQX/0qVYNgOxLFCtOSpnjO9qprbh1UgU04/WXBrQgdKtc2y6n8lt5t2GVkxHuxm3nfmCvSDpd\n",
              "GQ418tOKobOz2AcWFFTCw2yRO+UI9co7WWrbeQN2o6hY5XuFlqY5TDZmKgT7wlqdehKqzvjdmQXK\n",
              "FEwB1Kfs4Hu3YrYSSdnwSvvwJLgwOLjM5gCXqvmPXftWfr3VDbvYLgjmuxJPKaKT+IeZaZ0VnDTd\n",
              "jDnSSidHBt+qNLinP7/hZoCpaYhwqEBFIUdmY/vTfEl2/qsfcrKFAqqYVB2IT6CGOVWHm10YNyqq\n",
              "1V6EjcTt4sn5Jmv/9QmnUkJiMhs/Hl73oXRZvHLMSJa5W4S8ubVaYg4wpzAXId2djxzJObzbJIQs\n",
              "WM6DSF45942471lVXO5r5hIsCTPGtbozkLXM29Po9QwQ7Le/xDRUv/TubzZclyKpCh7dP3+MZ6yK\n",
              "lUVUvqC7O1rx1sbIIP8a1Uv8C6aFqSY4Je4p42PCg2wXU2CkFoBaDaEJucliEI0rkU1RTnsugomb\n",
              "FPC2ajt6m7Tef6VWEBW3StEo497rvpAv2kiLToYztYtAicOUFl1nvo0vYuSbII0Z1FcdygP7Tu0T\n",
              "LyMmJDdqzvTqdQINhbtWEbXmSiEbbrwWBd44+EQ6/Hy/hu4c4IrSi+qXN8CrmahL2gfNAXjiflwk\n",
              "/Cf4CCee2NcEyzGWjYyDW2dXh4Ia+MiEFCUkyNH81fb/ptjYWXl05HFm/PCHrQ97rjIQ4+u5VTJW\n",
              "kKwTA4EGju1HBngOm9VEm5iyGtCxYFYN9fLk2ZkqJWGcUN0MpqgcEbWBvSfz3IcLDZ43U8WtERUe\n",
              "thUKaVpk7TxBT5Tny7Zt6q/wJXy0dfz1VrYEE/akddajD1+EUwX4hSnWmCw3neIXmZm4ej6i0zlR\n",
              "acby1/l3MUY9PQnEwg7G/NPbkUifuPsmxmU2ShLTFrZM/wABYm2WGAJxNYx0bcVgYa8n2ua6RdtP\n",
              "clRiDG8KWYo4KFppTeHIGZiJ+urO1LZVV2e/4uv6A1WJthSzCFnfYQdJglGFF349xj+Ph2a0+xI9\n",
              "gtTlDy0Zn8KQRo1QwKdVwpm4vurE4dLW04IlXERL0ttJZpR1VNJw8VHMeG/3PPWJjSrW4N66ASbB\n",
              "ogpSpAGUG/rjp5q6XfRbcUw9DvQIaAt+DjxRjt0fTOyUigjGOe/f7rUDOQAmO57pSj0WyEJnJ5Kx\n",
              "ZNzULWwV52w3zm4tb07jse6Xy0xzim8YvaotzSEJiHl/h/pHbsjQGJW4KqkxEDYb1U04CSE3Ukow\n",
              "XKF7gaU8javPWdUzTpqbE2v8LfI1dkby6d////2hoeZMKEs4Vt6qacBJCbuRnJWZFZnSp2KGjFXY\n",
              "RCzvUXHY1KnLJRGIdbx3g2FZBLLUm2OrAM44oAmU5Vd1ireBIaA807L5gj9hDcCr1TP+BE3YX3k9\n",
              "Z4heL4W6owEuuKuOSP+a0DDenHP4gy3OEByLdeRVVbhJOPIIcE7pFhu74tbWFzNrdQgwq+Uc4bQ2\n",
              "gpHFH/ELwbiEofxTyUUNf0f04awfK1VX178+lnGqGMD/Ig3ndRKO3zsl84RfQXYptD+KHjJ/gU/b\n",
              "FYUXFgfJn9t1Nd5HEeRX8A0XGf62N5ZPXt9SrXjMfSn/BhOnnrSiTxyIk19QwHHJXU45c/1NH499\n",
              "9x29osrqm2MNOi3lws0WwYRYBwzwxoxFyEWa+kOXUbIeoOU3Iw4Ibpwf87iBL7q0vnZnvCtrSQfA\n",
              "zwcIy6Ut6Q4FEHms5NzDSyDF4hJmdz0DXLdGVb1i8lhwuE2/BKU6j4KlAm+nZ6Lva+bLfOHgpdZe\n",
              "sYb3A+n+zrLZMQe/qzZDnBO643ykuH1h1dIW7xJcGljtRqnDnJX1gHOkcOZaoE2wdDwQkF88sc3D\n",
              "/nJso8ezmezKeBkpos5x5ltr7o7L/i1A0o7Hkn7ZuaJiGpwa6vv07j6cH3SCiT8qSopIy5FU0dic\n",
              "hcZCvLkjR4ajgxu4sLMtd6wh2EW8W2Ftf34paghm7Sm16fP9tFLUI11kGckwiIYK1iC+gOhrwlNJ\n",
              "EunqHf9A3q312vdQWr5U9MGULQVKNc90QU8qUOZ6Een/yozNSrD5pv4JP5HJ5x7OrE66LHXCG+fA\n",
              "jkmgFATwqRRCiKWBPnuiSqg9kbeCMDHUOzuWkx2Ntqe1i89/ZGVEJq5BA1VtO68lpkG+vRmiX250\n",
              "nJlFksALS71dB7WOwd7UFPSGyf0YGZwnM+7Glvr/IL59NduWcRd/mpeHtn7YaxZH3oYM6tbaTCVX\n",
              "ccS/zTWE1e/3s/OEB1pZNekwQNF0aKf37X+uLcEbmOkA8bMGFrB+t8uCrkOvgF6ETT6iB/uXfBWa\n",
              "kgbnsifvJnm0mLCSzoXnHS69MJ7PuUu7Eelv7kz3TuheX6Invbyld65veqMg6pI/RJc4vKeN/jZ5\n",
              "goVZCeH5xqGQ0z2DnE8Bhp+5x4CSAAADAOqBAAADt0GaJGxBP/61KoAHHc4qADVGEJqYUagu5yVi\n",
              "3eKv+YtdE1nnaX8kPxRXXrThCFjCNIAQ1+lR/fGhK1R0EghV3+tYziWEaj/71JuFu8R3bqBJd2vv\n",
              "NcEf07/RjlezKg74AJ3TT14oEuEV5YBSmGDYMkXShc3DxrqGrf99AiUsMOXe8bSduW8X0TElJBTQ\n",
              "FtRoCpnGUCw5vh3Z2E0mM36k+rTQSMWh9iZmny9PG+lIN9YGBLyyH6j0GYb8z1emsfP/YLgZmIi+\n",
              "6P6ZGnquhjTmCa+59D7V9RZexTWx/zb2uDa09cxCLpS68WNkGhy0ANf4KkXG38UEZ1c8PgsV+KA2\n",
              "r9BXjYJLpcu7TZlvEJkuq4wBVesIx1lrqYnfHwOmBLdZmdh8sBn2a+WH3NrhIirb8sll08xwYI2p\n",
              "pGjU0BS3UZ3kpP9krt5EN+p/d7nf1WPT8htauWn62HFjgT9z3F8IdUDZjfuM8IS1JtB5y9v1xEtQ\n",
              "2fCNhXPtMXO5qKfBuz3HFDqNJ21YCBVXzYHGhEIAsh0OESu+j18MYZEPYPqF9eZA6PKUTKq0Zds2\n",
              "KVRyUNp1R/4P0jDkYPh6ScDwm1pST1rUxiUItF4L6em0t6AwsyVPeqeHGSdozqDt72M30iofvrpU\n",
              "uwT5GYE4HTxdaaG9SG7a0EyraFvHgyd/Tcn4TXE2E5nxLaCbxdpf+5hzKn2lcqsicHtu+VO83FSU\n",
              "2K4cvAx51yq+aRruucESZcSXc7mCzF4YdbleQKd/kWg00GkL33g4nwNPJ9j6RLcUMIqf3kde/DsG\n",
              "eZPkPEMUrLqwt0fbM1XGn4VI/M+K1sDwh+9ty+fNbPtmLAv0Od7sT33ZGi1VqmN/hFQpCQ16uCeX\n",
              "UsOEuEL87Cfaykqf19r6PPTyUKEHIgAFdHjZ3XLKDVLmKmWCBwG+sbz7o/6/hwIr+u/hMqNmaRHY\n",
              "ylTouUY8pCUKNc5aBrjULlXglqu1j1K0zT0ggW97FTgWHsj36yJoPuVB9wXX20uA2KLtSrqyogvc\n",
              "2LxmFIBR7OCrGjL5K/ZnONpKlakx5BPxg7reit9joVen9b+SG2L9O4fOWNo+cls0blKqjxnQ8cRg\n",
              "ZHy59xfBrnQa4ziDzoqAjWFxNwzHcHsrb2X53ZlabWJap9CWgnlqb/Nr2BkZjZI9KJxmryM3urTP\n",
              "BL91QWQvEKkt/wLA9G+qdUpakfoJI7Y/5UwV/n+fGxbxtpSUoGgzEscZLncSVfLjUDCGfMNfZ3H8\n",
              "0TK3QOHWMi7bqxV0/wAAADxBnkJ4gh8ACOoe1+ZWN6z51N2wDRZhBAAAAwCOo9alXCaWsZ4nq3OD\n",
              "22fTrYC/IgBD5xNrNzX+EU54QsEAAAAdAZ5hdEP/AAADAgq5dBw7V7LKxlwESu6iiTj+Z4sAAAAk\n",
              "AZ5jakP/AAAT5HzUBO3K6WSm1ktMAAAYZ7tqmafqglx3bXwHAAAEvkGaaEmoQWiZTAgn//61KoAA\n",
              "CM81f3kNVJgCgOOmg8rayHV+RqFkbpfx4GfghTOSeNyVfbTGj5GMCd9H+gk7Nwa1R4PfGL/GAbCX\n",
              "goS9o5w2IXvTYzRuWh1gXbpaT3ijtQLpFepArofdY/B8uHpPwrTBALd9uwBWFMnOD80PJQNAMMZ0\n",
              "+Rf9XxJgi9Jv+0TSVHOxCCBYAgl4gsMUCK0KRP67xeTdBd0bRnitVXlTvOcwbyGVAbLT6KU3ihze\n",
              "wB/kfZwojMb+CnmyeUCnZRAeYrMp5IILmaq+H2uPUKVtUq0a4f3YokqntnDW3HbOMicqmIYJR/0u\n",
              "IE8HKS+nDQ5XeOQ88ZN2RKv3ea4bIcD9QZFYNRWDoXZLHxtrCcwJHkL+aJYz5AhKN+Ni+JlKAbWG\n",
              "Fo94g6PRxrBsbtH4EK8y7i7wdJo0FpvRx7spLnV1hvoqlL0neT7mBwxJ2picdCEEcBirFf4QuVNn\n",
              "9rR01tcHIDTNvbZ8yBpJL3P1i28CkF7+Owjg0n1WB6ZUaTe7E20+YQuXAYhx/LyoL/yjMI0eoCKw\n",
              "FFjTSQI+nC46aD6+0AArS43+pjMXyE17Q6FZ0ByB5roahNs6Anf556zMhxa9iKyvHniw5StL/wxW\n",
              "7RR5CrUzaC+Y311Im5fF5VEuVs6Rd8u6RCkbgX9FOLBzs3Z0isfCNiQlKA3Qeibvww6pINFWyuVX\n",
              "gkQiH8OU7eal8YXOgwmJN+BfuET+zG8wVWO6BJTo7QoLdTiAQ5B7PMH8ke0bRemQ0+F/H8Nz+GBt\n",
              "WFMOrw9Cked2f4Afatw/3JfoBM1YGocCbs7SFzgOPhbehuLUAIqPGUfKwqoGG4wDCLn7gYx17JL7\n",
              "RXGYffjslPHcKY2XktnatfA56EnKqY4dExNXZun92hpogAYEUoz3jPfLz15G2jaT1SlHT6ITARuR\n",
              "5WJaECxQz7MtUeAjEpuFCMEGp3ivdsfeO5S1hCnvFSg3GnnUFtMxO2JQv/TbKMO4ZijRpkR6swCx\n",
              "xmbSJ/y1LfgDjfNEfysGdTT35bAdmQ2fNQbJd+5MKunHX684EYRlyg65P4LQWDAEE8KdTV1Rjm7f\n",
              "W/bDdcC5llsaE6Ny8O1EESjEMeUSAmGhNHhozWAgJ75qvNPYUbYVzouWQvD3F7dkm2hMtxAiRiVO\n",
              "K8gxFXVyLif+lic3HWVlRW7O4NOEBZbJvM+Of+1KSu8VkS2LwHyIsBN9GvrZ6AEgubBNljqKWkqi\n",
              "WQ6waqeUEMNIedERHRV4ghPmGlVMltB3iZxoQt2CQojRU05T1zVuhwywiPA/ph/hbyRhP1mlQzF7\n",
              "9aU/5wAm2ypaV469u/65B6lVbtec+/9XQWqHlgeUgaTOAGttf3+GOqUMe8rSn7HJNUjA0kjCXt32\n",
              "R73NgOtY8EBNggHSWPfTqqnt+XB1wXMFdkKRRI1aeN6Z1gYmTcYJxsnDJpjs0tP6/PfkbZ8HmmG7\n",
              "Bc7T9QhC0CmmkqZi1YYzPMhWvnCFwtWXDFH2oZYzHzQW8jO6QllbNKYC+Yl0f5IGxQ6FffL8NrvX\n",
              "aTmfSef4KYQyl05/z3Og/jEiGzaE9TBhcHF7nW7zfJCNH/nk5EXizfjoAcK2sO6f73HIsVNI/MNx\n",
              "AAAAMUGehkURLBD/AAALD9BN8EhjgEXTZcAF0r0OqqzuE6908dT8B158jb8Ce6btP3R6zIEAAAGc\n",
              "AZ6ldEP/AAAYf/2UXBIgYj60AX+V07ZTShrR39o2nRJHS9/OO8Z3it1yU7Vjao0ChUfEk8sdZIb/\n",
              "Cgh0zArXXvcq4D0shVV3bfrhlbQHgl1BNfqZReeKRh3TmRcGwWH45vmWmB+xQ2WcQ1dUathIw4UI\n",
              "V9cZfNPsgmVovA4UyDMJDI8ZYCKnDoCXpDF9E+SMiT0bYQSkD/LexwyDn+IfjfDP+logXVM1n2Pu\n",
              "FskwOOLSapjWaT4Wkgiy3HrNScK88rIFJOJxbjQrD5Mf7jhMIun8VrkHeGpNOkWJxfOqzS2RC1tb\n",
              "iHA2IV/jM/Nr+BkoeXZyvBCPCymytfPSKOkT1SJQ3WsnYWchHVbkmWafgloI6ubY/RojnCrMJ5Ds\n",
              "2ahMr0SIdEjPoj4BY02izztSdUSfJMU91cU0G/q/1UEhreHjTeW3Y3m9g+ccGECFrrjCoRx75DTP\n",
              "nKatOxK+jx3XpJ1T1mqRjEbV+zJxFQtY6EJ4+stCG/W1KTFJpW110tZAjeqPesNvVabgNDL74mIn\n",
              "qVUG94f9X/vlap8oqQAAABcBnqdqQ/8AAAbnf38jUZ9AK9CcA05XwAAABARBmqpJqEFsmUwUTBT/\n",
              "/taMsAAB1OdcgIMYCgPT2K7Y5KGa9T3kp3F0XY+tpiUnr4Ys9M+Tq2KskluzmSjG4gS9VgvDbmCt\n",
              "P+lTPvK8Zt2sO+n7nP+HalG/g+jApVaESJz3Cwdn0+vbf97/vzntekyEY5mkCNSt9bp3ouadKCfp\n",
              "PYWPJYKBDA4ODsiwiOiDsEohhzoPo4Mf9C/QXFjraYvPc0lqwziZU/yxIqcEmT1819uFJZmbv4Zr\n",
              "B1JFYFleBVeQFYrudc9WDhXMJF2RQJIfUCHP73z6IkI8M3fQEX5Vib+z3IzeCs/5DiXMFOD8VbA/\n",
              "Dk8Qsw+9ElqbojF1vTlDM0wqpNblJxin80kiz+YwH+U4bIY2Nm1aa92Q//39892iaScFt9LUZuMd\n",
              "E6aAxd7wsA56WFRv2G/iQoSBIUNorCGwhSKQwR9SlmYMXILmUIoPeXeusZIPRsm4z8f482gURYxu\n",
              "qMo8Rgd8ORicrLDMy3HDUZ+Wxs9xjujfNcqU4YjW2I3Aj0TbjSoi5w81z0U7aJOpHdDa9zpx8nnL\n",
              "VB9sDbxrt8CEqKARc4JdKMDOKPxVfmZZVHe0qZuN5OHd6I+W2ZtEZ/X0Bzno651HvkUgcbW+DrBy\n",
              "w0Ae5YM7Ra/zXQZ4H3sq1reiBtTPacW6CDcOtx8hlpZDHLsdgXhZhWV36qDdjU7RoEyGirui2SVM\n",
              "KNUlzCLSXIDSjglfbBumjx5PCqVh05/02IQgYXnMuEIvNVhUSW2dY6KzxNSW3IPH5ONSQ0xsRSGz\n",
              "iknK+5ZXcJha0Vv/mJI1IYWy4GUDUAGraJnHF3HFlraF2s1+C5gkZl52fIgqAYgiu5NhSRt7Bprj\n",
              "mQL6tWJHzFYEOMNPSASxFIk93eYNbxQ1aEdf63wcElcUdf0bXg36ssRV9tt7GeXHfxDZrZ6kjvAq\n",
              "ImczGHtpJiB48OM/9lMn3YPBM0Gj2ofv9MdpqI1UUsV3PUDmy8KbyKd62J8vyMBGm0fs8o7E9Vq1\n",
              "q0Cq1vT7aYSn42Js9J0IsgUPDt3GkDw/SR/0BmEHLrvmeFK+ij9JtmPnJS9o3jBaOy2W54WoNr2k\n",
              "VI63RSFxc91pNrgpgLsmnh9XxtopsRXZZ6UkGwTXErVMNSNmDKegtNUKSMHUVdkmFv6ln7z5yi/z\n",
              "Un+O0PxaRcHa/kN+NYOeSMZuZkxzH3QeGRENdTz1usBHyhUwOUIfHMoFH9Wyv88cZn4DAR8EEX4N\n",
              "oI3x5F0LptDckOYsNdvQImt24JmYWMyyhJlOGvtLTxl0HpiI2CkpL88NN+KTBbgKcalXqVFTTOwk\n",
              "JSCu+KDuyU77MhpbbSZzwyZJaWt2nCWXd8eZWwsPYNa7+lKRzL1LFaedrsTqQAAAACoBnslqQ/8A\n",
              "ABPkfNQFLcvjr/EUuHKV5AYDLU/jOOqg7o7XQ6cdcIl4CPkAAAZ6QZrOSeEKUmUwIKf//taMsAAC\n",
              "QNasxQBflkP7K9b6jxO2JTfm0i519Q+nlahenaqGtmyX31ozrzkdvFV5IBpWqI/7Wn9iUr1Rb0V2\n",
              "/4SOs12vWCgEKXK+jugBDz0yku9Dgqs0mm9UoKT445SSA712jHFalmnvHKCgOIP9PybkkdWQCPkS\n",
              "I0Fj90Epl4hYaupXGNE/AQwhHndlEPnRRtJox3kh0gixSI1pxCZKepK9Bq5rnakI1Z/3FwJjtmwG\n",
              "2S9bUGhPxOTMqxZ337CTBLxZ6l6qmgGG4ulgr3aohjaZb6XC9tfDLjWAEu6o9aqr9Tixpkk/4sSV\n",
              "qnic+/XugqMwXoJf0OxkijHv2B01QkDJ7cPBEGZ0jKgENyZPScdaE5tEvtqghdnywDmUhcAFfWYD\n",
              "QpWcbdx/DP/ndvb1ZGOZGOs87Hq+ghgXdghrAFzFzDSaHBlDtJ0zHC4eRqxZ0jRcOXM1vCfeWGpM\n",
              "jRB2MKfDt0S1PjX1IiX+b4XdIvhjWtx4cJLx1PnPD+XCTxYj3wiso8h4hSaqXY/k6/+IykDygOPP\n",
              "3czZ0yqUs+ARFDUozpzM7vcjm5ewonIsBYBbRvlTgj0FuIzkXBDUC4SZUG2EzPg6eRXxGeCHx+qZ\n",
              "Og3vB6O9E8yu5Xacx942BNH7zNxNKnuSsfEu/65AH9lsgBbPLhOH5rj72gXE7Xonx9l5XYrSQz3l\n",
              "J/zlrvk27ZNcT4fwjrUE+rHcG/VK3C1LKllvnjWzvQ7dop1X4U0g3/Dw8HfcRRe5ux3RJPFt2Tzp\n",
              "OQf647sa2+6fK+wTxsL8FjngnwCc6hytTrg9XalImUsTC0TSec+vHAev5HS6t90LWJdOi2PUMkcm\n",
              "8PaUJ72FOAVG43eZIQ1ybaAjefjwv0k3FkM0lIfuUnjnik8PEm0B+MW8AoCHDVFJd5Y5ReSOQ/a6\n",
              "e5STBI6vPGvw9wb6lRzzbqXEu7ixX1Jr7NdaVWT0iw4mX9QY4Y1SKU5GdK8l/UrFmQfxU91O/XVB\n",
              "XsqrQ34OmALSfnSniGrDWgsypmmxfYmd7oPT23G5lcfxde7suSt4isqehOzyQPH2uZlwz1wOvhOm\n",
              "UyzYHbbhXnMviNzyjx3K+/I4Fag/WI44/Le2eaBFUlTYEnq66eGFbu3WqjHs9EieHmC3P6TkBGHe\n",
              "zwQilyWAqC0niav1c4pp0Gq1si5e6r+HsTup3306ds4RJx2A6Jw+HOOwEEXZNB7B62LWd9PhvgV4\n",
              "SFKEBJVpEXqrQJeZF85m8nO+lxHQheQRk7f7upuD9BpwdiiSdWR9R79SayIeuUl/DlGV1vog5lvX\n",
              "cEtTa8Y/MIpiddXaklORwRFL1lyNrBS+Y9nyq8sQWStfrbpGZtZ8Q9AfOqbKLBqXteTWnkSc9qQv\n",
              "dr+o/+gsyfvLRvEDCVNfpaEOetxuDrFWWcS2ug+ELubvCuNjA/xSjSlnolYuViTCU5zaeZTPgIu4\n",
              "AuryBxs49ziU7/4FAB7Y9w6Jg9qJ3DNwZr/2Ui8+/qve2qUZNDdOsOstHu2lPj3iklOjD/5FEx/c\n",
              "RCJFQMwWLzHiCUfP+h7MLeW/M7MjH4B6rF9I8ftfYusxQvQRpbsYpbsTUeaS/Uq+xSQuDlVdCez3\n",
              "ifslBtoaifTJm7jndaOTr9BSlqyF0NAO/BqWsLvEFLgZAEYfC+QFtoXmy4eBwjJ4hShnrKHSXleS\n",
              "upfBL9fejw+MfqLmy+is/t+Bw4dLMv0wxT14XEZf02iTrrxaA+bug298Ii1E3hxRKCBBU+y3qp1T\n",
              "zQIcpb1gW0jjnJkyL9DNMJIH9SoflE/wS6pB0+sXvmBBsxrIaasE/G6x5QYXfYaUzQHN/1jKVL+i\n",
              "cykiNau7e+nHj1D1QytRGkA/lpUp61ZmnQYfcuuzL+YdbZohfBZYNSrc/TP+4W8P0NDwW5OXhDJz\n",
              "om3rfufb/4Q6hGRIA6YVmLPs4cu/MulwYahY4RHAQnYiNRPn/kJoH6wH19Up0J20sd1OhbmxqdD9\n",
              "SW6QdggNZ6J2PaztDVzOja8W5wNXj6yO5kTxE3S7zusRrmucRAIXnozbDHuQVpy4fAmUswgRwbGK\n",
              "uydAuejONNFrWKUcoWCqk2P4EBUrDmEPRklgWU9mmdWKLf4bAvLZcd8tRGD6SLLBjHdOACgkKkzR\n",
              "MMpe5BTIfmw7y3tw1GXBXjyHxO3j7JWPAOnRGdz/G5JqXV5br5a0b8dW4w4AAADDQZ7sRTRMEP8A\n",
              "AA0thWZabFA+UUc4IAP8wJb6Dtr75/Wwaos3qDbPhXP9w8pk6rvafZGvTISEsUCnrC4ne93bPkGw\n",
              "3Sjsg5CxlGMo8Oo9f7YThxSRw34AE7370n6QKpX/t1hs4C0RcqBejcZRy5p9WCV8eBPoKtI7xw15\n",
              "JDlVNe84XPszIzuMWOylGOMJVhRJCzgemSYh0MDqB0rjuhDJDMeGUmRpLzG4LWpjEQ/3PCIqv7hp\n",
              "xb0XePn3n69kmLnKE9NKAAABTgGfC3RD/wAAJLLOqE45sFdaqY1Vh7Fq9XHG8iZ4h39SaK8snDMA\n",
              "CyZNR85W/s9d0Y0DZS021UvLrgK2HqYQlqSWgGngnDw1f06PpCh1v7yh+5zVxA/zYt952YPj+rlG\n",
              "81ixp+U9QueKhuEdDtaxjYegbdtuqa8l4Em51CURR1EgW//tqccoIjSAP70YtLsUe9XzCjuusRvO\n",
              "zxwBAANMEO/O56XzlzHM8oaPgEq6TEfEddZ/PUHXkDM7PKzRoABOG5ZMvdorfmT/lE+gpI1JykCQ\n",
              "Kd83y1WxtQ4zgIFDVMWnP/mAjUk6sigFco63DmCzPvZRaHv58t4uIOEDZ38JFPXnH+C/KqGBJjBE\n",
              "UZkrTsGQKH3f4nRNwBd5lFXhxcsIs0tVLnKkl5oLYqy7ZOG5J3/9gFkZb2kHqizrayQUx+2j+oVy\n",
              "6dsZqUsx5Jv8f4EAAAAsAZ8NakP/AAAc/sZFwyfihdf/LrD9F542lgACa96A2JGgQciFCYm1C7KP\n",
              "A8EAAADyQZsSSahBaJlMCCn//taMsAACuAZwoRxFI7wAOOvH29OE0mqbjqkUYaY/Scodip6Xfzd9\n",
              "YQ1NfbS9PMZZEoRt24JNgFkaaTHLqJlVBd45dLl8VsDeCZRNuPub58Y9Sm0QKWt9FG2m5omOVCb4\n",
              "PTsBJzH1t0V9lxbGpso9EocT0PQTIzVGyRi6yM8nzX4GTycflRWGvM+RTpotYF3TPF9l4JReIrA1\n",
              "z+1WkLlM9bCm+7W6v4Zn4abytdXzQOKJChjUeySn8DM/LUU8yQ37JjHliAn2czg7MZ/N98ZVGcVO\n",
              "JSrkm7vPuo2MZCNnWWDaOHSF4vsAAAArQZ8wRREsEP8AAA0tDl9id9kpS5JF4POemDRT9NRlzFAT\n",
              "z+k3WSMDgdSrkgAAACUBn090Q/8AABz69mR0V34Mehszc70cJfwAMWiLHicVD96F4L2AAAAAEgGf\n",
              "UWpD/wAAHE7IFlerJCEJbQAABFNBm1ZJqEFsmUwIKf/+1oywAAK79QrQuAPHrmwKnV4HA28X1r3Z\n",
              "GFLjaNkBPNOjMGD+0Xw8AUUtU//NuPQ3eMne2z6hIUE+2Auj6ecHY9NlE8eCnNveSMjSdsNZHpFo\n",
              "jTXBPFg11xEO+dcFCkvi4cUsPQU5DQsTv9rGRj0QE1QyPO8Sw7JaoTvVXoWLwJluSApDV9GbWWpS\n",
              "fIQn5tlhw/EIMycPiSHLNCORSHw5CVlOM6Zm0d1Sm+A3nr/zTtg2t6+21UMrDAjNp8QZavY2EGXZ\n",
              "3JLfzH4Qw0kN2VdHDTd9Ohml6fUfmKkkMG+lRGNuTmg07rP5b29UDR9JIKD5n92mUhsCpkjeac7t\n",
              "QJOVEyQqhOPd8aI5ZVDtopFvzzztFX2EMDXMjPi0KOLO1FTXoJmeGSwAa2oT4/PutAPlnhscFpb1\n",
              "EAjDhpOlFlMrUy5dE/0rUMHLLAebDw8PzW/GjWjfsLDJXu07VWU3GKMuka7xUri41iFt+CENiEJt\n",
              "+NhF01wxx5XQAdD76tJx3xhkPohXApuAd3OWhTDML9BD2EUb1jc17+GLXuZ4PyzmpDeLRGhY0D0T\n",
              "+olv9vWg7IYGkgHjaDa860988CuQDsXv+IIMZy3r08AEOLxXRPKa7C/t6pTO24en2qixWgsmlCQT\n",
              "UIsfZfMDAr1p7L3BFmIQW4kjJj//3IN/sx24YZw+b4nJjotVIBZL7+/UY146rlKpJDFdpcHBb48f\n",
              "9oaD1GudsCdr1Wih0N0r/3dl3RCROBGLKmYhkf3NCsXu3fGD0+Nvxc36hMDWdHYz14ahCt+pkJE7\n",
              "YMS2hDYc/LfSu9RMNy9U6XVOqIdqeOvIW+3gO3N6ZW4CR5j4sM/BsIxj7p/K7ALeoa+V7v0MJ75l\n",
              "pOgUBpmci/OFQjea9MyNbsR07lLzBSwYcb8lSBnInKjQBKDQZlJcd+T/QJLt04ihBsPRcYkQMAJd\n",
              "ZXq+Q/vnCnobgpEbB4YQB2fdQEzy5Ms43RMDhuM3Vsz4S/VViqdWSSNWDfNHF3/NlNjQ7A+wQIpy\n",
              "T71mksX1DCGPCTF9NH5DiCB0En24Ir2vBUEoFJoGytW8sWa4uTVLolkpDm+vLsVmY6AdRfZgYEcG\n",
              "uPXx5mq+5nR6xIspbOhlh82heYzuKVdxDasoRjE1KlwG0XP4J0Z7jMpjFE3usbCKc/IMJjJJeqt2\n",
              "8L0pdb72bfx6AQWndBuRm0eFirsyAnZPgN9aALpSwEncmFDPwKobwQSgPgySzkkKXwUEKXZcLMpY\n",
              "oeUFYy7yy3bifGb5okbf6jpJSAcbksAolvJ3NSn4Q0hoYP5iYsgE/wOVMazdKyQLe4QY1hwqGffv\n",
              "qRvE+JS2G71auk7PJgbrPfQMhgSrrEHbbu3xjotpaBDZPHaX0v3yDq4UhVCiwi2kQnkZBF06IZFq\n",
              "kUzegQ5yCmLoomSjyPiDVC6MJIvgGdfLd0PaI7bWiutU5yeJ8+5rnFt7UvIAAAAuQZ90RRUsEP8A\n",
              "AA0thWZfX8e3XOWItV1xzJj2vKNKAwYk2MNUeX4A3ZBAULkcwAAAABUBn5N0Q/8AABxK+VhA5gyT\n",
              "fe8K6oEAAAAlAZ+VakP/AAAc/sZFwyfihd494oo0zQfLvAAmwX8ZOFBLEJrTPgAABJNBm5pJqEFs\n",
              "mUwIKf/+1oywAASHn//zLvrwA6Ll84R7culvW/pcCVPP9EiigX4Z9v/BVPCNnkHxqLuFk7d95dx8\n",
              "cbIEEY8edGLzULW2Sy89jJWKHdrN48zuXZkTqsxVMMhfeljVWNfzP+HrjzHwPnwtyqffv3/3KiDP\n",
              "9o1Jic2XY4lafoT15WcLRU0d5TCPxjzFWrM7+M/5wDWybocfjmbUMyfNyLi60WyLgYxI76dVx+dl\n",
              "eoZ9jrnivLv1GRYhNhb6z0+L4I23s91VFSI8yZ3huaUnVGjWZBZicG+JDCpgeSnixk1K8xc2oyyE\n",
              "8i01iE5zt2SW197IW0XcBLV3lUg2tKzVE9WruswrPWf9Zy7NZOCi7APhiAgM2TpvUOO7peAa23M5\n",
              "CqpCpDxcajFKbKq6Wa7b6SdfA7zjfQhSYeiWUS8ZMSnghg+4sN0X8tg9Dc2uWcT7kzINQTrmNOrp\n",
              "qaKSZ4OqKbnuFklID7eVbPb/Pwfkrc8Mo3jLjzqWTkn8Oowty7yz+twAoWW3iTKTx7v+8fNmP7MH\n",
              "vkfT6AETRnLo+XJWSoyL3bvO4kASjw+cyooG0iOs1xJ1tpQTImYw4N8d/r0//zMBZp9GZ9WuQbF7\n",
              "hiV3uV9CvUhYMLuJejli/cjbi1hA9QN8iXUD9YlZU8CajvOyjp9nSqnREL0DKK2P+zqCF5FHpdeu\n",
              "9J6YvZrqX7tlo1Z4J2o6A2RWLjYRNuQ0Gu8CiZj0pKUJSH6Bmw4AB2kKwT5jUOjf4OMDVcsOjkC3\n",
              "9Qz1NmxxQv+sv21K81IlTdkByXp/Iqo8Dz/rGwErn6JBWcYbvXRMXQDACYSuYKusloefbJv2dG3S\n",
              "QD/hhVhpKKZkHpVAxBfCDb1CiAzmLNQUGqTpbgywusUZot+yzyMIrKB+MHYK4pBQTqG06gUifaAI\n",
              "uTq+NCg9vOpzP2e/LcwxUbCdc9CdBSibPI0MjytwlS75bKn5ZCwRuWWeVrbZ0CnnWOEX21gzhjcs\n",
              "loaBMC5dehIovq8utJN/9JRxaRPHduKAndI4bRqkdK+S1d69czkse5HPjO10rEZPipz0+0GwhRqN\n",
              "XX/rjCBVR98b7a9jZiE4xDlx6Prj0L2NGwCmxCjfwzcun9C72VkqCN4SJxDlSmErX1qJ7xbbKdjp\n",
              "mTScatU6srOl0Bc3E8aBEGA/qN/xwZKubkzicdCdE3DCJsGpGpBiz6V0xVk31emdDrP41XA16fBQ\n",
              "vHNXNos2OLbBSh84UdFCUyPU4OBaqU185J3ymjCCfcgmCZiycaw8CDUwx+z9N+cp/yqvJTGdxUHk\n",
              "UGrXE4gX3CKt2s8CZGuQDNu3DqyTuUTAuY+aYzRj2OOd3voNGUOCjrPyv1Dd8rf48aoarkSca33H\n",
              "pVnVrbdL5zPdjRlke6m2UnVGL4zkpgYM5u4JsM8Me7/uGAJ7bsf0cGjmAKz7kGkyocTpNnh6DmqX\n",
              "bUsQ2Sfow14Wm3jNMeAQgy0Z8O4xivblK416wKfI50JXH85/OABePKuBaibkUF9fUKyq4z5WFu10\n",
              "ewDdR2BgaTlm3/M0Z663P4eyJmYPOPOBAAABhEGfuEUVLBD/AAAWIfFm+QAAr3mPPDayly4oNyIj\n",
              "+mOgUAQjchXBOjFOer5ch/mG98J4oqapgCletgrhtI/9K4vDhbNhtwxcI9+N82n2Mdb+c4+oTcoZ\n",
              "xr0lch+aqUN0VKYj9dL102Vp9FM+mgKCY/IKkPcUKkZdcJqvkZdyUphUGk0xXu35us/WLKzrvBVA\n",
              "D5JR7pEF2k3dugLn8zR4pNQEU8tzYMb0V0g03uhWybgjSV2eamXeZCkvumW9OrpAQh1a8EwX0VwK\n",
              "0bOnkjcbcQuj7FCDk+1LrLGntJdmX8hMe2qQTywW4uQleBLlaESV+zs9BpLuuW4Ok+TW42QnKKhR\n",
              "hNUs21JlXUb3VRMS6WK9O58V0SioLq5B94loJZOA3qAg2ygR0sAigkMKD7pDKP2vAiyTMkfsp4ob\n",
              "1aJy3pzZGGgNVQwEhkLAHanGVAvEwZxTPRLPm9hb19JbX1WUrOZi/i5AARJLXdjtSjcXDRJYutRa\n",
              "eKyFfjlr7PetPDQnDuTI9REAAAAsAZ/XdEP/AAAw90s54dqgaL0UgcBCi3tPRQ8JkNaQfQAD+NEk\n",
              "swqw7V5vD/AAAAApAZ/ZakP/AAAw/j0P1kBEph3CwO6y/uS3n1WXtwuH0NlLqREajx6umecAAAT9\n",
              "QZveSahBbJlMCCn//taMsAAEoes65GFXkz/HKdK5PdaylpHrWh7cqz9dXqGG1T6tzPJROLrMK6C7\n",
              "pD0veNn4cOT6LPkULoSrMo2pyeVTwDu/xpV+uXP4JpITGlngbMf2PLVpwj2bf/SVcCcU5QaBqANx\n",
              "q7D3WroL0F2NaSRhm8RF+Ys5nj1shsj8/CBCEcF/PZ0QM2QGP0ggMMLMeiAzI6PkXeX8vhO7PDU1\n",
              "1ywWlOvfft9I6Kfi5z7SIEHmLHoqTGljF5qBuDfxpm3hdPsXKFK078x3Fue85qK5+q6BVXUdrDGX\n",
              "lHsPuQym8AFq95Q3xF+8V8H/DPtjoDdfivOZke20GqmrALRbgldm4NLlH/YEI7HeU5iDFd+C3wYL\n",
              "ST/XBgWwKisvkfuuxpYQG55A1wJYl69mwh4m8/7ufD1kgBfJCPC0/J0hwbNYSJLOTeUH7j/0zUn9\n",
              "XS+moTVdxsKp8ZUp9BhfjSsPfQl93PDiOgoYesKOq7doAbm3+WXZnpq3Wv0Dn9d4WYo0RqicXu/6\n",
              "0TX2DTAJXLnD6dmiZemfV1Sp9zy8k4nDf+BKi6A5ZpS32DKsxswOqBLOtw//01gu40rzcCV3pVyi\n",
              "N7XsPurPtPxI+oO68j/VHP371DwBf5mTTeMMHLm8bx1BkQCLP3xqYiR2EqWYPVPgkzF+HBox0UMh\n",
              "jgHgkF460vzW9mSvJpi0qYzhnCcs06qAWQGkP3rRQNz6RrRMudtVEoBuLDrNiNPsOqmkSfshv9y6\n",
              "e6TX0ETor5BbvfApwUgzw7gIE/0yG6NNB6Xp7x23nfeeZvB8RKKbBSDwDl+sgfkljzXMDwPEbLq3\n",
              "GkGFDchuOk7oE5EqZIj2NYesFaA0innFVcfBxCn1LfGSJ9JqP4eM6S0uzv//ps14yJAU6jT4DBxL\n",
              "6hdB3Kvq/+oqZvir6A+T/jmUEK3jcBHJnkEOlDvzJb4BAKZXi7pRechSvpaJ+3xiCAHkaVqw/v3U\n",
              "E9BSMuR7Gn2YM1pNxvnDE1CTHfNXgHAwwd5buzD8kP0ZY0+Q4xhA38nwWUJewyne8UtCsNzJd+nw\n",
              "pn1oupYOA4rhOI0clYKXB/IpSypkXTgnCW0nPEaWEQpxS9F1si4BE/5soF7aiQl/3c7+ZI2wDsAD\n",
              "Yk8ksb3Uc3IV9b5oA+c1jCuXDbeT0QhUkaFGiiFbQ1rF9ydrWPyKOcs7SdXNO31b9O5G8rROaqoi\n",
              "AooD7hnwf2lBRAcL9Z8KRIs7EVerLGgQmAOQ2iGNX69l1uGckMB6qbZiBhcniQQt2PTIS0rMjhkK\n",
              "s22I51xz7VNUctVa1pe344/8h9ZFjBkBEAilsIUTWZ6aZ/KQSP7wVbpsocDoqST6k/hKNkadumOo\n",
              "y2BKJ9sxXaFA5BpkH4iLfPYzgKqcQp94DhJrwu1u4AbP0e6VugGEVJDojFpqu0Qh3MuU2U66boM5\n",
              "ZlR3NTW9UogWXnysl8lL1CpcittLughI1JMHDzIFYE+BScW55gKwbTnhlAPS0SiOONIydfbJFs3H\n",
              "cA+lczNyNeJIc0UFtDpGx0F8k1G2yXRVMim/SbVwLkz7nk02f9RzgbKkJIMZoCtHKwnNODOPwY1g\n",
              "ebw1Lh5YCUlmMwND1M3WcvXNTeTwkwQ0AN8cQJ0x0cqX992QvcJyxGHMN13r/dCNmAep8ZB6eCVx\n",
              "eTeDYWTN8Z0rFeapoU7HUYZVX40qguoAAAFNQZ/8RRUsEP8AABZyDsO7PAOQiio5CAAIx+uwQIeP\n",
              "9HHz6YhDmoGRuYhbsLHFwYwec+bAqcCChn9bE2Z2cecepK+I4efPpqUKw+YrndWccQbES6Tq5Ffd\n",
              "XbyiV/l+5dHTCxBVe2FLRbUqb9fTSFJxzFGQtgn/owFW2VGYXmHRIB7F6F5Rko0V+2g5251CX20f\n",
              "OoVz71H2YEfj2T2SBIbYTHCvbnKHnyILHaYCdRObwXluBN927Dah967nZjNrwKhHcieTJXqHoSWY\n",
              "7cJVg9ibFQnQRDVlWSCItEmsByglJPJ/CT+fG9MoAaiysXfVPuhlvOMvhCKG7Fm49BomKFO1rciZ\n",
              "EZ1sMcDawmVdpmvZZASUvKWaC9lv1xWP9nngOT7D4vX1Q0gEigUSqjjKqAfAs5CWxS7+Q2t1ObHm\n",
              "hhsI5qfEhIvUO4GI8yHN+0SnAAAALwGeG3RD/wAAMjdGEMjMkB6TFglqiBpxm8ZaBzWoAzKuBtj7\n",
              "6EiI8XSHdUkduKelAAAAMQGeHWpD/wAAMj45qNn6paSj/v2khwfsS+0UYDymIAf3DgwBygWDa7xd\n",
              "D7oxEEFhisgAAAJWQZoCSahBbJlMCCn//taMsAAJCm2MOdNAEUnppkhSEM5JFctxh/EwozhRj91l\n",
              "BOA1zX1xrEhzQ8DtxBlS2wZnQShOk0MriQY6X8dexvenRdXHpJayrCMykL2iYPxEAcCl/d3UA+TP\n",
              "9UvrDPxOx0BxA+53b2CbdDI4UN02f23WYv3s9LcU2+YYE9cvExpXDg8+qIFZZw+rgiam+aQ8ratx\n",
              "UuqXqTn58fmmD5CcNWoL3HfVB7M7dcOmsQ2Qm+DOXqMbEcQchiCsasH3dLU/pHPBz7ch4Y9nxJhz\n",
              "SKb6ID1670+IWVm9Gfdc5+AtOaj/tVjntLER46BDnZVdBPHcrrLVZvSYul3v8mv5yzw9kfRQr3wb\n",
              "9exAnKtiAuy/04v7fMH04Fbq0xUHIqSIwaFqItBTw0wZ1LT21Bcsw3FtKP0pDVr+Qfm4k3a0E51a\n",
              "9nrg/QBFs/f85Ix1HCtNTCYEOTGZx/BktL3WaS/ZSl/+7dhOqNnZTQSVpAP1z9Em81GATkHr0d3g\n",
              "U6qK/2vq+as2BLgPozH7BEPeCQNLziuXSg5d+L6w4DqofHk3NhV8cTGuPU0r6iQdrMwf154MF/xM\n",
              "TS6M4/GBsM8qk5rAIubYF7+tT85rs+7IrOXDSGavorUK+FCai+dViIKOuGse9e5NbEJFwbbNB588\n",
              "mdpPcHl/2eVnT/gprTHE7uaY+7F86qExTG3nFOex6BDA1yCAmZ9QT5dBciM+YApEuvGTzy7oA8D1\n",
              "WPaLckAa1XGVt2U7zqJIY7xd03t1JyWhIOr0TOeZoTwRHQNUEVLy8AAAADRBniBFFSwQ/wAALEL3\n",
              "uuFbkBh5bTv3Qwb4eeVtAEUyyu0r8L4GRPCdECoRse0LwrQaocHBAAAAEgGeX3RD/wAABh7pUYMM\n",
              "znSgVAAAAC4BnkFqQ/8AAGHzSXrU1esz7JMWlNuXY6QBvh/GLIhIMBHb4ZdfzzSpVl2nBkfBAAAC\n",
              "dEGaRkmoQWyZTAgp//7WjLAACQPMmigD71+jxYnTG+gvDJY+o+nwQ9sUB4iglGd3+jt10agGmV/S\n",
              "PdmEd3hT+CjbGd4t7mfOoZv0RPhnhZ7kyGL/NEhXJK4SwAp/IAG403e9FR0vAUJbgsVuFn7KbepX\n",
              "HfyTE2J7kZ76/0kIzewisqvr9x8z22wfnWAbN7xh6tDoC1w+Jkw3wtxbP22mrPLIAzXvENHTahdi\n",
              "C7iNW/aUuqR4Wb5MV8w3PsXMOuQMRPGc0gKJcFVU/3uAElvIL6BlkyxgDzcJmdUy6MfeHd5v9OjY\n",
              "ma1B8vGH+On0+6uzA1W3P4S3ktDgbRrhmbpAaI9rWX9WkxtHTOehTEhvA1OvuuJtyQ0nKx4Dbj8b\n",
              "YbCgMqbTGyg9b5Q4u422Ltq0C/zNQsxt3OVaCoevzfIu/H3N1bHg3aEf/Rf8KDgwQfZ+nQbWKw3/\n",
              "/NH43+egqH2JivrwlbztODiOLVnQxQX8zQS5BvvluKPQgBqBNu+Iw2kf2/zkaIg03QkE5zOhHnEy\n",
              "fkxsW6CgkqpSoK5R3qX3ZjL9c60xhZnD0AsE3ZgxxJc12W+mQso4M40ygDb0MniTF6fKU1gp1vmw\n",
              "kdAzbC6agAAPdaBnGrYt2eoem+1Btr3ky5mh0QPCKqHLnlI3uYpjzvoobhu1yiGBRx9qi2t/mqkR\n",
              "P8x7zygBunEF99kltYXbV8X2uPD1hNeOwRTHDBlWkumgSf075L2NH8PTe3iiJMW7+mOd87LBDhD+\n",
              "bQGiufzsx0jKgpqrIVSkkTfouaMX0l+AMQdRDfsRG0KNCMjz1xz+JXyOi36Q8DA35djq9GsggP3i\n",
              "FJAAAAA0QZ5kRRUsEP8AACxC97rhW5AYeW0790MG+HnlbQAcQJnn0M2t46r8bvUV9h8dpsswUabh\n",
              "bQAAABABnoN0Q/8AAAlq5UZhAs3RAAAAKQGehWpD/wAAYfx4uvWOTJgs9Rt5yI5KqQEYAKoEb1OD\n",
              "QHEPC02H98j5AAAD1EGaikmoQWyZTAgp//7WjLAACUPWxQ11U1yHLl9owIGC550L+2jLXT5+6fhw\n",
              "b8X/Zbe4tbKnG993d50BfdNQxIEmUCI5Gk4KZcCRyNPvtWlxAg8p12NcGNwWeLvLozM5aJ+0VP2d\n",
              "NHJ2/67YXS+XZ4JldO9/9ucztm12Cp//inEEyURdYSNY44tmvg4qneYqIKQDUQuDv6TlsJveGLQa\n",
              "XQxwbi+WJjyYVNlIhEb5nIon5M2L3H3mCTLPloW5QNvDn59CIrbWy04LoLdMcD+0v7Ev4Ktx4H1t\n",
              "Eb7jp5uGeniUVNXpUA8OwIOmapF2ORWKjirJWzxEm0yG9dg2S3PTGKYJr2APWTGd0fM7e7zSU+bU\n",
              "8BNDBiOa/oWvisTCJ20m9bJ08XhVSL0GwOt7NiMNu9QLrGDdhhKs4p5ioiL4vNUAre9uWdGb8CI+\n",
              "deOAby5SMRpv7Fg44xp2gN87G7tXwxf2IOZR22MCqp8toVsqqKIo68ljqVp9JUeOPUgr++p3pEd1\n",
              "86PEHl1QR2EVJcNvdEuptcOUOKnPyNku1olGVNpVV/LO5I/hBQJ8kud3C5ayXGWA0ruvlLjir78i\n",
              "eIBwFmfW1QsqL6Y0WBKvLd3FWfooOCb+j6p7biujo4fqbtp2nMUCutHORvpSFTh2kdwx/GUew1Xy\n",
              "2I63XJPWFvXF5HSdsHckCHFCe2D4FhvpA+wADA61/Y5QGn58EAS/b6SKppzfAOiafI+U5yoVc4eH\n",
              "aAvv649O2QWjo84McIha2uWUmvjkBispr/Y7d5fECeS/ByWnowONbpMALGqb53h8MJH5wktACbgN\n",
              "GUTwygYpj5VpreQsvBYxTgbLZ6z97zTiLtgJiV3my9CxfyhFdGYNNQqLMovfi7MkkigyUHFdpPz5\n",
              "seySpHYPIV1s8lPIeNkbC82mFat2Uti1uMYU6ifhitACf/VDkZJZeiVZK2MCM+6IUcHoga3ZPBeZ\n",
              "PzmZtLEVHSSOa8XMqIQakP+kWDcGptdPE+W0Ex49Bbg8u51uKRR1t0Sn2qBCDm3kf88pb5AGQ7Bc\n",
              "VVgEjlGvUgoW9xAKUqIbwlCFIhSXgLUKKKKo6/rITQvvN4QhjkPwmbJ0SwbOhPIr+5r9b9nBoefh\n",
              "vxl7hj438MvAVYoc888v8yHYVG9174uYelC25WqdVDlkTaB1q6DAjOTAhDTRLW4AuU5tGea+d3sa\n",
              "bwnenbBOdqgT4BIXMU9QsSf9vsVDt5bogLKI3QWE/bubhPeJ8+KqC8GyRJHO4OvvwnTpmZfHNv85\n",
              "E6OgmfeEqoOhoLQroBGBVcf5jxoq0HjtAAABskGeqEUVLBD/AAAtXzpnDkav3Hu0RDIQUQ7WuDgB\n",
              "0kQ8q2ObocEHBwiFgsa0dif3fEreBYA563hAFQcbKFlBk/m19qKWs59Coxfc7PlKFrntsw3maY4c\n",
              "rzhLIdpeWdtsx5Wv5YactYeW2do4ng7DvoWFTokppDc0murtLdgsaX2Lw3QKdhdflWhTOEhhjTIn\n",
              "4z7EBSm66pQ4gQl+Boxz0Ky9sZybpuO3Kdxau78Om/avz0i5DM+FxiZofzf1nyj1EHWxbZU1Z+Fi\n",
              "gYITf63Yvcb31fF0ZyZ2iutHRQ+SUYFPazDqMvkSrsar8xTVxVo9ARThcKMMf8hD0Npg3ebFkNHy\n",
              "4RGqK9/0lPIuu8CVXsXS/3KFyTdyjjPuEbjQxCguDcGdrzk2c4IIOtQ8/GfNwsb4+Y3AR1RvS3fy\n",
              "LFTUm7EIoMi+F7MR+fxlfV5rgJ6RYY7lOpI2afYng58bja1vo+IohMIAQfH9m4H66j5XhUU51rt4\n",
              "q60v5vH80Db9CfrnKfK1ioZszqFU7p7b6ANQw6M7u4QDMmGUL5EgScCEwFPuFDPqORMaK6ECTsab\n",
              "XNV/Agh4AAAALgGex3RD/wAAZG6MIPXJReWagky8AM7LvKODTtB6pzTOJ7xoYKwZ0fdq5LLvI3YA\n",
              "AAAnAZ7JakP/AAAnxOfeTMRWQMqsuaEyl55XBssxTFt6AtsR/HrOTsvBAAAAIUGazkmoQWyZTAgp\n",
              "//7WjLAAAjCj/taIDllskQe9iyIXpgAAABdBnuxFFSwQ/wAACsfQFOzYIRjLkWXDsAAAAO8Bnwt0\n",
              "Q/8AAGN5JulxlBJ5pVeHM4pzmZHkyXl7sY31TLRmFuKXPdlMkFM1SdZKfoAWV8DLPDsE6DZITl1U\n",
              "PATUObB/nFN9wIuSY024Cao6FiWHDgtQU/pKbhv6oGmeWje9Erit6rzwBrmvbvcp1hAd82V2BBvr\n",
              "pvSDwW2Qz5uzJapG45f7jawoo02wP4i+a5rUd75eMJdyMhzPN8csX9TNpb79PL2yNQp0wgQ7XArl\n",
              "hVM2B+cvIKoU43HSpLylp2pnNmCheMspm1LquGx8ZjHXf45accR9dTTb+txmQ04FhfY8/gzXnT8v\n",
              "B020ig+goQAAABABnw1qQ/8AABBYNoJojWbpAAAAFEGbEkmoQWyZTAgp//7WjLAAAAfdAAAAFUGf\n",
              "MEUVLBD/AAAHa1TTfGSo0iUc2AAAABABn090Q/8AABBVyolBAs3QAAAAEAGfUWpD/wAAEFg2gmiN\n",
              "ZukAAAVWQZtWSahBbJlMCCf//rUqgAAjOJHzPAA6Wxgh9gmECJdYX303aPTBygV6tlqLmhZHrCmL\n",
              "hXgRc2A41f5hLmejuxP4a2DCWVu2F9YsOJd7hHkI5hgW/IQHRtR5piyrgBQRoqzizmqTwo95LMRz\n",
              "h9+5wevEY9Z6zrVFOBD0zV3dbBSI9Og22SREqTZgfUs74d9L7wuHVNWGLLeOioZcz5R2KzZuPtNk\n",
              "Gld4U8j+MXPKOWc2ioOFRONQTFrV2drPhgSwZtZsV+nuqOWq+v6EEkKlcvlGPCqLVkNojRw2kJXw\n",
              "orqNX2+vG5dsnsDWsQhk2WQ32YfXxYbjUed0Le0RFzont+YQJuWErFaz987prWrkRqFZm2TdVEtL\n",
              "7e6+Ji3x2WyLPlgHmCDVFINTvICUgtArltrBPlkKMn//XzJudx1valcm+1o8V1PmsDFEscQbbjZS\n",
              "aKitqkM35456akl1GeacJkf+5WV7hf8rHYLgnkaGzPyeF0AXd6DPDr/IyIUmg9QfDgDMw6pgFRvl\n",
              "4G7UizqYluo/LX/OebJjoT6+XQzRpv0rBCVIkPApU84Gwl/wYrksoYDuuazVM6DQ1gp9B84NDjcy\n",
              "1InyMYrGRCBboUZMu9WOvFdG/QKPMShlsUkSk+P1pmLiL3HB6YaLlpVl4KgV/vmbX5FWZD3GDEZL\n",
              "CAZ0quzR6avNlqX8SccCI0h2Ec4Gw7LlR8BxMVWckh4ujD7oqN9Nm2O9e87YcRMuuw2oU+vyPkbG\n",
              "4hRuXIRJLduho40SgyLinrN+jxobGWgFllxzYxwnR9/LEGelHHaKES8TTjDB1JoOtZOa5zuLV0XA\n",
              "Azw+AZyOdzM50hUkl8mDH7MIPCDnmzwZ2cxXHEgzZc43+XX0ix7BOX9HOiIcu9NxDzCDSHE8HhL0\n",
              "CCcf0b/8Ir0jtWEtHvN6vzncqVf4p8HH6oL9JnQxu66SAyXrZ/ZSVcdSXFFwsKLov8kTIqqd+yKb\n",
              "sqywyaSIFuG+KqJt2SFtwyveakTug4sOq+iEPnMfY9VzHP9ssPeywxfxrbZr3wrcPxc7dqzezMAX\n",
              "82oDwlZyk62uDR2fNMvXR3RPRI6krI3d7xqdhQmybVy/b9DhIqL+3jEcbzWLZ8IjBTpNjto4FKTX\n",
              "Joh+iAqegpxjPa0CSYcBZiHwYKe2UAUkEaDtBMsg8q9tbCYrJEPd2PuJFvuSTQxhTTsBJU/IxlHk\n",
              "2bZc7Ka3wm3FsH+9kRQXTxdE91GNNi6L5a+kTj6A/XRv3hU65q0f44Z6TE5Zr0TfPp5BRhQQNEgj\n",
              "tLaAFHpUiDkhoitbK8pX2AO7fyZJGE48+QFN8m6WnCDHVnynXbcQY9wuPVabGdmSW1XC2vNeF925\n",
              "2n0pVJgk1nwT6t1mv7rtwqMKl0O+gMIS0AhwaqTRifgbpTYsCvnj1qLtnbtmEhEHfg/GqrLhD3ei\n",
              "Ivsaqz9++aEnqXf/jJEBWPgXCAuu4CkL8xmY93TJpVMoxb80gTQmy5DDSk7K6SZJieIJ8t2HccVh\n",
              "ZGzeyklQtpTJaZCdsyx4cqS2nMwGaEQrcXJia7IpdAYiNUWAaGzjXpcwG2BToXpmHFj94jS/0JRF\n",
              "PVZMBlDCSIxb3sgUJcPh2XsAN/7YW9XlbjO6t5vNxiB9DvOayyjYorPREOIwx64YBeY0EXrLx72d\n",
              "E3dZzY93N6YvrQSy/M49+dqHYG2iAuIQkt3C73QaCTBfEGsRN8/BGTzpFUTRCqTI9liiuUjMNITB\n",
              "F6Om8ffmXwyMcFcfqXJSoOUKCgqshVj7mJ+1cF5Xc9z5A/o8TuKjwDy0IUGymNGs9APdx/TqBPKQ\n",
              "2apZQAAAAC5Bn3RFFSwQ/wAALEL3boxqjbMNjVoHFpwCG5UQAEUXkcgEF+iDgpyVD1uVfjdgAAAA\n",
              "EAGfk3RD/wAAEFXKiUECzdEAAAAsAZ+VakP/AABh80dDxprbVwvH9kXQG5RQAWxFDhSbilkaKDDj\n",
              "YfZCVJiT9IAAAAZeQZuZSahBbJlMCCn//taMsAAJApGCnHwinOQAP5y+b+JkKJU0EA19S8OM5LHB\n",
              "g/xC/6l+UjqH6wDyc2s//kbhvB9G53D3kHs8vxiGMeP/CE6OgSTuCEEjkqHC+QVmWilYR86/1hZ+\n",
              "Skvr/xDAMv7uYM+BwfvSmiyP3vyHCZOGW0pXJdLAFzZYgRAOuI9pbH84ombfy5vlCjV8QZJwLq06\n",
              "sAycGQ1FeKGvtkA9YMINwHZMCtIdlXBxGV4bJj3G1zIJ5uNs4zcTO1FyiAuOWSVsvRbYKz5huihu\n",
              "64+9SMrbLKlw6jpQUNCcDqFESIMeuClz3fVsWUqspqR5kQwv3s9bEHt+banSkWfz3O+UBgUhzpEl\n",
              "yPmeJTgOCSnEOx+JOJWseJxDdpGPG3LMpH/+yUl3A41hHz5EMMLlfAeOjsdFCbnpM/IN+Sa0Zpag\n",
              "6IeVVvw/wBphV8uJddQ5L+DwTgF+AKLdEiZgoJ7EOBlwW06mUH/sIK4NqhjNHr+AyjnEEYSFEU5p\n",
              "q7aTste3uFPzO1VquOGXtU3TxkIbXKyOBln9ckUliwOTphFDCMskEYeR1Y7B0JfNFRddOjOcKssk\n",
              "rtZ1HxKpS1mXPumj0N92+WXW8uhK/U9eDFxoWMCyT3LS6zH2O/veqWa0V2+Rftigot+vcDnUyq3N\n",
              "IMUdzb2q8FU5erquAQzuVXfCfoUThSe11u3JZlDuNJFO8pFWyXVCtxPENX/e+tiXs85IEK5FDtsW\n",
              "cg+jo4LaJ8elMXT5dD5hU2J08s2clpp3hvRvRnrNnzhFUEAcNbyJTsyRFlc5GjyjFBBp42JZS1zQ\n",
              "fnLcKCz29+MYHlep4GFf7l1+C9ICFlBY7h4w3yjoi2H0cjLiyt0sGhXe+Tr3XjqnFDFSjSYYG/mV\n",
              "Pv9xLBs7Y7Hwr7ckgyR7PyIL3iDBWkhGQiQnA+kFwDCZ8nK9UGwsGYquuAjXprNf8IEssVEfaSuW\n",
              "wHPXbRSO8B52m8J22Lnu83iiEOFGC4tEk8sMERqrNkzIRnwRqX5GlzEioEoP0VIYTBCwF9wB3E0O\n",
              "vrqSTqujPUYpBAwHN5MeoAC29PVEMq9sjkU/GgNtAOLRToID6mXD/cYGjeolElcCA+yGXxBBNcju\n",
              "Cc1W2osHeZG2MiWOKSDxummyJxPK1YhE4TnOOzQap9LwaXDd8P0xKexKYVOQXpczCRkRqcD/tSJo\n",
              "iF0llFI8PIiwbYN1BTi1Sa5Nvq46SZm649Rr+ZtmZ+naTMb2n277VF9ulUbJ47mKZ2jvZJHO4P6g\n",
              "UaHM0kt/nowBahEnw3xq3yHpoGXfU/spuKfSkcilVPFAjeukIHmNJt0D8yQLmfT4UBFgFRiSAFVx\n",
              "JSDrX5D8HcV0qgFhTANo6xvBLkNu+ZbJkfaWwtUfBEkuqH9rfgxpiPbLfMlNGFnR5roxt5wfsHwr\n",
              "VqIwPf33VdLRUaaNReTzzXvJTNctAPozSiFqbC14AR4HGP83TpFkdWexIr7L7/jIBP9n5K7a0B55\n",
              "iLKvvwdaY5Az13l0GubZP8+kAtf6Pw2ry8H6/6ckUbxIRx4pTDOIGEkIb4ip+UT+kkGcEik/uaYv\n",
              "3fBBzHp1NWrwqwUGecmGqSS8SyHUWG6Wp1WJvJuHvw1kAX9FhHEInRVfN0achAs2pQrkvLzhtaJS\n",
              "pPa3Ep9COYVJ+JILpTrzEE988ima9aGyXuf8Y5ztdJniTwN9nTqPHEOEbx7LJHdkhQUjQp/b4QML\n",
              "PyqX9fdnwsaPPgwFWd3MFMCUZttmgyGPjHEuwjeZEfBZL8VGEGit4KcG6ersmX8kmhWPMgVYjMXm\n",
              "OKCpkyERM6myjHKF1dOruQNAaVjFAmnWyT1Zg03L+pG0IzX+0jQbOOcN03xmmVnxEAfPHGuvnP2d\n",
              "PWLE/y6g3giLUfKtiUdu8XL0oYUq9QCsvekxGP4MypIsHAGamHf5WeYBn1W0z6INOYrwsytd8gCw\n",
              "6/ds19DRcLNQMYZgSVToh+EoN+yCjVBUOeDmEmkMiJ6LyWqy0+BFwFuyIbjq/1AMZROk+Uqjs6xu\n",
              "tR5KN9YlOqnivRp7WU5ac6gBuGPv8fdB3zhPFSarumfLU83OG3XvDEuCPHB0CwXgmOxiq1ZR7S+x\n",
              "YO1n3iPlB+R67Y2bfU9V0zPwWSHo2qz59IDRyi8o7tJQvwznVlUtQ32IhwvDiwAAACxBn7dFFSwQ\n",
              "/wAALD8+0xNeOy0zI4wSaRrMbKtA+otTYWX8WimqHtO3nNM8YQAAABABn9hqQ/8AAAQ2DaK0jWbo\n",
              "AAAAQEGb3UmoQWyZTAgp//7WjLAAAaipgZ2oADmZttK2fUFNJ8fMXtW0GEGbt5/xC9slaTKIBZIM\n",
              "IOSOJxPMxPdnLMEAAAEwQZ/7RRUsEP8AACz1HyiWijAFl3fmqRZssFdM2oimQ25S9/caQy41PLcS\n",
              "7b5cVd5NMACMgB769LamlBE7qIYxQPm691Dzx0HSX1qYsmlHtxp07f+QognJqw3r898nTYfFoB38\n",
              "EwZ37SXCxwRtT5TMSOoRJLqZUnPW4VJ/PCuzQC4FcBRlmLzSF4ggPC3BKNQnjViHEuIwXg1ki5vc\n",
              "lO7LUPWbL5lEgBoW1LZvG20sD6bAlfsC1U+PC9Xmj1L4DMLeeOqwvp68mDkaA4CWOM2nGqiDRrHx\n",
              "sUvlSV33JvgddNx309VfyXUXDdL4pev5SJznrAYF1AAGhJGxGYgkBEHwTPbxdeuiDaepuwREw21p\n",
              "i2710k5NW6IRMkjZBsinpj2V8Nmg74mB1xLYAZQ+c0NOngAAADIBnhp0Q/8AAGRujCD1yUXlmoJM\n",
              "uUYWZhEABj56pRU3a5SRMO308XPW4lF78cnjPXhNQQAAADMBnhxqQ/8AAGR8c1E3RMrljlBdbBUO\n",
              "Bb+gALnMUFHcuZk4+t8G5swjAh5mXWZrQzwhW0EAAAAUQZoBSahBbJlMCCn//taMsAAAB9wAAAAY\n",
              "QZ4/RRUsEP8AABWS00yQpsix8b+Qh9m4AAAAEAGeXnRD/wAABDVypcECzdEAAAAQAZ5AakP/AAAE\n",
              "Ng2itI1m6AAAABhBmkVJqEFsmUwIKf/+1oywAABlLM+EG/EAAAAXQZ5jRRUsEP8AABWS00yQynhN\n",
              "kgVrp7AAAAAQAZ6CdEP/AAAENXKlwQLN0QAAAA8BnoRqQ/8AAAMBDYNo2oEAAAAhQZqJSahBbJlM\n",
              "CCf//rUqgAAA33kXAQgm5Hx6Us9CMX0hAAAAFUGep0UVLBD/AAAVktNMkMpqQswh6QAAAA4BnsZ0\n",
              "Q/8AAAMBDVypwQAAAA8BnshqQ/8AAAMBDYNo2oAAAAAoQZrNSahBbJlMCCf//rUqgAAA3m4Ppb0s\n",
              "Yb7DqPpIg0XVsXZ86B7HgQAAABVBnutFFSwQ/wAAFZLTTJDKakLMIegAAAAOAZ8KdEP/AAADAQ1c\n",
              "qcEAAAAPAZ8MakP/AAADAQ2DaNqBAAAC0EGbEEmoQWyZTAgp//7WjLAAApYN6nFAF/3dcsu1Xci1\n",
              "aicNHVQKaK4LosixeVFrYQZA++2H/4l492r36CZB7+3SpaWJnBSRqmi+YZAUAEv7LsBVoPd74pd5\n",
              "dJJ1ZZ72sgr7tcLqZui1NX0ZTS60DPYs/G+o94OwhoeVJ4gV01ephllcaf8nCZOPe/HJdGUuXl7l\n",
              "GGe/A1jYiEfRoESbl4cNZoHMZHQ2NuoPz7M6aCCd3e4mt2bXlW721nmhsbYgPRjfll5fdcFjT2y4\n",
              "EQ964dVTL/4o0U7SZcj0nnKMh82qQ9FrKU4hH7Ob9Zt+7FSH4lvuSg2MpMEYw/N5dWrgQh7F+MJA\n",
              "HIl/mj1QxXcl1KCdbJQYkGkIIp3L9E/mlIkOGOpErBgZviwflsp4jv1FvWcdZl727x5S1qKkWN2y\n",
              "ICdAN7GveI7MTdoJxKCAry5lrfiUy7Cumaf6a7c7ZE8tSjb9irA3LU6U9Z4rsur0YA//92YenSxu\n",
              "VqpRoSum8OIA0fZo/TvNUetRmq3pgO7LGJwwkSeIekEE8Pjxk3jmHDYRlb+hxkiMq5GQS0LX543L\n",
              "9uBMPYgTYPE1ZEC7jt/eIngmvGoVfGhKwmgi/Uw3TneZR8FEmq21nB6gegcY0Z1Bhsdq+S9Y1BoZ\n",
              "yjl5D7Zgfmc+Sxg7PotbXDTr15wMZ6A8gUtr4OCAM+Ii4wiHQPvzzD1gXd+1NEiuXREQc08LWVW8\n",
              "gFjnAofMIKWyqpXWC+oQTXwxOI6bhU1QH1R4Ul5MwwxW10MZvOh/KG+3CO54bv6YUh4tHu/wVY+b\n",
              "0I9aLwc9FhAC2EB9kXiK4oWSTQZ8nAyAwhWIatQNDU0rtmeuMftJ3aA3DcA2tuVTYnA7hvYGIoDH\n",
              "q1Q2m1mZAdFWJmWrioGZa1GvzyLPP8T0ibSuGlhjW0I5VH/udQtc7Q47ekoFumIfPS3/eHGJ91uY\n",
              "3HMlzwAAACRBny5FFSwQ/wAAFZLTWjxPQMAPF6kSaPAksEvb2sRacOsqfcEAAAEkAZ9PakP/AABk\n",
              "d+xGBEFj166gAnQkHh8f4CGalp0OkRcLk/4hJW2xTcPePUScCC/ZdXoqJhvwQS9zQzzAKGUnPWQu\n",
              "2CViwPJJll/U6lbKNoFGS3811KeGUzsvmUef/ME25e8hyx6PRtrlHnbm1IAjMsgf0hlzoI3jew7O\n",
              "yBxVxyFZF0VzEPLucgjFAZSfAcoK/VEHa8+fH4E69TpwHb7TeAE0GIJMeKuXnG34/UybAxPMuUSR\n",
              "fsn5J75D16bHyyiS3wIS9RaqMCVM5NGN4ixyVQbCYTppV6+YIppODaFfHTYEwKgcgynCqonegVSJ\n",
              "ikQwoXQTX05CKNpqg6AuwTCrH0fAJY5wMi075QSTZJAOywej/23QVB2bzZRXa8MAwJpZsvKq6AAA\n",
              "ANxBm1RJqEFsmUwIJ//+tSqAAEZycckJOADdFbUF8Zh3kaowBkH52MofNf9w5m1w6ft6WbOAukXs\n",
              "lXfspxqgI2l++QIZUygMkuVY+ye5FMPKMOVUEJcgrxluxXmN7+FqqxI6dAd9hEiCiRvjqoMKI5ac\n",
              "XtYtP62EutvZbI8h2ZGBJPDN/yFfZLxTLqPVS4C2AETv8w0DXWHxIHEcHT0GVB0LJTBdLOVlGXHD\n",
              "VgXyaIyZooUcWZFKSR+YcpFC/QAWaYoYnNvJ5Qlh+IZI2I6DOw2R5ErInFr+Hl3730xgAAABGEGf\n",
              "ckUVLBD/AABYhe9x5/K80aG2hfsSTC+DvtdJaLAheN45TEk8MKrcjzwPcaWjFU3I13wXVYAbqffR\n",
              "tHETX5mmi2ewFpeS4jO0c5kI8BNMrvdB3+l5upcHgyO1ZvvPb0JXHqUXJ8DzYCQ2TGGMG9tBY/rZ\n",
              "ueUe2RSme4V/p8/fSfDTXg/njMk70aP7NY/oRGfHuwSH3MvL4lwBWrEOJcRguVLJFze5UTjfdqbB\n",
              "FMSHW+7n7bCplMRQ+pUNNgujPMmWUtulud9V9+yqNg0CEzXQU5wgFvonx52JPiXFVsRf5RSXdcEi\n",
              "RXqwYGa4yHKzFP5LS2sAWhWCCECt7HxKp6UmPEoAtgdSRsg2ND1SlXF8u/zv3ZSCFV0AAAAxAZ+R\n",
              "dEP/AABkbowg9clF5ZqCTLlGAukrEYAd/nq8I1XXaIhfHK9zuF8mgK1AkryJgAAAACoBn5NqQ/8A\n",
              "AMPmkvWppNxj3JkWv5pRBb8GNAIBM+DuuqLZw16xF6oiecAAAAIoQZuYSahBbJlMCCf//rUqgABG\n",
              "HIEcAFagv8XcgkiTu9JJ+1HwSIpc7RoXzSYH0SJRCtFCwtvF2/dUVlr8fFabuP0Y/i0dlYfX1uOT\n",
              "Qg0RebWA0dYY/RwmlzjAptMfuuz10Fzot264V5DiwTBu4j82EUKt95Ir+duDnkQ52wxvsEwhaV7k\n",
              "vSzvkqRbFka0r85hDXLBA3ccYJbkH1Ydc8dYv8TCAWL9KOByXLSpglw739BfEhAzWTm9OvQByfe1\n",
              "zGPQVpvyDLXguKwpbj51NFDtNbW1wv90pjLPImI4g+oy3CrMLhrz3kEiGZQ8kpqgETmyHPlPvH7x\n",
              "NXwhsG6WcudnNwOl5GAG26nr6I7c9rfsi9w1bmuaG/mN4v7XJ9P94KeKlSnXNgyNaH+8m5DMTAEI\n",
              "6fxdmj+I92kVZpeGDeNHcIxkmG+WoYkNPIRg4Im5ArxyqRuZhH6ZHRvqcpw5Zb+ZKFj7k33klfl6\n",
              "5jjKnEkTKyAShxd18JYNTlukcHEClyYvvOqcHFPQF5Dwqo6N9kU3feFwCxztk3xw1rTgIEEBQ52x\n",
              "xuMt35IEJD4wjEibaBeFD9cathq0G2wV5wClR2dWIBTMVWzewO23SYx+i25APIpAOTXm8SRkmipT\n",
              "sUPIrZK2FT+LLhB2wRag3OE/vfc1PG4VQ5mrG2+gCFJUaapBoacdywXRMTMIlsowDu/DiJZWOTUx\n",
              "fZ2ltQ8O5HTl5hNI7nA/04YBoXObAAAALkGftkUVLBD/AAAtYvWNZCCkz/3qqbHb6JqWQJHnAAgy\n",
              "f5Jm2x13ozbMUKVEPsAAAAAQAZ/VdEP/AAAaW6UCnwBN0QAAACsBn9dqQ/8AAMQGWrE1pIQYY1RX\n",
              "l5pUlF4KuD6ABw89yuNKJL8+uxII0p5xAAAAokGb3EmoQWyZTAgn//61KoAAjP90jbBennADAGZz\n",
              "tPhQ7w4e7QXz7cJTZU/0kSHr7L4ANhNXy1VZS3R34J7pP4ecMS6QC959M5xgDS2Ev28KOUgRDTwt\n",
              "bj4XVSXo3ovWG3bzGQO5tPmgCzClcL3h38n4mUPnWh4SlN7p/x89h51I5tHUwP7yZAG9BkSAMs8G\n",
              "F96RsC9WfsYDrXu1Yye5R5ZD2gAAAEJBn/pFFSwQ/wAAWIXvdcKvD1EDMxs4C/WL4zS3Pm+XleZk\n",
              "TOwA+Oetbc/taqEKE5+qf9jUPFDpJdUYfQV6WDJgMYEAAAAYAZ4ZdEP/AAAaW6ZsAKVdFxo+ztyd\n",
              "mKDgAAAALAGeG2pD/wAAw+aS9amk3GPcmRa/mlEFv+lZgBZHT4+EHb5cVa98/RvwANxBAAAAyEGa\n",
              "AEmoQWyZTAgl//61KoAAChcT/yv8uUMAE1qQPvxantDg4pK6+seSL1imxMTUYcdiTvGcU2D1iW6F\n",
              "d8AfOPqc43er5fuJsOaX/hW3yW05hU3fdvtpeGctSysPBBIgrwW4jBJmcHFMvtDTLvzZGafQqKZw\n",
              "rVxQ2o8y0XRaJk0MiKeAL+CgO3y7YKMKsYBrCwIm0HlyS7Y+JBgus85ehZlJJRiGFmdx+rTylBty\n",
              "e0v/i5bNeHJNi037LcKs87HEdHJto41JwEX9AAAAYkGePkUVLBD/AABYi01QMqDp+/k2CZvP5s3k\n",
              "ybuAhWjyvWgBfPXouzO/h+jFB0dcGgABIUjkLj/X5KHckd+ZhcprLhMkzniZ/XiGuv+bC1UsdC6i\n",
              "eepdc5NOOAJv+xAZ0OyAAAAALwGeXXRD/wAAw//i7GzOSC3VG8gcS6Q0PFBSoQAhtupsaBMRuuCV\n",
              "w/tuURF5YxyQAAAALQGeX2pD/wAAw/jxdescSAjC+Loy9nJRY+dhdAA2QJ5ZjWeDbOaO5bH3YaU4\n",
              "4QAAAMBBmkNJqEFsmUwIf//+qZYAAiCzctldvXNQKsuar0qVpEXPt6n7xRbmo0TFe0DuhB8QAFYB\n",
              "/IpGE0TQM08D8Kr1QACdktiMC8vNYIEbMYCN1D4Drijz1ImeY00XE9cjIBZlzRKqnVf/IEANWxF1\n",
              "QM9dSsrFPaAOkgsozywdAsrV15UbsaLfW21YslshWkDHkxSpSnsJzhIcMfLEIrJe+JWSs9bQ1uP4\n",
              "g4KEBauuWmXic6XIid7L8Q/D4EdS+XEA44AAAAA2QZ5hRRUsEP8AAFh+fusrff4q0J3nrJvqb9mK\n",
              "SCQAs5JKM1SqsCPZBdEAJVRD9smGsnVZRkv5AAAAFwGegmpD/wAAGl8eHDRrgefLc/uc4YSAAAAH\n",
              "xm1vb3YAAABsbXZoZAAAAAAAAAAAAAAAAAAAA+gAAE4gAAEAAAEAAAAAAAAAAAAAAAABAAAAAAAA\n",
              "AAAAAAAAAAAAAQAAAAAAAAAAAAAAAAAAQAAAAAAAAAAAAAAAAAAAAAAAAAAAAAAAAAAAAAAAAAIA\n",
              "AAbwdHJhawAAAFx0a2hkAAAAAwAAAAAAAAAAAAAAAQAAAAAAAE4gAAAAAAAAAAAAAAAAAAAAAAAB\n",
              "AAAAAAAAAAAAAAAAAAAAAQAAAAAAAAAAAAAAAAAAQAAAAAGwAAABIAAAAAAAJGVkdHMAAAAcZWxz\n",
              "dAAAAAAAAAABAABOIAAAEAAAAQAAAAAGaG1kaWEAAAAgbWRoZAAAAAAAAAAAAAAAAAAAKAAAAyAA\n",
              "VcQAAAAAAC1oZGxyAAAAAAAAAAB2aWRlAAAAAAAAAAAAAAAAVmlkZW9IYW5kbGVyAAAABhNtaW5m\n",
              "AAAAFHZtaGQAAAABAAAAAAAAAAAAAAAkZGluZgAAABxkcmVmAAAAAAAAAAEAAAAMdXJsIAAAAAEA\n",
              "AAXTc3RibAAAALNzdHNkAAAAAAAAAAEAAACjYXZjMQAAAAAAAAABAAAAAAAAAAAAAAAAAAAAAAGw\n",
              "ASAASAAAAEgAAAAAAAAAAQAAAAAAAAAAAAAAAAAAAAAAAAAAAAAAAAAAAAAAAAAAABj//wAAADFh\n",
              "dmNDAWQAFf/hABhnZAAVrNlBsJaEAAADAAQAAAMAKDxYtlgBAAZo6+PLIsAAAAAcdXVpZGtoQPJf\n",
              "JE/FujmlG88DI/MAAAAAAAAAGHN0dHMAAAAAAAAAAQAAAGQAAAgAAAAAFHN0c3MAAAAAAAAAAQAA\n",
              "AAEAAAMYY3R0cwAAAAAAAABhAAAAAQAAEAAAAAABAAAoAAAAAAEAABAAAAAAAQAAAAAAAAABAAAI\n",
              "AAAAAAEAACgAAAAAAQAAEAAAAAABAAAAAAAAAAEAAAgAAAAAAQAAGAAAAAABAAAIAAAAAAEAACgA\n",
              "AAAAAQAAEAAAAAABAAAAAAAAAAEAAAgAAAAAAQAAKAAAAAABAAAQAAAAAAEAAAAAAAAAAQAACAAA\n",
              "AAABAAAoAAAAAAEAABAAAAAAAQAAAAAAAAABAAAIAAAAAAEAACgAAAAAAQAAEAAAAAABAAAAAAAA\n",
              "AAEAAAgAAAAAAQAAKAAAAAABAAAQAAAAAAEAAAAAAAAAAQAACAAAAAABAAAoAAAAAAEAABAAAAAA\n",
              "AQAAAAAAAAABAAAIAAAAAAEAACgAAAAAAQAAEAAAAAABAAAAAAAAAAEAAAgAAAAAAQAAKAAAAAAB\n",
              "AAAQAAAAAAEAAAAAAAAAAQAACAAAAAABAAAoAAAAAAEAABAAAAAAAQAAAAAAAAABAAAIAAAAAAEA\n",
              "ACgAAAAAAQAAEAAAAAABAAAAAAAAAAEAAAgAAAAAAQAAKAAAAAABAAAQAAAAAAEAAAAAAAAAAQAA\n",
              "CAAAAAABAAAgAAAAAAIAAAgAAAAAAQAAKAAAAAABAAAQAAAAAAEAAAAAAAAAAQAACAAAAAABAAAo\n",
              "AAAAAAEAABAAAAAAAQAAAAAAAAABAAAIAAAAAAEAACgAAAAAAQAAEAAAAAABAAAAAAAAAAEAAAgA\n",
              "AAAAAQAAKAAAAAABAAAQAAAAAAEAAAAAAAAAAQAACAAAAAABAAAoAAAAAAEAABAAAAAAAQAAAAAA\n",
              "AAABAAAIAAAAAAEAACAAAAAAAgAACAAAAAABAAAoAAAAAAEAABAAAAAAAQAAAAAAAAABAAAIAAAA\n",
              "AAEAACgAAAAAAQAAEAAAAAABAAAAAAAAAAEAAAgAAAAAAQAAKAAAAAABAAAQAAAAAAEAAAAAAAAA\n",
              "AQAACAAAAAABAAAoAAAAAAEAABAAAAAAAQAAAAAAAAABAAAIAAAAAAEAACAAAAAAAgAACAAAAAAc\n",
              "c3RzYwAAAAAAAAABAAAAAQAAAGQAAAABAAABpHN0c3oAAAAAAAAAAAAAAGQAABH4AAADuwAAAEAA\n",
              "AAAhAAAAKAAABMIAAAA1AAABoAAAABsAAAQIAAAALgAABn4AAADHAAABUgAAADAAAAD2AAAALwAA\n",
              "ACkAAAAWAAAEVwAAADIAAAAZAAAAKQAABJcAAAGIAAAAMAAAAC0AAAUBAAABUQAAADMAAAA1AAAC\n",
              "WgAAADgAAAAWAAAAMgAAAngAAAA4AAAAFAAAAC0AAAPYAAABtgAAADIAAAArAAAAJQAAABsAAADz\n",
              "AAAAFAAAABgAAAAZAAAAFAAAABQAAAVaAAAAMgAAABQAAAAwAAAGYgAAADAAAAAUAAAARAAAATQA\n",
              "AAA2AAAANwAAABgAAAAcAAAAFAAAABQAAAAcAAAAGwAAABQAAAATAAAAJQAAABkAAAASAAAAEwAA\n",
              "ACwAAAAZAAAAEgAAABMAAALUAAAAKAAAASgAAADgAAABHAAAADUAAAAuAAACLAAAADIAAAAUAAAA\n",
              "LwAAAKYAAABGAAAAHAAAADAAAADMAAAAZgAAADMAAAAxAAAAxAAAADoAAAAbAAAAFHN0Y28AAAAA\n",
              "AAAAAQAAACwAAABidWR0YQAAAFptZXRhAAAAAAAAACFoZGxyAAAAAAAAAABtZGlyYXBwbAAAAAAA\n",
              "AAAAAAAAAC1pbHN0AAAAJal0b28AAAAdZGF0YQAAAAEAAAAATGF2ZjU3LjgzLjEwMA==\n",
              "\">\n",
              "  Your browser does not support the video tag.\n",
              "</video>"
            ],
            "text/plain": [
              "<IPython.core.display.HTML object>"
            ]
          },
          "metadata": {
            "tags": []
          },
          "execution_count": 173
        }
      ]
    },
    {
      "cell_type": "code",
      "metadata": {
        "id": "q1L-w9pnXerH"
      },
      "source": [
        "import random"
      ],
      "execution_count": 174,
      "outputs": []
    },
    {
      "cell_type": "code",
      "metadata": {
        "id": "sjFbsWOsZVoU",
        "outputId": "54a2fb6e-eb82-40ac-9ce4-b8ac2f382292",
        "colab": {
          "base_uri": "https://localhost:8080/",
          "height": 35
        }
      },
      "source": [
        "random.random()"
      ],
      "execution_count": 176,
      "outputs": [
        {
          "output_type": "execute_result",
          "data": {
            "text/plain": [
              "0.9245942131193328"
            ]
          },
          "metadata": {
            "tags": []
          },
          "execution_count": 176
        }
      ]
    },
    {
      "cell_type": "code",
      "metadata": {
        "id": "Yqd04FLmZWul",
        "outputId": "4e63ee28-3326-4a17-9b61-47e5c3be7e1b",
        "colab": {
          "base_uri": "https://localhost:8080/",
          "height": 35
        }
      },
      "source": [
        "random.sample(range(1,50),5)"
      ],
      "execution_count": 178,
      "outputs": [
        {
          "output_type": "execute_result",
          "data": {
            "text/plain": [
              "[21, 25, 43, 31, 34]"
            ]
          },
          "metadata": {
            "tags": []
          },
          "execution_count": 178
        }
      ]
    },
    {
      "cell_type": "code",
      "metadata": {
        "id": "sHfQriWSZkBf"
      },
      "source": [
        ""
      ],
      "execution_count": null,
      "outputs": []
    }
  ]
}