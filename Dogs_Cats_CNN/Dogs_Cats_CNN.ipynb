{
 "cells": [
  {
   "cell_type": "code",
   "execution_count": 1,
   "metadata": {},
   "outputs": [],
   "source": [
    "import pandas"
   ]
  },
  {
   "cell_type": "code",
   "execution_count": 2,
   "metadata": {},
   "outputs": [
    {
     "name": "stdout",
     "output_type": "stream",
     "text": [
      "Tensor Flow Version: 2.1.0\n",
      "Keras Version: 2.2.4-tf\n",
      "\n",
      "Python 3.7.9 (default, Aug 31 2020, 17:10:11) [MSC v.1916 64 bit (AMD64)]\n",
      "Pandas 1.1.1\n",
      "Scikit-Learn 0.23.2\n",
      "GPU is available\n"
     ]
    }
   ],
   "source": [
    "import sys\n",
    "\n",
    "import tensorflow.keras\n",
    "import pandas as pd\n",
    "import sklearn as sk\n",
    "import tensorflow as tf\n",
    "\n",
    "print(f\"Tensor Flow Version: {tf.__version__}\")\n",
    "print(f\"Keras Version: {tensorflow.keras.__version__}\")\n",
    "print()\n",
    "print(f\"Python {sys.version}\")\n",
    "print(f\"Pandas {pd.__version__}\")\n",
    "print(f\"Scikit-Learn {sk.__version__}\")\n",
    "gpu = len(tf.config.list_physical_devices('GPU'))>0\n",
    "print(\"GPU is\", \"available\" if gpu else \"NOT AVAILABLE\")"
   ]
  },
  {
   "cell_type": "code",
   "execution_count": 9,
   "metadata": {},
   "outputs": [],
   "source": [
    "from tensorflow.keras.preprocessing.image import ImageDataGenerator"
   ]
  },
  {
   "cell_type": "code",
   "execution_count": 10,
   "metadata": {},
   "outputs": [
    {
     "data": {
      "text/plain": [
       "'2.1.0'"
      ]
     },
     "execution_count": 10,
     "metadata": {},
     "output_type": "execute_result"
    }
   ],
   "source": [
    "tf.__version__"
   ]
  },
  {
   "cell_type": "code",
   "execution_count": 12,
   "metadata": {},
   "outputs": [
    {
     "name": "stdout",
     "output_type": "stream",
     "text": [
      "Found 8000 images belonging to 2 classes.\n"
     ]
    }
   ],
   "source": [
    "train_datagen = ImageDataGenerator(\n",
    "        rescale=1./255,\n",
    "        shear_range=0.2,\n",
    "        zoom_range=0.2,\n",
    "        horizontal_flip=True)\n",
    "training_set = train_datagen.flow_from_directory(\n",
    "        'D:/Books/study/python/python/Machine+Learning+A-Z+(Codes+and+Datasets)/CNN/Section 40 - Convolutional Neural Networks (CNN)/dataset/training_set',\n",
    "        target_size=(64, 64),\n",
    "        batch_size=32,\n",
    "        class_mode='binary')"
   ]
  },
  {
   "cell_type": "code",
   "execution_count": 13,
   "metadata": {},
   "outputs": [
    {
     "name": "stdout",
     "output_type": "stream",
     "text": [
      "Found 2000 images belonging to 2 classes.\n"
     ]
    }
   ],
   "source": [
    "test_datagen = ImageDataGenerator(rescale=1./255)\n",
    "test_set = test_datagen.flow_from_directory(\n",
    "        'D:/Books/study/python/python/Machine+Learning+A-Z+(Codes+and+Datasets)/CNN/Section 40 - Convolutional Neural Networks (CNN)/dataset/test_set',\n",
    "        target_size=(64, 64),\n",
    "        batch_size=32,\n",
    "        class_mode='binary')"
   ]
  },
  {
   "cell_type": "code",
   "execution_count": 14,
   "metadata": {},
   "outputs": [],
   "source": [
    "cnn = tf.keras.models.Sequential()"
   ]
  },
  {
   "cell_type": "markdown",
   "metadata": {},
   "source": [
    "# Convolution"
   ]
  },
  {
   "cell_type": "code",
   "execution_count": 15,
   "metadata": {},
   "outputs": [],
   "source": [
    "cnn.add(tf.keras.layers.Conv2D(filters=32,kernel_size=3,activation='relu',input_shape=[64,64,3]))"
   ]
  },
  {
   "cell_type": "markdown",
   "metadata": {},
   "source": [
    "# Pooling"
   ]
  },
  {
   "cell_type": "code",
   "execution_count": 17,
   "metadata": {},
   "outputs": [],
   "source": [
    "cnn.add(tf.keras.layers.MaxPool2D(pool_size=2,strides=2))"
   ]
  },
  {
   "cell_type": "markdown",
   "metadata": {},
   "source": [
    "# Second Convolution layer"
   ]
  },
  {
   "cell_type": "code",
   "execution_count": 18,
   "metadata": {},
   "outputs": [],
   "source": [
    "cnn.add(tf.keras.layers.Conv2D(filters=32,kernel_size=3,activation='relu'))\n",
    "cnn.add(tf.keras.layers.MaxPool2D(pool_size=2,strides=2))"
   ]
  },
  {
   "cell_type": "markdown",
   "metadata": {},
   "source": [
    "# Flattening"
   ]
  },
  {
   "cell_type": "code",
   "execution_count": 19,
   "metadata": {},
   "outputs": [],
   "source": [
    "cnn.add(tf.keras.layers.Flatten())"
   ]
  },
  {
   "cell_type": "markdown",
   "metadata": {},
   "source": [
    "# Full Connection"
   ]
  },
  {
   "cell_type": "code",
   "execution_count": 20,
   "metadata": {},
   "outputs": [],
   "source": [
    "cnn.add(tf.keras.layers.Dense(units=128,activation='relu'))"
   ]
  },
  {
   "cell_type": "markdown",
   "metadata": {},
   "source": [
    "# Output Layer"
   ]
  },
  {
   "cell_type": "code",
   "execution_count": 21,
   "metadata": {},
   "outputs": [],
   "source": [
    "cnn.add(tf.keras.layers.Dense(units=1,activation='sigmoid'))"
   ]
  },
  {
   "cell_type": "markdown",
   "metadata": {},
   "source": [
    "# Compiling"
   ]
  },
  {
   "cell_type": "code",
   "execution_count": 22,
   "metadata": {},
   "outputs": [],
   "source": [
    "cnn.compile(optimizer='adam',loss='binary_crossentropy',metrics=['accuracy'])"
   ]
  },
  {
   "cell_type": "markdown",
   "metadata": {},
   "source": [
    "# Training CNN"
   ]
  },
  {
   "cell_type": "code",
   "execution_count": 25,
   "metadata": {},
   "outputs": [
    {
     "name": "stdout",
     "output_type": "stream",
     "text": [
      "WARNING:tensorflow:sample_weight modes were coerced from\n",
      "  ...\n",
      "    to  \n",
      "  ['...']\n",
      "WARNING:tensorflow:sample_weight modes were coerced from\n",
      "  ...\n",
      "    to  \n",
      "  ['...']\n",
      "Train for 250 steps, validate for 63 steps\n",
      "Epoch 1/25\n",
      "250/250 [==============================] - 139s 556ms/step - loss: 0.6518 - accuracy: 0.6194 - val_loss: 0.7351 - val_accuracy: 0.5700\n",
      "Epoch 2/25\n",
      "250/250 [==============================] - 36s 144ms/step - loss: 0.5954 - accuracy: 0.6821 - val_loss: 0.5804 - val_accuracy: 0.7095\n",
      "Epoch 3/25\n",
      "250/250 [==============================] - 34s 137ms/step - loss: 0.5575 - accuracy: 0.7194 - val_loss: 0.5385 - val_accuracy: 0.7430\n",
      "Epoch 4/25\n",
      "250/250 [==============================] - 33s 130ms/step - loss: 0.5257 - accuracy: 0.7379 - val_loss: 0.5100 - val_accuracy: 0.7555\n",
      "Epoch 5/25\n",
      "250/250 [==============================] - 36s 142ms/step - loss: 0.5139 - accuracy: 0.7490 - val_loss: 0.5183 - val_accuracy: 0.7505\n",
      "Epoch 6/25\n",
      "250/250 [==============================] - 35s 142ms/step - loss: 0.4980 - accuracy: 0.7588 - val_loss: 0.4877 - val_accuracy: 0.7595\n",
      "Epoch 7/25\n",
      "250/250 [==============================] - 35s 141ms/step - loss: 0.4844 - accuracy: 0.7632 - val_loss: 0.4603 - val_accuracy: 0.7760\n",
      "Epoch 8/25\n",
      "250/250 [==============================] - 35s 142ms/step - loss: 0.4741 - accuracy: 0.7749 - val_loss: 0.4638 - val_accuracy: 0.7790\n",
      "Epoch 9/25\n",
      "250/250 [==============================] - 36s 144ms/step - loss: 0.4627 - accuracy: 0.7769 - val_loss: 0.4856 - val_accuracy: 0.7745\n",
      "Epoch 10/25\n",
      "250/250 [==============================] - 37s 146ms/step - loss: 0.4566 - accuracy: 0.7844 - val_loss: 0.4546 - val_accuracy: 0.7835\n",
      "Epoch 11/25\n",
      "250/250 [==============================] - 37s 148ms/step - loss: 0.4452 - accuracy: 0.7931 - val_loss: 0.5206 - val_accuracy: 0.7465\n",
      "Epoch 12/25\n",
      "250/250 [==============================] - 36s 144ms/step - loss: 0.4308 - accuracy: 0.7999 - val_loss: 0.4832 - val_accuracy: 0.7715\n",
      "Epoch 13/25\n",
      "250/250 [==============================] - 33s 131ms/step - loss: 0.4267 - accuracy: 0.8018 - val_loss: 0.5314 - val_accuracy: 0.7575\n",
      "Epoch 14/25\n",
      "250/250 [==============================] - 32s 130ms/step - loss: 0.4189 - accuracy: 0.8050 - val_loss: 0.4468 - val_accuracy: 0.7930\n",
      "Epoch 15/25\n",
      "250/250 [==============================] - 32s 129ms/step - loss: 0.4034 - accuracy: 0.8124 - val_loss: 0.4632 - val_accuracy: 0.7870\n",
      "Epoch 16/25\n",
      "250/250 [==============================] - 32s 130ms/step - loss: 0.4026 - accuracy: 0.8169 - val_loss: 0.4314 - val_accuracy: 0.8010\n",
      "Epoch 17/25\n",
      "250/250 [==============================] - 33s 130ms/step - loss: 0.3983 - accuracy: 0.8146 - val_loss: 0.4378 - val_accuracy: 0.7960\n",
      "Epoch 18/25\n",
      "250/250 [==============================] - 33s 130ms/step - loss: 0.3865 - accuracy: 0.8230 - val_loss: 0.4717 - val_accuracy: 0.7780\n",
      "Epoch 19/25\n",
      "250/250 [==============================] - 32s 129ms/step - loss: 0.3806 - accuracy: 0.8286 - val_loss: 0.4455 - val_accuracy: 0.8055\n",
      "Epoch 20/25\n",
      "250/250 [==============================] - 33s 132ms/step - loss: 0.3697 - accuracy: 0.8347 - val_loss: 0.4417 - val_accuracy: 0.8045\n",
      "Epoch 21/25\n",
      "250/250 [==============================] - 33s 130ms/step - loss: 0.3607 - accuracy: 0.8386 - val_loss: 0.4402 - val_accuracy: 0.8005\n",
      "Epoch 22/25\n",
      "250/250 [==============================] - 32s 129ms/step - loss: 0.3592 - accuracy: 0.8380 - val_loss: 0.4444 - val_accuracy: 0.8025\n",
      "Epoch 23/25\n",
      "250/250 [==============================] - 32s 130ms/step - loss: 0.3520 - accuracy: 0.8450 - val_loss: 0.4393 - val_accuracy: 0.8030\n",
      "Epoch 24/25\n",
      "250/250 [==============================] - 32s 130ms/step - loss: 0.3392 - accuracy: 0.8501 - val_loss: 0.4515 - val_accuracy: 0.8090\n",
      "Epoch 25/25\n",
      "250/250 [==============================] - 33s 132ms/step - loss: 0.3260 - accuracy: 0.8569 - val_loss: 0.4253 - val_accuracy: 0.8130\n"
     ]
    },
    {
     "data": {
      "text/plain": [
       "<tensorflow.python.keras.callbacks.History at 0x2e47ce41388>"
      ]
     },
     "execution_count": 25,
     "metadata": {},
     "output_type": "execute_result"
    }
   ],
   "source": [
    "cnn.fit(x=training_set,validation_data=test_set,epochs=25)"
   ]
  },
  {
   "cell_type": "markdown",
   "metadata": {},
   "source": [
    "# Single Prediction"
   ]
  },
  {
   "cell_type": "code",
   "execution_count": 38,
   "metadata": {},
   "outputs": [
    {
     "name": "stdout",
     "output_type": "stream",
     "text": [
      "cat\n"
     ]
    }
   ],
   "source": [
    "import numpy as np\n",
    "from tensorflow.keras.preprocessing import image\n",
    "test_image = image.load_img('D:/Books/study/python/python/Machine+Learning+A-Z+(Codes+and+Datasets)/CNN/Section 40 - Convolutional Neural Networks (CNN)/dataset/single_prediction/cat_or_dog_4.jpg',target_size=(64,64))\n",
    "test_image = image.img_to_array(test_image)\n",
    "test_image = np.expand_dims(test_image,axis=0)\n",
    "result = cnn.predict(test_image)\n",
    "training_set.class_indices\n",
    "if result[0][0] == 1:\n",
    "    prediction = 'dog'\n",
    "else:\n",
    "    prediction = 'cat'\n",
    "print(prediction)"
   ]
  }
 ],
 "metadata": {
  "kernelspec": {
   "display_name": "Python 3.7 (tensorflow)",
   "language": "python",
   "name": "tensorflow"
  },
  "language_info": {
   "codemirror_mode": {
    "name": "ipython",
    "version": 3
   },
   "file_extension": ".py",
   "mimetype": "text/x-python",
   "name": "python",
   "nbconvert_exporter": "python",
   "pygments_lexer": "ipython3",
   "version": "3.7.9"
  }
 },
 "nbformat": 4,
 "nbformat_minor": 4
}
